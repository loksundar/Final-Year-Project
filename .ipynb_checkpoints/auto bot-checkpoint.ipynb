{
 "cells": [
  {
   "cell_type": "code",
   "execution_count": 1,
   "metadata": {},
   "outputs": [],
   "source": [
    "import pandas as pd\n",
    "import numpy as np\n",
    "from gtts import gTTS\n",
    "from playsound import playsound\n",
    "import os"
   ]
  },
  {
   "cell_type": "code",
   "execution_count": 2,
   "metadata": {},
   "outputs": [],
   "source": [
    "def pl(t):\n",
    "    myobj = gTTS(text=t, lang='en', slow=False) \n",
    "    myobj.save(\"welcome.mp3\")\n",
    "    playsound('welcome.mp3')\n",
    "    os.remove('welcome.mp3')"
   ]
  },
  {
   "cell_type": "code",
   "execution_count": 3,
   "metadata": {},
   "outputs": [],
   "source": [
    "def ai(df):\n",
    "    pl(\"Welcome to Data Science Bot\")\n",
    "    dog = pd.read_csv(df)\n",
    "    dog = pd.DataFrame(dog)\n",
    "    pl(\"Now we will see the Bivariate analysis of length and heigth in your data set\")\n",
    "    co =np.corrcoef(dog['length(m)'],dog['height(cm)'])\n",
    "    if(abs(co[0][1])<0.1 and abs(co[1][0])<0.1):\n",
    "        voice = \"The Both features are not correlated\"\n",
    "    elif(abs(co[0][1])>0.5 or abs(co[1][1])>0.5):\n",
    "        voice = \"The Both features are higly correlated\"\n",
    "    pl(voice)\n",
    "    dog.plot.scatter('length(m)','height(cm)')\n",
    "    voice =\"We can see the relationship of both variables in the graph\"\n",
    "    pl(voice)"
   ]
  },
  {
   "cell_type": "code",
   "execution_count": 4,
   "metadata": {},
   "outputs": [],
   "source": [
    "import pyttsx3\n",
    "engine = pyttsx3.init()\n",
    "engine.say(\"LGBMClassifier(boosting_type='gbdt',\")\n",
    "engine.runAndWait()"
   ]
  },
  {
   "cell_type": "code",
   "execution_count": null,
   "metadata": {},
   "outputs": [],
   "source": []
  },
  {
   "cell_type": "code",
   "execution_count": null,
   "metadata": {},
   "outputs": [],
   "source": []
  }
 ],
 "metadata": {
  "kernelspec": {
   "display_name": "Python 3",
   "language": "python",
   "name": "python3"
  },
  "language_info": {
   "codemirror_mode": {
    "name": "ipython",
    "version": 3
   },
   "file_extension": ".py",
   "mimetype": "text/x-python",
   "name": "python",
   "nbconvert_exporter": "python",
   "pygments_lexer": "ipython3",
   "version": "3.8.3"
  }
 },
 "nbformat": 4,
 "nbformat_minor": 4
}
