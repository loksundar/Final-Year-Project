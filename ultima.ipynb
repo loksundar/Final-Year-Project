{
 "cells": [
  {
   "cell_type": "code",
   "execution_count": 1,
   "metadata": {},
   "outputs": [],
   "source": [
    "import logging\n",
    "import os\n",
    "import time\n",
    "import requests\n",
    "logging.basicConfig(format='[%(asctime)s] (%(levelname)s): %(message)s', level=logging.INFO)\n",
    "\n",
    "# Installed libraries\n",
    "import numpy as np\n",
    "import pandas as pd\n",
    "from sklearn.metrics import roc_auc_score\n",
    "from sklearn.model_selection import train_test_split\n",
    "import torch\n",
    "\n",
    "# Imports from our package\n",
    "from lightautoml.automl.presets.tabular_presets import TabularAutoML, TabularUtilizedAutoML\n",
    "from lightautoml.dataset.roles import DatetimeRole\n",
    "from lightautoml.tasks import Task\n",
    "from lightautoml.utils.profiler import Profiler"
   ]
  },
  {
   "cell_type": "code",
   "execution_count": 2,
   "metadata": {},
   "outputs": [],
   "source": [
    "N_THREADS = 8 # threads cnt for lgbm and linear models\n",
    "N_FOLDS = 5 # folds cnt for AutoML\n",
    "RANDOM_STATE = 42 # fixed random state for various reasons\n",
    "TEST_SIZE = 0.2 # Test size for metric check\n",
    "TIMEOUT = 1200 # Time in seconds for automl run\n",
    "TARGET_NAME = 'Is_Lead' # Target column name"
   ]
  },
  {
   "cell_type": "code",
   "execution_count": 3,
   "metadata": {},
   "outputs": [],
   "source": [
    "np.random.seed(RANDOM_STATE)\n",
    "torch.set_num_threads(N_THREADS)"
   ]
  },
  {
   "cell_type": "code",
   "execution_count": 4,
   "metadata": {},
   "outputs": [
    {
     "data": {
      "text/html": [
       "<div>\n",
       "<style scoped>\n",
       "    .dataframe tbody tr th:only-of-type {\n",
       "        vertical-align: middle;\n",
       "    }\n",
       "\n",
       "    .dataframe tbody tr th {\n",
       "        vertical-align: top;\n",
       "    }\n",
       "\n",
       "    .dataframe thead th {\n",
       "        text-align: right;\n",
       "    }\n",
       "</style>\n",
       "<table border=\"1\" class=\"dataframe\">\n",
       "  <thead>\n",
       "    <tr style=\"text-align: right;\">\n",
       "      <th></th>\n",
       "      <th>Gender</th>\n",
       "      <th>Age</th>\n",
       "      <th>Region_Code</th>\n",
       "      <th>Occupation</th>\n",
       "      <th>Channel_Code</th>\n",
       "      <th>Vintage</th>\n",
       "      <th>Credit_Product</th>\n",
       "      <th>Avg_Account_Balance</th>\n",
       "      <th>Is_Active</th>\n",
       "      <th>Is_Lead</th>\n",
       "    </tr>\n",
       "  </thead>\n",
       "  <tbody>\n",
       "    <tr>\n",
       "      <th>0</th>\n",
       "      <td>Female</td>\n",
       "      <td>73</td>\n",
       "      <td>RG268</td>\n",
       "      <td>Other</td>\n",
       "      <td>X3</td>\n",
       "      <td>43</td>\n",
       "      <td>No</td>\n",
       "      <td>1045696</td>\n",
       "      <td>No</td>\n",
       "      <td>0</td>\n",
       "    </tr>\n",
       "    <tr>\n",
       "      <th>1</th>\n",
       "      <td>Female</td>\n",
       "      <td>30</td>\n",
       "      <td>RG277</td>\n",
       "      <td>Salaried</td>\n",
       "      <td>X1</td>\n",
       "      <td>32</td>\n",
       "      <td>No</td>\n",
       "      <td>581988</td>\n",
       "      <td>No</td>\n",
       "      <td>0</td>\n",
       "    </tr>\n",
       "    <tr>\n",
       "      <th>2</th>\n",
       "      <td>Female</td>\n",
       "      <td>56</td>\n",
       "      <td>RG268</td>\n",
       "      <td>Self_Employed</td>\n",
       "      <td>X3</td>\n",
       "      <td>26</td>\n",
       "      <td>No</td>\n",
       "      <td>1484315</td>\n",
       "      <td>Yes</td>\n",
       "      <td>0</td>\n",
       "    </tr>\n",
       "    <tr>\n",
       "      <th>3</th>\n",
       "      <td>Male</td>\n",
       "      <td>34</td>\n",
       "      <td>RG270</td>\n",
       "      <td>Salaried</td>\n",
       "      <td>X1</td>\n",
       "      <td>19</td>\n",
       "      <td>No</td>\n",
       "      <td>470454</td>\n",
       "      <td>No</td>\n",
       "      <td>0</td>\n",
       "    </tr>\n",
       "    <tr>\n",
       "      <th>4</th>\n",
       "      <td>Female</td>\n",
       "      <td>30</td>\n",
       "      <td>RG282</td>\n",
       "      <td>Salaried</td>\n",
       "      <td>X1</td>\n",
       "      <td>33</td>\n",
       "      <td>No</td>\n",
       "      <td>886787</td>\n",
       "      <td>No</td>\n",
       "      <td>0</td>\n",
       "    </tr>\n",
       "  </tbody>\n",
       "</table>\n",
       "</div>"
      ],
      "text/plain": [
       "   Gender  Age Region_Code     Occupation Channel_Code  Vintage  \\\n",
       "0  Female   73       RG268          Other           X3       43   \n",
       "1  Female   30       RG277       Salaried           X1       32   \n",
       "2  Female   56       RG268  Self_Employed           X3       26   \n",
       "3    Male   34       RG270       Salaried           X1       19   \n",
       "4  Female   30       RG282       Salaried           X1       33   \n",
       "\n",
       "  Credit_Product  Avg_Account_Balance Is_Active  Is_Lead  \n",
       "0             No              1045696        No        0  \n",
       "1             No               581988        No        0  \n",
       "2             No              1484315       Yes        0  \n",
       "3             No               470454        No        0  \n",
       "4             No               886787        No        0  "
      ]
     },
     "execution_count": 4,
     "metadata": {},
     "output_type": "execute_result"
    }
   ],
   "source": [
    "data = pd.read_csv('train.csv')\n",
    "data.drop([\"ID\"],inplace=True,axis=1)\n",
    "data.head()"
   ]
  },
  {
   "cell_type": "code",
   "execution_count": 5,
   "metadata": {},
   "outputs": [
    {
     "name": "stderr",
     "output_type": "stream",
     "text": [
      "[2021-05-30 23:00:16,940] (INFO): Data splitted. Parts sizes: train_data = (196580, 10), test_data = (49145, 10)\n"
     ]
    }
   ],
   "source": [
    "train_data, test_data = train_test_split(data, \n",
    "                                         test_size=TEST_SIZE, \n",
    "                                         stratify=data[TARGET_NAME], \n",
    "                                         random_state=RANDOM_STATE)\n",
    "logging.info('Data splitted. Parts sizes: train_data = {}, test_data = {}'\n",
    "              .format(train_data.shape, test_data.shape))"
   ]
  },
  {
   "cell_type": "code",
   "execution_count": 6,
   "metadata": {},
   "outputs": [],
   "source": [
    "task = Task('binary', )\n",
    "roles = {'target': TARGET_NAME,\n",
    "         DatetimeRole(base_date=True, seasonality=(), base_feats=False): 'report_dt',\n",
    "         }"
   ]
  },
  {
   "cell_type": "code",
   "execution_count": 7,
   "metadata": {},
   "outputs": [
    {
     "name": "stderr",
     "output_type": "stream",
     "text": [
      "Copying TaskTimer may affect the parent PipelineTimer, so copy will create new unlimited TaskTimer\n"
     ]
    },
    {
     "name": "stdout",
     "output_type": "stream",
     "text": [
      "Start automl preset with listed constraints:\n",
      "- time: 1200 seconds\n",
      "- cpus: 8 cores\n",
      "- memory: 16 gb\n",
      "\n",
      "Train data shape: (196580, 10)\n"
     ]
    },
    {
     "name": "stderr",
     "output_type": "stream",
     "text": [
      "[2021-05-30 23:00:31,351] (INFO): NumExpr defaulting to 8 threads.\n"
     ]
    },
    {
     "name": "stdout",
     "output_type": "stream",
     "text": [
      "Feats was rejected during automatic roles guess: []\n",
      "\n",
      "\n",
      "Layer 1 ...\n",
      "Train process start. Time left 1136.9654006958008 secs\n",
      "Start fitting Lvl_0_Pipe_0_Mod_0_LinearL2 ...\n",
      "\n",
      "===== Start working with fold 0 for Lvl_0_Pipe_0_Mod_0_LinearL2 =====\n",
      "\n",
      "Linear model: C = 1e-05 score = 0.8504683275295782\n",
      "Linear model: C = 5e-05 score = 0.8534385326955437\n",
      "Linear model: C = 0.0001 score = 0.8548011643312085\n",
      "Linear model: C = 0.0005 score = 0.8570678842336252\n",
      "Linear model: C = 0.001 score = 0.8573890292403565\n",
      "Linear model: C = 0.005 score = 0.8575743276209662\n",
      "Linear model: C = 0.01 score = 0.8575743276209662\n",
      "Linear model: C = 0.05 score = 0.8575743276209662\n",
      "\n",
      "===== Start working with fold 1 for Lvl_0_Pipe_0_Mod_0_LinearL2 =====\n",
      "\n",
      "Linear model: C = 1e-05 score = 0.8576690228503504\n",
      "Linear model: C = 5e-05 score = 0.8606664513305136\n",
      "Linear model: C = 0.0001 score = 0.8620286467638758\n",
      "Linear model: C = 0.0005 score = 0.8639402819025314\n",
      "Linear model: C = 0.001 score = 0.8639768889293786\n",
      "Linear model: C = 0.005 score = 0.8639556187039829\n",
      "Linear model: C = 0.01 score = 0.8639556187039829\n",
      "\n",
      "===== Start working with fold 2 for Lvl_0_Pipe_0_Mod_0_LinearL2 =====\n",
      "\n",
      "Linear model: C = 1e-05 score = 0.8582415365848235\n",
      "Linear model: C = 5e-05 score = 0.8608796148147746\n",
      "Linear model: C = 0.0001 score = 0.8622250700909168\n",
      "Linear model: C = 0.0005 score = 0.8641816233404559\n",
      "Linear model: C = 0.001 score = 0.8642980714781114\n",
      "Linear model: C = 0.005 score = 0.864295872589455\n",
      "Linear model: C = 0.01 score = 0.864295872589455\n",
      "\n",
      "===== Start working with fold 3 for Lvl_0_Pipe_0_Mod_0_LinearL2 =====\n",
      "\n",
      "Linear model: C = 1e-05 score = 0.8475964770442818\n",
      "Linear model: C = 5e-05 score = 0.8502560257236365\n",
      "Linear model: C = 0.0001 score = 0.8515478388428426\n",
      "Linear model: C = 0.0005 score = 0.8531641364191953\n",
      "Linear model: C = 0.001 score = 0.8531607647899218\n",
      "Linear model: C = 0.005 score = 0.8528349735135816\n",
      "\n",
      "===== Start working with fold 4 for Lvl_0_Pipe_0_Mod_0_LinearL2 =====\n",
      "\n",
      "Linear model: C = 1e-05 score = 0.8566191429025201\n",
      "Linear model: C = 5e-05 score = 0.859428439474821\n",
      "Linear model: C = 0.0001 score = 0.8607241515990354\n",
      "Linear model: C = 0.0005 score = 0.8623471638305056\n",
      "Linear model: C = 0.001 score = 0.8623992614022389\n",
      "Linear model: C = 0.005 score = 0.8624053950501909\n",
      "Linear model: C = 0.01 score = 0.8624053950501909\n",
      "Linear model: C = 0.05 score = 0.8624053950501909\n",
      "Lvl_0_Pipe_0_Mod_0_LinearL2 fitting and predicting completed\n",
      "Time left 1087.7460842132568\n",
      "Start fitting Selector_LightGBM ...\n",
      "\n",
      "===== Start working with fold 0 for Selector_LightGBM =====\n",
      "\n",
      "Training until validation scores don't improve for 100 rounds\n",
      "[100]\tvalid's auc: 0.871499\n",
      "[200]\tvalid's auc: 0.870974\n",
      "Early stopping, best iteration is:\n",
      "[124]\tvalid's auc: 0.871851\n",
      "Selector_LightGBM fitting and predicting completed\n",
      "Start fitting Lvl_0_Pipe_1_Mod_0_LightGBM ...\n",
      "\n",
      "===== Start working with fold 0 for Lvl_0_Pipe_1_Mod_0_LightGBM =====\n",
      "\n",
      "Training until validation scores don't improve for 100 rounds\n",
      "[100]\tvalid's auc: 0.872246\n",
      "[200]\tvalid's auc: 0.872318\n",
      "Early stopping, best iteration is:\n",
      "[121]\tvalid's auc: 0.87273\n",
      "\n",
      "===== Start working with fold 1 for Lvl_0_Pipe_1_Mod_0_LightGBM =====\n",
      "\n",
      "Training until validation scores don't improve for 100 rounds\n",
      "[100]\tvalid's auc: 0.877296\n",
      "[200]\tvalid's auc: 0.877359\n",
      "Early stopping, best iteration is:\n",
      "[120]\tvalid's auc: 0.877575\n",
      "\n",
      "===== Start working with fold 2 for Lvl_0_Pipe_1_Mod_0_LightGBM =====\n",
      "\n",
      "Training until validation scores don't improve for 100 rounds\n",
      "[100]\tvalid's auc: 0.878212\n",
      "[200]\tvalid's auc: 0.877823\n",
      "Early stopping, best iteration is:\n",
      "[118]\tvalid's auc: 0.878317\n",
      "\n",
      "===== Start working with fold 3 for Lvl_0_Pipe_1_Mod_0_LightGBM =====\n",
      "\n",
      "Training until validation scores don't improve for 100 rounds\n",
      "[100]\tvalid's auc: 0.867117\n",
      "Early stopping, best iteration is:\n",
      "[95]\tvalid's auc: 0.867187\n",
      "\n",
      "===== Start working with fold 4 for Lvl_0_Pipe_1_Mod_0_LightGBM =====\n",
      "\n",
      "Training until validation scores don't improve for 100 rounds\n",
      "[100]\tvalid's auc: 0.875951\n",
      "[200]\tvalid's auc: 0.87628\n",
      "Early stopping, best iteration is:\n",
      "[193]\tvalid's auc: 0.876381\n",
      "Lvl_0_Pipe_1_Mod_0_LightGBM fitting and predicting completed\n",
      "Optuna may run 167.71370452100578 secs\n"
     ]
    },
    {
     "name": "stderr",
     "output_type": "stream",
     "text": [
      "[2021-05-30 23:02:47,099] (INFO): A new study created in memory with name: no-name-e09a9dda-3ec6-4700-bf91-ce3078680a70\n"
     ]
    },
    {
     "name": "stdout",
     "output_type": "stream",
     "text": [
      "Start fitting Lvl_0_Pipe_1_Mod_1_LightGBM ...\n",
      "\n",
      "===== Start working with fold 0 for Lvl_0_Pipe_1_Mod_1_LightGBM =====\n",
      "\n",
      "Training until validation scores don't improve for 100 rounds\n",
      "[100]\tvalid's auc: 0.872011\n",
      "Early stopping, best iteration is:\n",
      "[70]\tvalid's auc: 0.872401\n",
      "Lvl_0_Pipe_1_Mod_1_LightGBM fitting and predicting completed\n"
     ]
    },
    {
     "name": "stderr",
     "output_type": "stream",
     "text": [
      "[2021-05-30 23:02:52,248] (INFO): Trial 0 finished with value: 0.8724014409835804 and parameters: {'feature_fraction': 0.6872700594236812, 'num_leaves': 244, 'bagging_fraction': 0.8659969709057025, 'min_sum_hessian_in_leaf': 0.24810409748678125, 'reg_alpha': 2.5361081166471375e-07, 'reg_lambda': 2.5348407664333426e-07}. Best is trial 0 with value: 0.8724014409835804.\n"
     ]
    },
    {
     "name": "stdout",
     "output_type": "stream",
     "text": [
      "Start fitting Lvl_0_Pipe_1_Mod_1_LightGBM ...\n",
      "\n",
      "===== Start working with fold 0 for Lvl_0_Pipe_1_Mod_1_LightGBM =====\n",
      "\n",
      "Training until validation scores don't improve for 100 rounds\n",
      "[100]\tvalid's auc: 0.872539\n",
      "[200]\tvalid's auc: 0.872611\n",
      "Early stopping, best iteration is:\n",
      "[145]\tvalid's auc: 0.873021\n",
      "Lvl_0_Pipe_1_Mod_1_LightGBM fitting and predicting completed\n"
     ]
    },
    {
     "name": "stderr",
     "output_type": "stream",
     "text": [
      "[2021-05-30 23:02:59,617] (INFO): Trial 1 finished with value: 0.8730212969696025 and parameters: {'feature_fraction': 0.5290418060840998, 'num_leaves': 223, 'bagging_fraction': 0.8005575058716043, 'min_sum_hessian_in_leaf': 0.679657809075816, 'reg_alpha': 1.5320059381854043e-08, 'reg_lambda': 5.360294728728285}. Best is trial 1 with value: 0.8730212969696025.\n"
     ]
    },
    {
     "name": "stdout",
     "output_type": "stream",
     "text": [
      "Start fitting Lvl_0_Pipe_1_Mod_1_LightGBM ...\n",
      "\n",
      "===== Start working with fold 0 for Lvl_0_Pipe_1_Mod_1_LightGBM =====\n",
      "\n",
      "Training until validation scores don't improve for 100 rounds\n",
      "[100]\tvalid's auc: 0.872368\n",
      "[200]\tvalid's auc: 0.871979\n",
      "Early stopping, best iteration is:\n",
      "[116]\tvalid's auc: 0.872438\n",
      "Lvl_0_Pipe_1_Mod_1_LightGBM fitting and predicting completed\n"
     ]
    },
    {
     "name": "stderr",
     "output_type": "stream",
     "text": [
      "[2021-05-30 23:03:04,029] (INFO): Trial 2 finished with value: 0.8724384252181565 and parameters: {'feature_fraction': 0.9162213204002109, 'num_leaves': 66, 'bagging_fraction': 0.5909124836035503, 'min_sum_hessian_in_leaf': 0.00541524411940254, 'reg_alpha': 5.472429642032198e-06, 'reg_lambda': 0.00052821153945323}. Best is trial 1 with value: 0.8730212969696025.\n"
     ]
    },
    {
     "name": "stdout",
     "output_type": "stream",
     "text": [
      "Start fitting Lvl_0_Pipe_1_Mod_1_LightGBM ...\n",
      "\n",
      "===== Start working with fold 0 for Lvl_0_Pipe_1_Mod_1_LightGBM =====\n",
      "\n",
      "Training until validation scores don't improve for 100 rounds\n",
      "[100]\tvalid's auc: 0.872655\n",
      "[200]\tvalid's auc: 0.872907\n",
      "Early stopping, best iteration is:\n",
      "[138]\tvalid's auc: 0.873186\n",
      "Lvl_0_Pipe_1_Mod_1_LightGBM fitting and predicting completed\n"
     ]
    },
    {
     "name": "stderr",
     "output_type": "stream",
     "text": [
      "[2021-05-30 23:03:08,351] (INFO): Trial 3 finished with value: 0.873186063450845 and parameters: {'feature_fraction': 0.7159725093210578, 'num_leaves': 85, 'bagging_fraction': 0.8059264473611898, 'min_sum_hessian_in_leaf': 0.003613894271216527, 'reg_alpha': 4.258943089524393e-06, 'reg_lambda': 1.9826980964985924e-05}. Best is trial 3 with value: 0.873186063450845.\n"
     ]
    },
    {
     "name": "stdout",
     "output_type": "stream",
     "text": [
      "Start fitting Lvl_0_Pipe_1_Mod_1_LightGBM ...\n",
      "\n",
      "===== Start working with fold 0 for Lvl_0_Pipe_1_Mod_1_LightGBM =====\n",
      "\n",
      "Training until validation scores don't improve for 100 rounds\n",
      "[100]\tvalid's auc: 0.872017\n",
      "[200]\tvalid's auc: 0.871517\n",
      "Early stopping, best iteration is:\n",
      "[124]\tvalid's auc: 0.872413\n",
      "Lvl_0_Pipe_1_Mod_1_LightGBM fitting and predicting completed\n"
     ]
    },
    {
     "name": "stderr",
     "output_type": "stream",
     "text": [
      "[2021-05-30 23:03:13,841] (INFO): Trial 4 finished with value: 0.8724129252605968 and parameters: {'feature_fraction': 0.728034992108518, 'num_leaves': 204, 'bagging_fraction': 0.5998368910791798, 'min_sum_hessian_in_leaf': 0.11400863701127326, 'reg_alpha': 0.0021465011216654484, 'reg_lambda': 2.6185068507773707e-08}. Best is trial 3 with value: 0.873186063450845.\n"
     ]
    },
    {
     "name": "stdout",
     "output_type": "stream",
     "text": [
      "Start fitting Lvl_0_Pipe_1_Mod_1_LightGBM ...\n",
      "\n",
      "===== Start working with fold 0 for Lvl_0_Pipe_1_Mod_1_LightGBM =====\n",
      "\n",
      "Training until validation scores don't improve for 100 rounds\n",
      "[100]\tvalid's auc: 0.872481\n",
      "[200]\tvalid's auc: 0.872812\n",
      "[300]\tvalid's auc: 0.872449\n",
      "Early stopping, best iteration is:\n",
      "[211]\tvalid's auc: 0.87286\n",
      "Lvl_0_Pipe_1_Mod_1_LightGBM fitting and predicting completed\n"
     ]
    },
    {
     "name": "stderr",
     "output_type": "stream",
     "text": [
      "[2021-05-30 23:03:18,281] (INFO): Trial 5 finished with value: 0.8728595964184787 and parameters: {'feature_fraction': 0.8037724259507192, 'num_leaves': 56, 'bagging_fraction': 0.5325257964926398, 'min_sum_hessian_in_leaf': 6.245139574743075, 'reg_alpha': 4.905556676028774, 'reg_lambda': 0.18861495878553936}. Best is trial 3 with value: 0.873186063450845.\n"
     ]
    },
    {
     "name": "stdout",
     "output_type": "stream",
     "text": [
      "Start fitting Lvl_0_Pipe_1_Mod_1_LightGBM ...\n",
      "\n",
      "===== Start working with fold 0 for Lvl_0_Pipe_1_Mod_1_LightGBM =====\n",
      "\n",
      "Training until validation scores don't improve for 100 rounds\n",
      "[100]\tvalid's auc: 0.872748\n",
      "[200]\tvalid's auc: 0.873387\n",
      "[300]\tvalid's auc: 0.873407\n",
      "[400]\tvalid's auc: 0.873398\n",
      "Early stopping, best iteration is:\n",
      "[307]\tvalid's auc: 0.873496\n",
      "Lvl_0_Pipe_1_Mod_1_LightGBM fitting and predicting completed\n"
     ]
    },
    {
     "name": "stderr",
     "output_type": "stream",
     "text": [
      "[2021-05-30 23:03:23,285] (INFO): Trial 6 finished with value: 0.8734961585951482 and parameters: {'feature_fraction': 0.6523068845866853, 'num_leaves': 39, 'bagging_fraction': 0.8421165132560784, 'min_sum_hessian_in_leaf': 0.057624872164786026, 'reg_alpha': 1.254134495897175e-07, 'reg_lambda': 0.00028614897264046574}. Best is trial 6 with value: 0.8734961585951482.\n"
     ]
    },
    {
     "name": "stdout",
     "output_type": "stream",
     "text": [
      "Start fitting Lvl_0_Pipe_1_Mod_1_LightGBM ...\n",
      "\n",
      "===== Start working with fold 0 for Lvl_0_Pipe_1_Mod_1_LightGBM =====\n",
      "\n",
      "Training until validation scores don't improve for 100 rounds\n",
      "[100]\tvalid's auc: 0.872025\n",
      "[200]\tvalid's auc: 0.87147\n",
      "Early stopping, best iteration is:\n",
      "[105]\tvalid's auc: 0.872188\n",
      "Lvl_0_Pipe_1_Mod_1_LightGBM fitting and predicting completed\n"
     ]
    },
    {
     "name": "stderr",
     "output_type": "stream",
     "text": [
      "[2021-05-30 23:03:29,067] (INFO): Trial 7 finished with value: 0.8721876285590086 and parameters: {'feature_fraction': 0.5171942605576092, 'num_leaves': 234, 'bagging_fraction': 0.6293899908000085, 'min_sum_hessian_in_leaf': 0.4467752817973907, 'reg_alpha': 6.388511557344611e-06, 'reg_lambda': 0.0004793052550782129}. Best is trial 6 with value: 0.8734961585951482.\n"
     ]
    },
    {
     "name": "stdout",
     "output_type": "stream",
     "text": [
      "Start fitting Lvl_0_Pipe_1_Mod_1_LightGBM ...\n",
      "\n",
      "===== Start working with fold 0 for Lvl_0_Pipe_1_Mod_1_LightGBM =====\n",
      "\n",
      "Training until validation scores don't improve for 100 rounds\n",
      "[100]\tvalid's auc: 0.87288\n",
      "[200]\tvalid's auc: 0.873258\n",
      "[300]\tvalid's auc: 0.873035\n",
      "Early stopping, best iteration is:\n",
      "[250]\tvalid's auc: 0.873265\n",
      "Lvl_0_Pipe_1_Mod_1_LightGBM fitting and predicting completed\n"
     ]
    },
    {
     "name": "stderr",
     "output_type": "stream",
     "text": [
      "[2021-05-30 23:03:35,708] (INFO): Trial 8 finished with value: 0.8732645387478863 and parameters: {'feature_fraction': 0.7733551396716398, 'num_leaves': 60, 'bagging_fraction': 0.9847923138822793, 'min_sum_hessian_in_leaf': 1.2604664585649468, 'reg_alpha': 2.854239907497756, 'reg_lambda': 1.1309571585271483}. Best is trial 6 with value: 0.8734961585951482.\n"
     ]
    },
    {
     "name": "stdout",
     "output_type": "stream",
     "text": [
      "Start fitting Lvl_0_Pipe_1_Mod_1_LightGBM ...\n",
      "\n",
      "===== Start working with fold 0 for Lvl_0_Pipe_1_Mod_1_LightGBM =====\n",
      "\n",
      "Training until validation scores don't improve for 100 rounds\n",
      "[100]\tvalid's auc: 0.871117\n",
      "Early stopping, best iteration is:\n",
      "[25]\tvalid's auc: 0.871951\n",
      "Lvl_0_Pipe_1_Mod_1_LightGBM fitting and predicting completed\n"
     ]
    },
    {
     "name": "stderr",
     "output_type": "stream",
     "text": [
      "[2021-05-30 23:03:38,853] (INFO): Trial 9 finished with value: 0.8719507993121162 and parameters: {'feature_fraction': 0.7989499894055425, 'num_leaves': 237, 'bagging_fraction': 0.5442462510259598, 'min_sum_hessian_in_leaf': 0.006080390190296602, 'reg_alpha': 2.5529693461039728e-08, 'reg_lambda': 8.471746987003668e-06}. Best is trial 6 with value: 0.8734961585951482.\n"
     ]
    },
    {
     "name": "stdout",
     "output_type": "stream",
     "text": [
      "Start fitting Lvl_0_Pipe_1_Mod_1_LightGBM ...\n",
      "\n",
      "===== Start working with fold 0 for Lvl_0_Pipe_1_Mod_1_LightGBM =====\n",
      "\n",
      "Training until validation scores don't improve for 100 rounds\n",
      "[100]\tvalid's auc: 0.870734\n",
      "[200]\tvalid's auc: 0.872535\n",
      "[300]\tvalid's auc: 0.873043\n",
      "[400]\tvalid's auc: 0.872954\n",
      "Early stopping, best iteration is:\n",
      "[316]\tvalid's auc: 0.873085\n",
      "Lvl_0_Pipe_1_Mod_1_LightGBM fitting and predicting completed\n"
     ]
    },
    {
     "name": "stderr",
     "output_type": "stream",
     "text": [
      "[2021-05-30 23:03:44,336] (INFO): Trial 10 finished with value: 0.8730849449637834 and parameters: {'feature_fraction': 0.6047595825745748, 'num_leaves': 16, 'bagging_fraction': 0.9797780952829837, 'min_sum_hessian_in_leaf': 0.02380775230693608, 'reg_alpha': 0.004323838313271428, 'reg_lambda': 0.018211685984916886}. Best is trial 6 with value: 0.8734961585951482.\n"
     ]
    },
    {
     "name": "stdout",
     "output_type": "stream",
     "text": [
      "Start fitting Lvl_0_Pipe_1_Mod_1_LightGBM ...\n",
      "\n",
      "===== Start working with fold 0 for Lvl_0_Pipe_1_Mod_1_LightGBM =====\n",
      "\n",
      "Training until validation scores don't improve for 100 rounds\n",
      "[100]\tvalid's auc: 0.87227\n",
      "[200]\tvalid's auc: 0.872485\n",
      "Early stopping, best iteration is:\n",
      "[171]\tvalid's auc: 0.872701\n",
      "Lvl_0_Pipe_1_Mod_1_LightGBM fitting and predicting completed\n"
     ]
    },
    {
     "name": "stderr",
     "output_type": "stream",
     "text": [
      "[2021-05-30 23:03:50,611] (INFO): Trial 11 finished with value: 0.8727011155409083 and parameters: {'feature_fraction': 0.9240463497890247, 'num_leaves': 133, 'bagging_fraction': 0.9961813327301685, 'min_sum_hessian_in_leaf': 3.7972214282396766, 'reg_alpha': 6.391162403755944, 'reg_lambda': 0.06556151462878797}. Best is trial 6 with value: 0.8734961585951482.\n"
     ]
    },
    {
     "name": "stdout",
     "output_type": "stream",
     "text": [
      "Start fitting Lvl_0_Pipe_1_Mod_1_LightGBM ...\n",
      "\n",
      "===== Start working with fold 0 for Lvl_0_Pipe_1_Mod_1_LightGBM =====\n",
      "\n",
      "Training until validation scores don't improve for 100 rounds\n",
      "[100]\tvalid's auc: 0.870663\n",
      "[200]\tvalid's auc: 0.872831\n",
      "[300]\tvalid's auc: 0.873098\n",
      "[400]\tvalid's auc: 0.873393\n",
      "[500]\tvalid's auc: 0.873332\n",
      "Early stopping, best iteration is:\n",
      "[402]\tvalid's auc: 0.873409\n",
      "Lvl_0_Pipe_1_Mod_1_LightGBM fitting and predicting completed\n"
     ]
    },
    {
     "name": "stderr",
     "output_type": "stream",
     "text": [
      "[2021-05-30 23:03:55,849] (INFO): Trial 12 finished with value: 0.8734092488617801 and parameters: {'feature_fraction': 0.6300585154499979, 'num_leaves': 17, 'bagging_fraction': 0.9126444059266825, 'min_sum_hessian_in_leaf': 0.03200457414040258, 'reg_alpha': 0.07367743907015423, 'reg_lambda': 0.003647611303645848}. Best is trial 6 with value: 0.8734961585951482.\n"
     ]
    },
    {
     "name": "stdout",
     "output_type": "stream",
     "text": [
      "Start fitting Lvl_0_Pipe_1_Mod_1_LightGBM ...\n",
      "\n",
      "===== Start working with fold 0 for Lvl_0_Pipe_1_Mod_1_LightGBM =====\n",
      "\n",
      "Training until validation scores don't improve for 100 rounds\n",
      "[100]\tvalid's auc: 0.870638\n",
      "[200]\tvalid's auc: 0.872778\n",
      "[300]\tvalid's auc: 0.873217\n",
      "[400]\tvalid's auc: 0.873396\n",
      "[500]\tvalid's auc: 0.873387\n",
      "Early stopping, best iteration is:\n",
      "[415]\tvalid's auc: 0.873443\n",
      "Lvl_0_Pipe_1_Mod_1_LightGBM fitting and predicting completed\n"
     ]
    },
    {
     "name": "stderr",
     "output_type": "stream",
     "text": [
      "[2021-05-30 23:04:01,306] (INFO): Trial 13 finished with value: 0.8734427685059364 and parameters: {'feature_fraction': 0.5971668874224112, 'num_leaves': 16, 'bagging_fraction': 0.9107391912521612, 'min_sum_hessian_in_leaf': 0.027108901111315798, 'reg_alpha': 0.09187101964565059, 'reg_lambda': 0.0050746152798907965}. Best is trial 6 with value: 0.8734961585951482.\n"
     ]
    },
    {
     "name": "stdout",
     "output_type": "stream",
     "text": [
      "Start fitting Lvl_0_Pipe_1_Mod_1_LightGBM ...\n",
      "\n",
      "===== Start working with fold 0 for Lvl_0_Pipe_1_Mod_1_LightGBM =====\n",
      "\n",
      "Training until validation scores don't improve for 100 rounds\n",
      "[100]\tvalid's auc: 0.872029\n",
      "[200]\tvalid's auc: 0.872217\n",
      "Early stopping, best iteration is:\n",
      "[142]\tvalid's auc: 0.872542\n",
      "Lvl_0_Pipe_1_Mod_1_LightGBM fitting and predicting completed\n"
     ]
    },
    {
     "name": "stderr",
     "output_type": "stream",
     "text": [
      "[2021-05-30 23:04:05,873] (INFO): Trial 14 finished with value: 0.872542146617319 and parameters: {'feature_fraction': 0.5913277456174814, 'num_leaves': 106, 'bagging_fraction': 0.7005492273816147, 'min_sum_hessian_in_leaf': 0.0327280984764738, 'reg_alpha': 0.07127936003357555, 'reg_lambda': 2.0929128454356573e-05}. Best is trial 6 with value: 0.8734961585951482.\n"
     ]
    },
    {
     "name": "stdout",
     "output_type": "stream",
     "text": [
      "Start fitting Lvl_0_Pipe_1_Mod_1_LightGBM ...\n",
      "\n",
      "===== Start working with fold 0 for Lvl_0_Pipe_1_Mod_1_LightGBM =====\n",
      "\n",
      "Training until validation scores don't improve for 100 rounds\n",
      "[100]\tvalid's auc: 0.870542\n",
      "[200]\tvalid's auc: 0.872821\n",
      "[300]\tvalid's auc: 0.873131\n",
      "[400]\tvalid's auc: 0.873094\n",
      "Early stopping, best iteration is:\n",
      "[301]\tvalid's auc: 0.873132\n",
      "Lvl_0_Pipe_1_Mod_1_LightGBM fitting and predicting completed\n"
     ]
    },
    {
     "name": "stderr",
     "output_type": "stream",
     "text": [
      "[2021-05-30 23:04:10,415] (INFO): Trial 15 finished with value: 0.873132038723037 and parameters: {'feature_fraction': 0.6554453953309942, 'num_leaves': 16, 'bagging_fraction': 0.901177896508804, 'min_sum_hessian_in_leaf': 0.00167117935596583, 'reg_alpha': 6.14930665429407e-05, 'reg_lambda': 0.003540302417856418}. Best is trial 6 with value: 0.8734961585951482.\n"
     ]
    },
    {
     "name": "stdout",
     "output_type": "stream",
     "text": [
      "Start fitting Lvl_0_Pipe_1_Mod_1_LightGBM ...\n",
      "\n",
      "===== Start working with fold 0 for Lvl_0_Pipe_1_Mod_1_LightGBM =====\n",
      "\n",
      "Training until validation scores don't improve for 100 rounds\n",
      "[100]\tvalid's auc: 0.872142\n",
      "[200]\tvalid's auc: 0.872678\n",
      "Early stopping, best iteration is:\n",
      "[156]\tvalid's auc: 0.87278\n",
      "Lvl_0_Pipe_1_Mod_1_LightGBM fitting and predicting completed\n"
     ]
    },
    {
     "name": "stderr",
     "output_type": "stream",
     "text": [
      "[2021-05-30 23:04:15,790] (INFO): Trial 16 finished with value: 0.8727801879345443 and parameters: {'feature_fraction': 0.5447011447141248, 'num_leaves': 182, 'bagging_fraction': 0.7568575091179959, 'min_sum_hessian_in_leaf': 0.09123418926503064, 'reg_alpha': 0.18223943775058057, 'reg_lambda': 1.452555688299585e-06}. Best is trial 6 with value: 0.8734961585951482.\n"
     ]
    },
    {
     "name": "stdout",
     "output_type": "stream",
     "text": [
      "Start fitting Lvl_0_Pipe_1_Mod_1_LightGBM ...\n",
      "\n",
      "===== Start working with fold 0 for Lvl_0_Pipe_1_Mod_1_LightGBM =====\n",
      "\n",
      "Training until validation scores don't improve for 100 rounds\n",
      "[100]\tvalid's auc: 0.872292\n",
      "[200]\tvalid's auc: 0.873144\n",
      "[300]\tvalid's auc: 0.873399\n",
      "[400]\tvalid's auc: 0.873705\n",
      "Early stopping, best iteration is:\n",
      "[390]\tvalid's auc: 0.873782\n",
      "Lvl_0_Pipe_1_Mod_1_LightGBM fitting and predicting completed\n"
     ]
    },
    {
     "name": "stderr",
     "output_type": "stream",
     "text": [
      "[2021-05-30 23:04:21,534] (INFO): Trial 17 finished with value: 0.8737823430599535 and parameters: {'feature_fraction': 0.5595046966804222, 'num_leaves': 33, 'bagging_fraction': 0.8558442200465237, 'min_sum_hessian_in_leaf': 0.015500352982855375, 'reg_alpha': 0.000360551772629143, 'reg_lambda': 0.00018035089536094857}. Best is trial 17 with value: 0.8737823430599535.\n"
     ]
    },
    {
     "name": "stdout",
     "output_type": "stream",
     "text": [
      "Start fitting Lvl_0_Pipe_1_Mod_1_LightGBM ...\n",
      "\n",
      "===== Start working with fold 0 for Lvl_0_Pipe_1_Mod_1_LightGBM =====\n",
      "\n",
      "Training until validation scores don't improve for 100 rounds\n",
      "[100]\tvalid's auc: 0.872709\n",
      "[200]\tvalid's auc: 0.87311\n",
      "Early stopping, best iteration is:\n",
      "[154]\tvalid's auc: 0.873296\n",
      "Lvl_0_Pipe_1_Mod_1_LightGBM fitting and predicting completed\n"
     ]
    },
    {
     "name": "stderr",
     "output_type": "stream",
     "text": [
      "[2021-05-30 23:04:25,249] (INFO): Trial 18 finished with value: 0.8732963100074033 and parameters: {'feature_fraction': 0.8626232813873017, 'num_leaves': 41, 'bagging_fraction': 0.8373532685865688, 'min_sum_hessian_in_leaf': 0.0010201459812303041, 'reg_alpha': 0.0001617748103678915, 'reg_lambda': 0.00011371707500958194}. Best is trial 17 with value: 0.8737823430599535.\n"
     ]
    },
    {
     "name": "stdout",
     "output_type": "stream",
     "text": [
      "Start fitting Lvl_0_Pipe_1_Mod_1_LightGBM ...\n",
      "\n",
      "===== Start working with fold 0 for Lvl_0_Pipe_1_Mod_1_LightGBM =====\n",
      "\n",
      "Training until validation scores don't improve for 100 rounds\n",
      "[100]\tvalid's auc: 0.872631\n",
      "[200]\tvalid's auc: 0.87261\n",
      "Early stopping, best iteration is:\n",
      "[132]\tvalid's auc: 0.872825\n",
      "Lvl_0_Pipe_1_Mod_1_LightGBM fitting and predicting completed\n"
     ]
    },
    {
     "name": "stderr",
     "output_type": "stream",
     "text": [
      "[2021-05-30 23:04:29,770] (INFO): Trial 19 finished with value: 0.8728251507382868 and parameters: {'feature_fraction': 0.9993979541767993, 'num_leaves': 107, 'bagging_fraction': 0.7194019767626155, 'min_sum_hessian_in_leaf': 0.009351333541123457, 'reg_alpha': 3.141486603935961e-07, 'reg_lambda': 0.00013587357951827818}. Best is trial 17 with value: 0.8737823430599535.\n"
     ]
    },
    {
     "name": "stdout",
     "output_type": "stream",
     "text": [
      "Start fitting Lvl_0_Pipe_1_Mod_1_LightGBM ...\n",
      "\n",
      "===== Start working with fold 0 for Lvl_0_Pipe_1_Mod_1_LightGBM =====\n",
      "\n",
      "Training until validation scores don't improve for 100 rounds\n",
      "[100]\tvalid's auc: 0.872586\n",
      "[200]\tvalid's auc: 0.872593\n",
      "Early stopping, best iteration is:\n",
      "[129]\tvalid's auc: 0.873144\n",
      "Lvl_0_Pipe_1_Mod_1_LightGBM fitting and predicting completed\n"
     ]
    },
    {
     "name": "stderr",
     "output_type": "stream",
     "text": [
      "[2021-05-30 23:04:34,362] (INFO): Trial 20 finished with value: 0.8731443846783726 and parameters: {'feature_fraction': 0.5553617064887679, 'num_leaves': 162, 'bagging_fraction': 0.7683811296208288, 'min_sum_hessian_in_leaf': 0.09361384479357852, 'reg_alpha': 0.0012926647645205513, 'reg_lambda': 2.2678657339631194e-07}. Best is trial 17 with value: 0.8737823430599535.\n"
     ]
    },
    {
     "name": "stdout",
     "output_type": "stream",
     "text": [
      "Start fitting Lvl_0_Pipe_1_Mod_1_LightGBM ...\n",
      "\n",
      "===== Start working with fold 0 for Lvl_0_Pipe_1_Mod_1_LightGBM =====\n",
      "\n",
      "Training until validation scores don't improve for 100 rounds\n",
      "[100]\tvalid's auc: 0.872563\n",
      "[200]\tvalid's auc: 0.873185\n",
      "Early stopping, best iteration is:\n",
      "[190]\tvalid's auc: 0.873262\n",
      "Lvl_0_Pipe_1_Mod_1_LightGBM fitting and predicting completed\n"
     ]
    },
    {
     "name": "stderr",
     "output_type": "stream",
     "text": [
      "[2021-05-30 23:04:38,210] (INFO): Trial 21 finished with value: 0.8732622790769415 and parameters: {'feature_fraction': 0.6707876058377923, 'num_leaves': 36, 'bagging_fraction': 0.9214209628622676, 'min_sum_hessian_in_leaf': 0.016691862967947307, 'reg_alpha': 0.011278629094357926, 'reg_lambda': 0.0027452148327217897}. Best is trial 17 with value: 0.8737823430599535.\n"
     ]
    },
    {
     "name": "stdout",
     "output_type": "stream",
     "text": [
      "Start fitting Lvl_0_Pipe_1_Mod_1_LightGBM ...\n",
      "\n",
      "===== Start working with fold 0 for Lvl_0_Pipe_1_Mod_1_LightGBM =====\n",
      "\n",
      "Training until validation scores don't improve for 100 rounds\n",
      "[100]\tvalid's auc: 0.872306\n",
      "[200]\tvalid's auc: 0.873466\n",
      "[300]\tvalid's auc: 0.873736\n",
      "[400]\tvalid's auc: 0.873696\n",
      "Early stopping, best iteration is:\n",
      "[338]\tvalid's auc: 0.873838\n",
      "Lvl_0_Pipe_1_Mod_1_LightGBM fitting and predicting completed\n"
     ]
    },
    {
     "name": "stderr",
     "output_type": "stream",
     "text": [
      "[2021-05-30 23:04:43,663] (INFO): Trial 22 finished with value: 0.8738375458915213 and parameters: {'feature_fraction': 0.5873420814905187, 'num_leaves': 30, 'bagging_fraction': 0.8640145989533199, 'min_sum_hessian_in_leaf': 0.07566197617963817, 'reg_alpha': 0.3083841423936718, 'reg_lambda': 0.009618592525553098}. Best is trial 22 with value: 0.8738375458915213.\n"
     ]
    },
    {
     "name": "stdout",
     "output_type": "stream",
     "text": [
      "Start fitting Lvl_0_Pipe_1_Mod_1_LightGBM ...\n",
      "\n",
      "===== Start working with fold 0 for Lvl_0_Pipe_1_Mod_1_LightGBM =====\n",
      "\n",
      "Training until validation scores don't improve for 100 rounds\n",
      "[100]\tvalid's auc: 0.872405\n",
      "[200]\tvalid's auc: 0.873224\n",
      "[300]\tvalid's auc: 0.873134\n",
      "Early stopping, best iteration is:\n",
      "[260]\tvalid's auc: 0.87346\n",
      "Lvl_0_Pipe_1_Mod_1_LightGBM fitting and predicting completed\n"
     ]
    },
    {
     "name": "stderr",
     "output_type": "stream",
     "text": [
      "[2021-05-30 23:04:49,232] (INFO): Trial 23 finished with value: 0.8734602326874702 and parameters: {'feature_fraction': 0.5046637280776305, 'num_leaves': 84, 'bagging_fraction': 0.861268675316993, 'min_sum_hessian_in_leaf': 0.054700690134589745, 'reg_alpha': 3.9563419811262366e-05, 'reg_lambda': 0.24192117783746556}. Best is trial 22 with value: 0.8738375458915213.\n"
     ]
    },
    {
     "name": "stdout",
     "output_type": "stream",
     "text": [
      "Start fitting Lvl_0_Pipe_1_Mod_1_LightGBM ...\n",
      "\n",
      "===== Start working with fold 0 for Lvl_0_Pipe_1_Mod_1_LightGBM =====\n",
      "\n",
      "Training until validation scores don't improve for 100 rounds\n",
      "[100]\tvalid's auc: 0.872439\n",
      "[200]\tvalid's auc: 0.873259\n",
      "[300]\tvalid's auc: 0.873346\n",
      "Early stopping, best iteration is:\n",
      "[232]\tvalid's auc: 0.873433\n",
      "Lvl_0_Pipe_1_Mod_1_LightGBM fitting and predicting completed\n"
     ]
    },
    {
     "name": "stderr",
     "output_type": "stream",
     "text": [
      "[2021-05-30 23:04:53,627] (INFO): Trial 24 finished with value: 0.8734331649044214 and parameters: {'feature_fraction': 0.5799410363113692, 'num_leaves': 38, 'bagging_fraction': 0.9519167591647089, 'min_sum_hessian_in_leaf': 0.15469653750856255, 'reg_alpha': 1.8847001605316238e-07, 'reg_lambda': 0.0005995721617820907}. Best is trial 22 with value: 0.8738375458915213.\n"
     ]
    },
    {
     "name": "stdout",
     "output_type": "stream",
     "text": [
      "Start fitting Lvl_0_Pipe_1_Mod_1_LightGBM ...\n",
      "\n",
      "===== Start working with fold 0 for Lvl_0_Pipe_1_Mod_1_LightGBM =====\n",
      "\n",
      "Training until validation scores don't improve for 100 rounds\n",
      "[100]\tvalid's auc: 0.872844\n",
      "[200]\tvalid's auc: 0.872855\n",
      "Early stopping, best iteration is:\n",
      "[137]\tvalid's auc: 0.873186\n",
      "Lvl_0_Pipe_1_Mod_1_LightGBM fitting and predicting completed\n"
     ]
    },
    {
     "name": "stderr",
     "output_type": "stream",
     "text": [
      "[2021-05-30 23:04:57,504] (INFO): Trial 25 finished with value: 0.873186304792283 and parameters: {'feature_fraction': 0.6533000962299023, 'num_leaves': 80, 'bagging_fraction': 0.8225906350109576, 'min_sum_hessian_in_leaf': 0.01377916828893039, 'reg_alpha': 0.4634962047995633, 'reg_lambda': 0.013068392238391078}. Best is trial 22 with value: 0.8738375458915213.\n"
     ]
    },
    {
     "name": "stdout",
     "output_type": "stream",
     "text": [
      "Start fitting Lvl_0_Pipe_1_Mod_1_LightGBM ...\n",
      "\n",
      "===== Start working with fold 0 for Lvl_0_Pipe_1_Mod_1_LightGBM =====\n",
      "\n",
      "Training until validation scores don't improve for 100 rounds\n",
      "[100]\tvalid's auc: 0.872752\n",
      "[200]\tvalid's auc: 0.873498\n",
      "Early stopping, best iteration is:\n",
      "[154]\tvalid's auc: 0.873691\n",
      "Lvl_0_Pipe_1_Mod_1_LightGBM fitting and predicting completed\n"
     ]
    },
    {
     "name": "stderr",
     "output_type": "stream",
     "text": [
      "[2021-05-30 23:05:00,885] (INFO): Trial 26 finished with value: 0.8736908013586915 and parameters: {'feature_fraction': 0.6208517478258272, 'num_leaves': 37, 'bagging_fraction': 0.8666556829285315, 'min_sum_hessian_in_leaf': 0.051002700531706496, 'reg_alpha': 0.0005593491168708459, 'reg_lambda': 7.867601600949475e-05}. Best is trial 22 with value: 0.8738375458915213.\n"
     ]
    },
    {
     "name": "stdout",
     "output_type": "stream",
     "text": [
      "Start fitting Lvl_0_Pipe_1_Mod_1_LightGBM ...\n",
      "\n",
      "===== Start working with fold 0 for Lvl_0_Pipe_1_Mod_1_LightGBM =====\n",
      "\n",
      "Training until validation scores don't improve for 100 rounds\n",
      "[100]\tvalid's auc: 0.872566\n",
      "[200]\tvalid's auc: 0.872572\n",
      "Early stopping, best iteration is:\n",
      "[138]\tvalid's auc: 0.872874\n",
      "Lvl_0_Pipe_1_Mod_1_LightGBM fitting and predicting completed\n"
     ]
    },
    {
     "name": "stderr",
     "output_type": "stream",
     "text": [
      "[2021-05-30 23:05:05,338] (INFO): Trial 27 finished with value: 0.8728744451739114 and parameters: {'feature_fraction': 0.5000995240281578, 'num_leaves': 110, 'bagging_fraction': 0.8758259721626822, 'min_sum_hessian_in_leaf': 0.2062395610074149, 'reg_alpha': 0.00047102274393466266, 'reg_lambda': 2.6483603657769507e-06}. Best is trial 22 with value: 0.8738375458915213.\n"
     ]
    },
    {
     "name": "stdout",
     "output_type": "stream",
     "text": [
      "Start fitting Lvl_0_Pipe_1_Mod_1_LightGBM ...\n",
      "\n",
      "===== Start working with fold 0 for Lvl_0_Pipe_1_Mod_1_LightGBM =====\n",
      "\n",
      "Training until validation scores don't improve for 100 rounds\n",
      "[100]\tvalid's auc: 0.872058\n",
      "[200]\tvalid's auc: 0.873264\n",
      "[300]\tvalid's auc: 0.873303\n",
      "Early stopping, best iteration is:\n",
      "[251]\tvalid's auc: 0.873472\n",
      "Lvl_0_Pipe_1_Mod_1_LightGBM fitting and predicting completed\n"
     ]
    },
    {
     "name": "stderr",
     "output_type": "stream",
     "text": [
      "[2021-05-30 23:05:10,317] (INFO): Trial 28 finished with value: 0.8734724910448024 and parameters: {'feature_fraction': 0.5578966675906902, 'num_leaves': 30, 'bagging_fraction': 0.9540159135417081, 'min_sum_hessian_in_leaf': 0.00242964823214965, 'reg_alpha': 0.01227149784593295, 'reg_lambda': 4.763082881616486e-05}. Best is trial 22 with value: 0.8738375458915213.\n"
     ]
    },
    {
     "name": "stdout",
     "output_type": "stream",
     "text": [
      "Start fitting Lvl_0_Pipe_1_Mod_1_LightGBM ...\n",
      "\n",
      "===== Start working with fold 0 for Lvl_0_Pipe_1_Mod_1_LightGBM =====\n",
      "\n",
      "Training until validation scores don't improve for 100 rounds\n",
      "[100]\tvalid's auc: 0.872901\n",
      "[200]\tvalid's auc: 0.873238\n",
      "Early stopping, best iteration is:\n",
      "[149]\tvalid's auc: 0.873421\n",
      "Lvl_0_Pipe_1_Mod_1_LightGBM fitting and predicting completed\n"
     ]
    },
    {
     "name": "stderr",
     "output_type": "stream",
     "text": [
      "[2021-05-30 23:05:14,050] (INFO): Trial 29 finished with value: 0.8734206902336521 and parameters: {'feature_fraction': 0.711729609239762, 'num_leaves': 56, 'bagging_fraction': 0.878026466233409, 'min_sum_hessian_in_leaf': 0.0630797243797645, 'reg_alpha': 0.6301718121232741, 'reg_lambda': 2.044314408532749e-06}. Best is trial 22 with value: 0.8738375458915213.\n"
     ]
    },
    {
     "name": "stdout",
     "output_type": "stream",
     "text": [
      "Start fitting Lvl_0_Pipe_1_Mod_1_LightGBM ...\n",
      "\n",
      "===== Start working with fold 0 for Lvl_0_Pipe_1_Mod_1_LightGBM =====\n",
      "\n",
      "Training until validation scores don't improve for 100 rounds\n",
      "[100]\tvalid's auc: 0.872826\n",
      "[200]\tvalid's auc: 0.872388\n",
      "Early stopping, best iteration is:\n",
      "[113]\tvalid's auc: 0.873035\n",
      "Lvl_0_Pipe_1_Mod_1_LightGBM fitting and predicting completed\n"
     ]
    },
    {
     "name": "stderr",
     "output_type": "stream",
     "text": [
      "[2021-05-30 23:05:18,230] (INFO): Trial 30 finished with value: 0.8730347763358393 and parameters: {'feature_fraction': 0.6272353029327429, 'num_leaves': 125, 'bagging_fraction': 0.7954924592281543, 'min_sum_hessian_in_leaf': 0.3241066440022513, 'reg_alpha': 0.0004609350005628517, 'reg_lambda': 1.0989564780779126e-07}. Best is trial 22 with value: 0.8738375458915213.\n"
     ]
    },
    {
     "name": "stdout",
     "output_type": "stream",
     "text": [
      "Start fitting Lvl_0_Pipe_1_Mod_1_LightGBM ...\n",
      "\n",
      "===== Start working with fold 0 for Lvl_0_Pipe_1_Mod_1_LightGBM =====\n",
      "\n",
      "Training until validation scores don't improve for 100 rounds\n",
      "[100]\tvalid's auc: 0.87276\n",
      "[200]\tvalid's auc: 0.873384\n",
      "Early stopping, best iteration is:\n",
      "[177]\tvalid's auc: 0.873509\n",
      "Lvl_0_Pipe_1_Mod_1_LightGBM fitting and predicting completed\n"
     ]
    },
    {
     "name": "stderr",
     "output_type": "stream",
     "text": [
      "[2021-05-30 23:05:22,489] (INFO): Trial 31 finished with value: 0.8735093537148025 and parameters: {'feature_fraction': 0.6868022209033093, 'num_leaves': 48, 'bagging_fraction': 0.8522413186528809, 'min_sum_hessian_in_leaf': 0.04702890819370031, 'reg_alpha': 2.473185518380335e-05, 'reg_lambda': 0.00012908639962138274}. Best is trial 22 with value: 0.8738375458915213.\n"
     ]
    },
    {
     "name": "stdout",
     "output_type": "stream",
     "text": [
      "Start fitting Lvl_0_Pipe_1_Mod_1_LightGBM ...\n",
      "\n",
      "===== Start working with fold 0 for Lvl_0_Pipe_1_Mod_1_LightGBM =====\n",
      "\n",
      "Training until validation scores don't improve for 100 rounds\n",
      "[100]\tvalid's auc: 0.872744\n",
      "[200]\tvalid's auc: 0.872965\n",
      "[300]\tvalid's auc: 0.872828\n",
      "Early stopping, best iteration is:\n",
      "[226]\tvalid's auc: 0.873132\n",
      "Lvl_0_Pipe_1_Mod_1_LightGBM fitting and predicting completed\n"
     ]
    },
    {
     "name": "stderr",
     "output_type": "stream",
     "text": [
      "[2021-05-30 23:05:27,662] (INFO): Trial 32 finished with value: 0.8731316507890221 and parameters: {'feature_fraction': 0.699958782177599, 'num_leaves': 73, 'bagging_fraction': 0.8602970395168894, 'min_sum_hessian_in_leaf': 0.014613516202666196, 'reg_alpha': 3.0056756760524096e-05, 'reg_lambda': 0.0012190484088138512}. Best is trial 22 with value: 0.8738375458915213.\n"
     ]
    },
    {
     "name": "stdout",
     "output_type": "stream",
     "text": [
      "Start fitting Lvl_0_Pipe_1_Mod_1_LightGBM ...\n",
      "\n",
      "===== Start working with fold 0 for Lvl_0_Pipe_1_Mod_1_LightGBM =====\n",
      "\n",
      "Training until validation scores don't improve for 100 rounds\n",
      "[100]\tvalid's auc: 0.872812\n",
      "[200]\tvalid's auc: 0.873052\n",
      "Early stopping, best iteration is:\n",
      "[177]\tvalid's auc: 0.873255\n",
      "Lvl_0_Pipe_1_Mod_1_LightGBM fitting and predicting completed\n"
     ]
    },
    {
     "name": "stderr",
     "output_type": "stream",
     "text": [
      "[2021-05-30 23:05:31,349] (INFO): Trial 33 finished with value: 0.8732552533595264 and parameters: {'feature_fraction': 0.6157410298762606, 'num_leaves': 51, 'bagging_fraction': 0.7806671235269884, 'min_sum_hessian_in_leaf': 0.008425649407096399, 'reg_alpha': 1.4399110164849064e-06, 'reg_lambda': 7.459721252876643e-05}. Best is trial 22 with value: 0.8738375458915213.\n"
     ]
    },
    {
     "name": "stdout",
     "output_type": "stream",
     "text": [
      "Start fitting Lvl_0_Pipe_1_Mod_1_LightGBM ...\n",
      "\n",
      "===== Start working with fold 0 for Lvl_0_Pipe_1_Mod_1_LightGBM =====\n",
      "\n",
      "Training until validation scores don't improve for 100 rounds\n",
      "[100]\tvalid's auc: 0.87177\n",
      "[200]\tvalid's auc: 0.872875\n",
      "[300]\tvalid's auc: 0.873004\n",
      "[400]\tvalid's auc: 0.873122\n",
      "Early stopping, best iteration is:\n",
      "[382]\tvalid's auc: 0.873245\n",
      "Lvl_0_Pipe_1_Mod_1_LightGBM fitting and predicting completed\n"
     ]
    },
    {
     "name": "stderr",
     "output_type": "stream",
     "text": [
      "[2021-05-30 23:05:36,398] (INFO): Trial 34 finished with value: 0.8732445002576812 and parameters: {'feature_fraction': 0.6814402577080193, 'num_leaves': 23, 'bagging_fraction': 0.714669147751258, 'min_sum_hessian_in_leaf': 0.04683255331183221, 'reg_alpha': 1.311228471627472e-05, 'reg_lambda': 8.266783958211653e-06}. Best is trial 22 with value: 0.8738375458915213.\n"
     ]
    },
    {
     "name": "stdout",
     "output_type": "stream",
     "text": [
      "Start fitting Lvl_0_Pipe_1_Mod_1_LightGBM ...\n",
      "\n",
      "===== Start working with fold 0 for Lvl_0_Pipe_1_Mod_1_LightGBM =====\n",
      "\n",
      "Training until validation scores don't improve for 100 rounds\n",
      "[100]\tvalid's auc: 0.872755\n",
      "[200]\tvalid's auc: 0.873718\n",
      "[300]\tvalid's auc: 0.873738\n",
      "Early stopping, best iteration is:\n",
      "[231]\tvalid's auc: 0.873831\n",
      "\n",
      "===== Start working with fold 1 for Lvl_0_Pipe_1_Mod_1_LightGBM =====\n",
      "\n",
      "Training until validation scores don't improve for 100 rounds\n",
      "[100]\tvalid's auc: 0.877334\n",
      "[200]\tvalid's auc: 0.8776\n",
      "[300]\tvalid's auc: 0.877723\n",
      "Early stopping, best iteration is:\n",
      "[217]\tvalid's auc: 0.877819\n",
      "\n",
      "===== Start working with fold 2 for Lvl_0_Pipe_1_Mod_1_LightGBM =====\n",
      "\n",
      "Training until validation scores don't improve for 100 rounds\n",
      "[100]\tvalid's auc: 0.878446\n",
      "[200]\tvalid's auc: 0.878913\n",
      "[300]\tvalid's auc: 0.878737\n",
      "Early stopping, best iteration is:\n",
      "[206]\tvalid's auc: 0.878974\n",
      "\n",
      "===== Start working with fold 3 for Lvl_0_Pipe_1_Mod_1_LightGBM =====\n",
      "\n",
      "Training until validation scores don't improve for 100 rounds\n",
      "[100]\tvalid's auc: 0.867347\n",
      "[200]\tvalid's auc: 0.867979\n",
      "Early stopping, best iteration is:\n",
      "[194]\tvalid's auc: 0.867985\n",
      "\n",
      "===== Start working with fold 4 for Lvl_0_Pipe_1_Mod_1_LightGBM =====\n",
      "\n",
      "Training until validation scores don't improve for 100 rounds\n",
      "[100]\tvalid's auc: 0.876252\n",
      "[200]\tvalid's auc: 0.877102\n",
      "[300]\tvalid's auc: 0.877489\n",
      "Early stopping, best iteration is:\n",
      "[296]\tvalid's auc: 0.877513\n",
      "Lvl_0_Pipe_1_Mod_1_LightGBM fitting and predicting completed\n",
      "Start fitting Lvl_0_Pipe_1_Mod_2_CatBoost ...\n",
      "\n",
      "===== Start working with fold 0 for Lvl_0_Pipe_1_Mod_2_CatBoost =====\n",
      "\n",
      "0:\ttest: 0.8476877\tbest: 0.8476877 (0)\ttotal: 364ms\tremaining: 12m 8s\n",
      "100:\ttest: 0.8686574\tbest: 0.8686574 (100)\ttotal: 3.3s\tremaining: 1m 2s\n",
      "200:\ttest: 0.8703863\tbest: 0.8703863 (200)\ttotal: 6.08s\tremaining: 54.4s\n",
      "300:\ttest: 0.8711279\tbest: 0.8711281 (299)\ttotal: 8.85s\tremaining: 50s\n",
      "400:\ttest: 0.8717450\tbest: 0.8717450 (400)\ttotal: 11.6s\tremaining: 46.4s\n",
      "500:\ttest: 0.8720526\tbest: 0.8720526 (500)\ttotal: 14.3s\tremaining: 42.9s\n",
      "600:\ttest: 0.8724071\tbest: 0.8724076 (599)\ttotal: 17.1s\tremaining: 39.9s\n",
      "700:\ttest: 0.8724374\tbest: 0.8724817 (677)\ttotal: 19.9s\tremaining: 36.8s\n",
      "800:\ttest: 0.8725697\tbest: 0.8725759 (798)\ttotal: 22.7s\tremaining: 33.9s\n",
      "900:\ttest: 0.8726710\tbest: 0.8726800 (880)\ttotal: 25.9s\tremaining: 31.6s\n",
      "Stopped by overfitting detector  (100 iterations wait)\n",
      "\n",
      "bestTest = 0.8726800062\n",
      "bestIteration = 880\n",
      "\n",
      "Shrink model to first 881 iterations.\n",
      "\n",
      "===== Start working with fold 1 for Lvl_0_Pipe_1_Mod_2_CatBoost =====\n",
      "\n",
      "0:\ttest: 0.8547237\tbest: 0.8547237 (0)\ttotal: 32ms\tremaining: 1m 4s\n",
      "100:\ttest: 0.8731444\tbest: 0.8731444 (100)\ttotal: 3.35s\tremaining: 1m 3s\n",
      "200:\ttest: 0.8749332\tbest: 0.8749332 (200)\ttotal: 6.76s\tremaining: 1m\n",
      "300:\ttest: 0.8757792\tbest: 0.8757818 (298)\ttotal: 10s\tremaining: 56.6s\n",
      "400:\ttest: 0.8763679\tbest: 0.8763943 (399)\ttotal: 13.1s\tremaining: 52.4s\n",
      "500:\ttest: 0.8767452\tbest: 0.8767452 (500)\ttotal: 16.4s\tremaining: 49.1s\n",
      "600:\ttest: 0.8769950\tbest: 0.8769993 (598)\ttotal: 19.7s\tremaining: 45.9s\n",
      "700:\ttest: 0.8770950\tbest: 0.8770997 (694)\ttotal: 22.9s\tremaining: 42.5s\n",
      "800:\ttest: 0.8772137\tbest: 0.8772252 (799)\ttotal: 25.9s\tremaining: 38.8s\n",
      "900:\ttest: 0.8772400\tbest: 0.8772791 (866)\ttotal: 28.9s\tremaining: 35.2s\n",
      "Stopped by overfitting detector  (100 iterations wait)\n",
      "\n",
      "bestTest = 0.8772791249\n",
      "bestIteration = 866\n",
      "\n",
      "Shrink model to first 867 iterations.\n",
      "\n",
      "===== Start working with fold 2 for Lvl_0_Pipe_1_Mod_2_CatBoost =====\n",
      "\n",
      "0:\ttest: 0.8543517\tbest: 0.8543517 (0)\ttotal: 23.8ms\tremaining: 47.5s\n",
      "100:\ttest: 0.8752235\tbest: 0.8752235 (100)\ttotal: 2.73s\tremaining: 51.4s\n",
      "200:\ttest: 0.8767543\tbest: 0.8767543 (200)\ttotal: 5.45s\tremaining: 48.8s\n",
      "300:\ttest: 0.8774279\tbest: 0.8774288 (299)\ttotal: 8.3s\tremaining: 46.9s\n",
      "400:\ttest: 0.8778598\tbest: 0.8778598 (400)\ttotal: 11.2s\tremaining: 44.6s\n",
      "500:\ttest: 0.8780580\tbest: 0.8780669 (491)\ttotal: 14.2s\tremaining: 42.5s\n",
      "600:\ttest: 0.8781462\tbest: 0.8781462 (600)\ttotal: 16.9s\tremaining: 39.4s\n",
      "700:\ttest: 0.8782279\tbest: 0.8782454 (644)\ttotal: 19.6s\tremaining: 36.3s\n",
      "Stopped by overfitting detector  (100 iterations wait)\n",
      "\n",
      "bestTest = 0.8782454149\n",
      "bestIteration = 644\n",
      "\n",
      "Shrink model to first 645 iterations.\n",
      "\n",
      "===== Start working with fold 3 for Lvl_0_Pipe_1_Mod_2_CatBoost =====\n",
      "\n",
      "0:\ttest: 0.8443629\tbest: 0.8443629 (0)\ttotal: 24.2ms\tremaining: 48.4s\n",
      "100:\ttest: 0.8650439\tbest: 0.8650439 (100)\ttotal: 2.59s\tremaining: 48.7s\n",
      "200:\ttest: 0.8665329\tbest: 0.8665419 (196)\ttotal: 5.11s\tremaining: 45.8s\n",
      "300:\ttest: 0.8671033\tbest: 0.8671213 (295)\ttotal: 7.83s\tremaining: 44.2s\n",
      "400:\ttest: 0.8673413\tbest: 0.8673426 (371)\ttotal: 10.5s\tremaining: 41.8s\n",
      "500:\ttest: 0.8675303\tbest: 0.8675486 (494)\ttotal: 13.1s\tremaining: 39.2s\n",
      "600:\ttest: 0.8675933\tbest: 0.8676140 (596)\ttotal: 15.8s\tremaining: 36.9s\n",
      "700:\ttest: 0.8675606\tbest: 0.8676229 (615)\ttotal: 18.6s\tremaining: 34.5s\n",
      "Stopped by overfitting detector  (100 iterations wait)\n",
      "\n",
      "bestTest = 0.8676228769\n",
      "bestIteration = 615\n",
      "\n",
      "Shrink model to first 616 iterations.\n",
      "\n",
      "===== Start working with fold 4 for Lvl_0_Pipe_1_Mod_2_CatBoost =====\n",
      "\n",
      "0:\ttest: 0.8505542\tbest: 0.8505542 (0)\ttotal: 28ms\tremaining: 56s\n",
      "100:\ttest: 0.8736446\tbest: 0.8736446 (100)\ttotal: 2.6s\tremaining: 48.8s\n",
      "200:\ttest: 0.8752372\tbest: 0.8753097 (196)\ttotal: 5.17s\tremaining: 46.3s\n",
      "300:\ttest: 0.8758133\tbest: 0.8758155 (295)\ttotal: 7.69s\tremaining: 43.4s\n",
      "400:\ttest: 0.8761303\tbest: 0.8761380 (388)\ttotal: 10.2s\tremaining: 40.6s\n",
      "500:\ttest: 0.8762968\tbest: 0.8763165 (491)\ttotal: 12.7s\tremaining: 37.9s\n",
      "600:\ttest: 0.8764177\tbest: 0.8764259 (583)\ttotal: 15.3s\tremaining: 35.7s\n",
      "700:\ttest: 0.8763357\tbest: 0.8764644 (662)\ttotal: 17.9s\tremaining: 33.1s\n",
      "Stopped by overfitting detector  (100 iterations wait)\n",
      "\n",
      "bestTest = 0.876464442\n",
      "bestIteration = 662\n",
      "\n",
      "Shrink model to first 663 iterations.\n",
      "Lvl_0_Pipe_1_Mod_2_CatBoost fitting and predicting completed\n",
      "Optuna may run 147.69008326530457 secs\n"
     ]
    },
    {
     "name": "stderr",
     "output_type": "stream",
     "text": [
      "[2021-05-30 23:07:58,484] (INFO): A new study created in memory with name: no-name-ecb64cb5-4295-410c-ac29-1b06d3451aad\n"
     ]
    },
    {
     "name": "stdout",
     "output_type": "stream",
     "text": [
      "Start fitting Lvl_0_Pipe_1_Mod_3_CatBoost ...\n",
      "\n",
      "===== Start working with fold 0 for Lvl_0_Pipe_1_Mod_3_CatBoost =====\n",
      "\n",
      "0:\ttest: 0.8422937\tbest: 0.8422937 (0)\ttotal: 21.9ms\tremaining: 43.8s\n",
      "100:\ttest: 0.8675363\tbest: 0.8675363 (100)\ttotal: 2.48s\tremaining: 46.6s\n",
      "200:\ttest: 0.8694666\tbest: 0.8694666 (200)\ttotal: 4.9s\tremaining: 43.9s\n",
      "300:\ttest: 0.8704537\tbest: 0.8704537 (300)\ttotal: 7.31s\tremaining: 41.2s\n",
      "400:\ttest: 0.8710219\tbest: 0.8710219 (400)\ttotal: 9.76s\tremaining: 38.9s\n",
      "500:\ttest: 0.8714342\tbest: 0.8714342 (500)\ttotal: 12.2s\tremaining: 36.5s\n",
      "600:\ttest: 0.8717406\tbest: 0.8717434 (599)\ttotal: 14.7s\tremaining: 34.2s\n",
      "700:\ttest: 0.8719845\tbest: 0.8719849 (699)\ttotal: 17.2s\tremaining: 31.8s\n",
      "800:\ttest: 0.8720555\tbest: 0.8720576 (766)\ttotal: 19.9s\tremaining: 29.7s\n",
      "900:\ttest: 0.8721614\tbest: 0.8721614 (900)\ttotal: 22.6s\tremaining: 27.6s\n",
      "1000:\ttest: 0.8722511\tbest: 0.8722592 (997)\ttotal: 25.1s\tremaining: 25.1s\n",
      "1100:\ttest: 0.8722696\tbest: 0.8722718 (1099)\ttotal: 27.6s\tremaining: 22.5s\n",
      "1200:\ttest: 0.8723774\tbest: 0.8723787 (1195)\ttotal: 30s\tremaining: 20s\n",
      "1300:\ttest: 0.8724565\tbest: 0.8724565 (1300)\ttotal: 32.5s\tremaining: 17.4s\n",
      "1400:\ttest: 0.8724846\tbest: 0.8724873 (1399)\ttotal: 34.9s\tremaining: 14.9s\n",
      "1500:\ttest: 0.8724368\tbest: 0.8725010 (1416)\ttotal: 37.4s\tremaining: 12.4s\n",
      "Stopped by overfitting detector  (100 iterations wait)\n",
      "\n",
      "bestTest = 0.8725010346\n",
      "bestIteration = 1416\n",
      "\n",
      "Shrink model to first 1417 iterations.\n",
      "Lvl_0_Pipe_1_Mod_3_CatBoost fitting and predicting completed\n"
     ]
    },
    {
     "name": "stderr",
     "output_type": "stream",
     "text": [
      "[2021-05-30 23:08:37,095] (INFO): Trial 0 finished with value: 0.8725010345502973 and parameters: {'max_depth': 4, 'l2_leaf_reg': 3.6010467344475403, 'min_data_in_leaf': 15}. Best is trial 0 with value: 0.8725010345502973.\n"
     ]
    },
    {
     "name": "stdout",
     "output_type": "stream",
     "text": [
      "Start fitting Lvl_0_Pipe_1_Mod_3_CatBoost ...\n",
      "\n",
      "===== Start working with fold 0 for Lvl_0_Pipe_1_Mod_3_CatBoost =====\n",
      "\n",
      "0:\ttest: 0.8476877\tbest: 0.8476877 (0)\ttotal: 24.6ms\tremaining: 49.1s\n",
      "100:\ttest: 0.8685053\tbest: 0.8685053 (100)\ttotal: 2.59s\tremaining: 48.6s\n",
      "200:\ttest: 0.8704174\tbest: 0.8704174 (200)\ttotal: 5.15s\tremaining: 46.1s\n",
      "300:\ttest: 0.8713409\tbest: 0.8713409 (300)\ttotal: 7.7s\tremaining: 43.5s\n",
      "400:\ttest: 0.8715140\tbest: 0.8716527 (352)\ttotal: 10.2s\tremaining: 40.7s\n",
      "500:\ttest: 0.8718433\tbest: 0.8718451 (498)\ttotal: 12.8s\tremaining: 38.3s\n",
      "600:\ttest: 0.8719656\tbest: 0.8719679 (597)\ttotal: 15.4s\tremaining: 35.9s\n",
      "700:\ttest: 0.8720038\tbest: 0.8720906 (646)\ttotal: 18s\tremaining: 33.3s\n",
      "800:\ttest: 0.8719951\tbest: 0.8720965 (740)\ttotal: 20.5s\tremaining: 30.7s\n",
      "Stopped by overfitting detector  (100 iterations wait)\n",
      "\n",
      "bestTest = 0.8720965034\n",
      "bestIteration = 740\n",
      "\n",
      "Shrink model to first 741 iterations.\n",
      "Lvl_0_Pipe_1_Mod_3_CatBoost fitting and predicting completed\n"
     ]
    },
    {
     "name": "stderr",
     "output_type": "stream",
     "text": [
      "[2021-05-30 23:08:59,288] (INFO): Trial 1 finished with value: 0.8720965033951914 and parameters: {'max_depth': 5, 'l2_leaf_reg': 2.5361081166471375e-07, 'min_data_in_leaf': 4}. Best is trial 0 with value: 0.8725010345502973.\n"
     ]
    },
    {
     "name": "stdout",
     "output_type": "stream",
     "text": [
      "Start fitting Lvl_0_Pipe_1_Mod_3_CatBoost ...\n",
      "\n",
      "===== Start working with fold 0 for Lvl_0_Pipe_1_Mod_3_CatBoost =====\n",
      "\n",
      "0:\ttest: 0.8236132\tbest: 0.8236132 (0)\ttotal: 21.7ms\tremaining: 43.4s\n",
      "100:\ttest: 0.8661610\tbest: 0.8661610 (100)\ttotal: 2.22s\tremaining: 41.7s\n",
      "200:\ttest: 0.8680210\tbest: 0.8680210 (200)\ttotal: 4.32s\tremaining: 38.6s\n",
      "300:\ttest: 0.8691945\tbest: 0.8691945 (300)\ttotal: 6.38s\tremaining: 36s\n",
      "400:\ttest: 0.8701611\tbest: 0.8701611 (400)\ttotal: 8.52s\tremaining: 34s\n",
      "500:\ttest: 0.8706071\tbest: 0.8706071 (500)\ttotal: 10.7s\tremaining: 31.9s\n",
      "600:\ttest: 0.8710483\tbest: 0.8710483 (600)\ttotal: 12.8s\tremaining: 29.8s\n",
      "700:\ttest: 0.8713305\tbest: 0.8713305 (700)\ttotal: 15s\tremaining: 27.7s\n",
      "800:\ttest: 0.8714965\tbest: 0.8715006 (797)\ttotal: 17.2s\tremaining: 25.7s\n",
      "900:\ttest: 0.8715816\tbest: 0.8715824 (898)\ttotal: 19.3s\tremaining: 23.6s\n",
      "1000:\ttest: 0.8717094\tbest: 0.8717094 (1000)\ttotal: 21.5s\tremaining: 21.4s\n",
      "1100:\ttest: 0.8717849\tbest: 0.8717966 (1083)\ttotal: 23.6s\tremaining: 19.3s\n",
      "1200:\ttest: 0.8718404\tbest: 0.8718472 (1144)\ttotal: 25.8s\tremaining: 17.2s\n",
      "1300:\ttest: 0.8719719\tbest: 0.8719719 (1300)\ttotal: 28s\tremaining: 15s\n",
      "1400:\ttest: 0.8720377\tbest: 0.8720382 (1395)\ttotal: 30.1s\tremaining: 12.9s\n",
      "1500:\ttest: 0.8720749\tbest: 0.8720759 (1496)\ttotal: 32.2s\tremaining: 10.7s\n",
      "1600:\ttest: 0.8721503\tbest: 0.8721503 (1600)\ttotal: 34.2s\tremaining: 8.53s\n",
      "1700:\ttest: 0.8721327\tbest: 0.8721529 (1615)\ttotal: 36.4s\tremaining: 6.4s\n",
      "1800:\ttest: 0.8722332\tbest: 0.8722332 (1800)\ttotal: 38.5s\tremaining: 4.26s\n",
      "1900:\ttest: 0.8722246\tbest: 0.8722383 (1811)\ttotal: 40.6s\tremaining: 2.12s\n",
      "Stopped by overfitting detector  (100 iterations wait)\n",
      "\n",
      "bestTest = 0.8722382566\n",
      "bestIteration = 1811\n",
      "\n",
      "Shrink model to first 1812 iterations.\n",
      "Lvl_0_Pipe_1_Mod_3_CatBoost fitting and predicting completed\n"
     ]
    },
    {
     "name": "stderr",
     "output_type": "stream",
     "text": [
      "[2021-05-30 23:09:41,013] (INFO): Trial 2 finished with value: 0.8722382548418277 and parameters: {'max_depth': 3, 'l2_leaf_reg': 0.6245760287469893, 'min_data_in_leaf': 13}. Best is trial 0 with value: 0.8725010345502973.\n"
     ]
    },
    {
     "name": "stdout",
     "output_type": "stream",
     "text": [
      "Start fitting Lvl_0_Pipe_1_Mod_3_CatBoost ...\n",
      "\n",
      "===== Start working with fold 0 for Lvl_0_Pipe_1_Mod_3_CatBoost =====\n",
      "\n",
      "0:\ttest: 0.8515578\tbest: 0.8515578 (0)\ttotal: 27.8ms\tremaining: 55.6s\n",
      "100:\ttest: 0.8693353\tbest: 0.8693353 (100)\ttotal: 3.04s\tremaining: 57.3s\n",
      "200:\ttest: 0.8710517\tbest: 0.8710539 (199)\ttotal: 5.9s\tremaining: 52.8s\n",
      "300:\ttest: 0.8716160\tbest: 0.8716160 (300)\ttotal: 8.7s\tremaining: 49.1s\n",
      "400:\ttest: 0.8717376\tbest: 0.8718262 (385)\ttotal: 11.6s\tremaining: 46.3s\n",
      "500:\ttest: 0.8715740\tbest: 0.8718320 (444)\ttotal: 14.5s\tremaining: 43.4s\n",
      "Stopped by overfitting detector  (100 iterations wait)\n",
      "\n",
      "bestTest = 0.8718319753\n",
      "bestIteration = 444\n",
      "\n",
      "Shrink model to first 445 iterations.\n",
      "Lvl_0_Pipe_1_Mod_3_CatBoost fitting and predicting completed\n"
     ]
    },
    {
     "name": "stderr",
     "output_type": "stream",
     "text": [
      "[2021-05-30 23:09:57,501] (INFO): Trial 3 finished with value: 0.871831977089797 and parameters: {'max_depth': 6, 'l2_leaf_reg': 1.5320059381854043e-08, 'min_data_in_leaf': 20}. Best is trial 0 with value: 0.8725010345502973.\n"
     ]
    },
    {
     "name": "stdout",
     "output_type": "stream",
     "text": [
      "Start fitting Lvl_0_Pipe_1_Mod_3_CatBoost ...\n",
      "\n",
      "===== Start working with fold 0 for Lvl_0_Pipe_1_Mod_3_CatBoost =====\n",
      "\n",
      "0:\ttest: 0.8515527\tbest: 0.8515527 (0)\ttotal: 27.4ms\tremaining: 54.7s\n",
      "100:\ttest: 0.8696857\tbest: 0.8696857 (100)\ttotal: 3.21s\tremaining: 1m\n",
      "200:\ttest: 0.8712015\tbest: 0.8712015 (200)\ttotal: 6.33s\tremaining: 56.7s\n",
      "300:\ttest: 0.8716156\tbest: 0.8717034 (289)\ttotal: 9.44s\tremaining: 53.3s\n",
      "400:\ttest: 0.8716348\tbest: 0.8718573 (319)\ttotal: 12.7s\tremaining: 50.7s\n",
      "Stopped by overfitting detector  (100 iterations wait)\n",
      "\n",
      "bestTest = 0.8718572518\n",
      "bestIteration = 319\n",
      "\n",
      "Shrink model to first 320 iterations.\n",
      "Lvl_0_Pipe_1_Mod_3_CatBoost fitting and predicting completed\n"
     ]
    },
    {
     "name": "stderr",
     "output_type": "stream",
     "text": [
      "[2021-05-30 23:10:11,351] (INFO): Trial 4 finished with value: 0.8718572535830622 and parameters: {'max_depth': 7, 'l2_leaf_reg': 8.148018307012941e-07, 'min_data_in_leaf': 4}. Best is trial 0 with value: 0.8725010345502973.\n"
     ]
    },
    {
     "name": "stdout",
     "output_type": "stream",
     "text": [
      "Start fitting Lvl_0_Pipe_1_Mod_3_CatBoost ...\n",
      "\n",
      "===== Start working with fold 0 for Lvl_0_Pipe_1_Mod_3_CatBoost =====\n",
      "\n",
      "0:\ttest: 0.8236132\tbest: 0.8236132 (0)\ttotal: 24.2ms\tremaining: 48.3s\n",
      "100:\ttest: 0.8659150\tbest: 0.8659150 (100)\ttotal: 2.28s\tremaining: 42.9s\n",
      "200:\ttest: 0.8678578\tbest: 0.8678594 (199)\ttotal: 4.54s\tremaining: 40.7s\n",
      "300:\ttest: 0.8692300\tbest: 0.8692300 (300)\ttotal: 6.68s\tremaining: 37.7s\n",
      "400:\ttest: 0.8699671\tbest: 0.8699717 (397)\ttotal: 8.78s\tremaining: 35s\n",
      "500:\ttest: 0.8703911\tbest: 0.8703911 (500)\ttotal: 11.2s\tremaining: 33.4s\n",
      "600:\ttest: 0.8708066\tbest: 0.8708066 (600)\ttotal: 13.5s\tremaining: 31.5s\n",
      "700:\ttest: 0.8709746\tbest: 0.8709746 (700)\ttotal: 15.7s\tremaining: 29.2s\n",
      "800:\ttest: 0.8712631\tbest: 0.8712655 (799)\ttotal: 17.9s\tremaining: 26.8s\n",
      "900:\ttest: 0.8714037\tbest: 0.8714037 (900)\ttotal: 20.1s\tremaining: 24.6s\n",
      "1000:\ttest: 0.8715928\tbest: 0.8715928 (1000)\ttotal: 22.4s\tremaining: 22.3s\n",
      "1100:\ttest: 0.8717228\tbest: 0.8717337 (1086)\ttotal: 24.5s\tremaining: 20s\n",
      "1200:\ttest: 0.8718937\tbest: 0.8718941 (1199)\ttotal: 26.7s\tremaining: 17.7s\n",
      "1300:\ttest: 0.8719632\tbest: 0.8719647 (1297)\ttotal: 28.9s\tremaining: 15.5s\n",
      "1400:\ttest: 0.8720049\tbest: 0.8720118 (1399)\ttotal: 31.1s\tremaining: 13.3s\n",
      "1500:\ttest: 0.8720315\tbest: 0.8720378 (1465)\ttotal: 33.2s\tremaining: 11s\n",
      "1600:\ttest: 0.8721033\tbest: 0.8721093 (1599)\ttotal: 35.3s\tremaining: 8.8s\n",
      "1700:\ttest: 0.8721379\tbest: 0.8721379 (1700)\ttotal: 37.4s\tremaining: 6.57s\n",
      "1800:\ttest: 0.8721287\tbest: 0.8721456 (1760)\ttotal: 39.5s\tremaining: 4.36s\n",
      "1900:\ttest: 0.8721056\tbest: 0.8721459 (1815)\ttotal: 41.6s\tremaining: 2.16s\n",
      "Stopped by overfitting detector  (100 iterations wait)\n",
      "\n",
      "bestTest = 0.8721459444\n",
      "bestIteration = 1815\n",
      "\n",
      "Shrink model to first 1816 iterations.\n",
      "Lvl_0_Pipe_1_Mod_3_CatBoost fitting and predicting completed\n"
     ]
    },
    {
     "name": "stderr",
     "output_type": "stream",
     "text": [
      "[2021-05-30 23:10:54,136] (INFO): Trial 5 finished with value: 0.8721459444233931 and parameters: {'max_depth': 3, 'l2_leaf_reg': 5.472429642032198e-06, 'min_data_in_leaf': 11}. Best is trial 0 with value: 0.8725010345502973.\n"
     ]
    },
    {
     "name": "stdout",
     "output_type": "stream",
     "text": [
      "Start fitting Lvl_0_Pipe_1_Mod_3_CatBoost ...\n",
      "\n",
      "===== Start working with fold 0 for Lvl_0_Pipe_1_Mod_3_CatBoost =====\n",
      "\n",
      "0:\ttest: 0.8422937\tbest: 0.8422937 (0)\ttotal: 22ms\tremaining: 1m 5s\n",
      "100:\ttest: 0.8662014\tbest: 0.8662014 (100)\ttotal: 2.58s\tremaining: 1m 13s\n",
      "200:\ttest: 0.8684457\tbest: 0.8684457 (200)\ttotal: 5.06s\tremaining: 1m 10s\n",
      "300:\ttest: 0.8694642\tbest: 0.8694642 (300)\ttotal: 7.57s\tremaining: 1m 7s\n",
      "400:\ttest: 0.8701740\tbest: 0.8701740 (400)\ttotal: 10s\tremaining: 1m 4s\n",
      "500:\ttest: 0.8707772\tbest: 0.8707772 (500)\ttotal: 12.4s\tremaining: 1m 1s\n",
      "600:\ttest: 0.8711590\tbest: 0.8711595 (599)\ttotal: 14.9s\tremaining: 59.4s\n",
      "700:\ttest: 0.8714739\tbest: 0.8714780 (696)\ttotal: 17.4s\tremaining: 57.1s\n",
      "800:\ttest: 0.8716946\tbest: 0.8716946 (800)\ttotal: 19.9s\tremaining: 54.7s\n",
      "900:\ttest: 0.8718277\tbest: 0.8718295 (899)\ttotal: 22.4s\tremaining: 52.2s\n",
      "1000:\ttest: 0.8719011\tbest: 0.8719158 (981)\ttotal: 24.8s\tremaining: 49.6s\n",
      "1100:\ttest: 0.8719941\tbest: 0.8720049 (1072)\ttotal: 27.2s\tremaining: 47s\n",
      "1200:\ttest: 0.8720587\tbest: 0.8720723 (1182)\ttotal: 29.7s\tremaining: 44.5s\n",
      "1300:\ttest: 0.8721248\tbest: 0.8721259 (1292)\ttotal: 32.4s\tremaining: 42.3s\n",
      "1400:\ttest: 0.8722000\tbest: 0.8722028 (1392)\ttotal: 35.1s\tremaining: 40.1s\n",
      "1500:\ttest: 0.8722946\tbest: 0.8722957 (1498)\ttotal: 37.6s\tremaining: 37.6s\n",
      "1600:\ttest: 0.8723492\tbest: 0.8723492 (1600)\ttotal: 40.1s\tremaining: 35.1s\n",
      "1700:\ttest: 0.8723938\tbest: 0.8724076 (1648)\ttotal: 42.6s\tremaining: 32.5s\n",
      "1800:\ttest: 0.8724255\tbest: 0.8724255 (1800)\ttotal: 45.1s\tremaining: 30s\n",
      "1900:\ttest: 0.8724524\tbest: 0.8724834 (1860)\ttotal: 47.6s\tremaining: 27.5s\n",
      "Stopped by overfitting detector  (100 iterations wait)\n",
      "\n",
      "bestTest = 0.8724833541\n",
      "bestIteration = 1860\n",
      "\n",
      "Shrink model to first 1861 iterations.\n",
      "\n",
      "===== Start working with fold 1 for Lvl_0_Pipe_1_Mod_3_CatBoost =====\n",
      "\n",
      "0:\ttest: 0.8497664\tbest: 0.8497664 (0)\ttotal: 21.9ms\tremaining: 1m 5s\n",
      "100:\ttest: 0.8702408\tbest: 0.8702408 (100)\ttotal: 2.5s\tremaining: 1m 11s\n",
      "200:\ttest: 0.8729531\tbest: 0.8729531 (200)\ttotal: 4.97s\tremaining: 1m 9s\n",
      "300:\ttest: 0.8742003\tbest: 0.8742013 (299)\ttotal: 7.43s\tremaining: 1m 6s\n",
      "400:\ttest: 0.8748933\tbest: 0.8748933 (400)\ttotal: 9.79s\tremaining: 1m 3s\n",
      "500:\ttest: 0.8755963\tbest: 0.8755963 (500)\ttotal: 12.2s\tremaining: 1m\n",
      "600:\ttest: 0.8760027\tbest: 0.8760027 (600)\ttotal: 14.7s\tremaining: 58.8s\n",
      "700:\ttest: 0.8762244\tbest: 0.8762244 (700)\ttotal: 17.2s\tremaining: 56.4s\n",
      "800:\ttest: 0.8764366\tbest: 0.8764366 (800)\ttotal: 19.7s\tremaining: 54.1s\n",
      "900:\ttest: 0.8766219\tbest: 0.8766219 (900)\ttotal: 22.2s\tremaining: 51.6s\n",
      "1000:\ttest: 0.8767595\tbest: 0.8767601 (999)\ttotal: 24.7s\tremaining: 49.3s\n",
      "1100:\ttest: 0.8768764\tbest: 0.8768764 (1100)\ttotal: 27.1s\tremaining: 46.8s\n",
      "1200:\ttest: 0.8769976\tbest: 0.8770051 (1192)\ttotal: 29.6s\tremaining: 44.4s\n",
      "1300:\ttest: 0.8771172\tbest: 0.8771172 (1300)\ttotal: 32.1s\tremaining: 41.9s\n",
      "1400:\ttest: 0.8771524\tbest: 0.8771555 (1380)\ttotal: 34.6s\tremaining: 39.5s\n",
      "1500:\ttest: 0.8772094\tbest: 0.8772209 (1477)\ttotal: 37s\tremaining: 36.9s\n",
      "Stopped by overfitting detector  (100 iterations wait)\n",
      "\n",
      "bestTest = 0.8772208829\n",
      "bestIteration = 1477\n",
      "\n",
      "Shrink model to first 1478 iterations.\n",
      "\n",
      "===== Start working with fold 2 for Lvl_0_Pipe_1_Mod_3_CatBoost =====\n",
      "\n",
      "0:\ttest: 0.8482897\tbest: 0.8482897 (0)\ttotal: 22.9ms\tremaining: 1m 8s\n",
      "100:\ttest: 0.8724870\tbest: 0.8724870 (100)\ttotal: 2.55s\tremaining: 1m 13s\n",
      "200:\ttest: 0.8752606\tbest: 0.8752606 (200)\ttotal: 4.95s\tremaining: 1m 8s\n",
      "300:\ttest: 0.8761681\tbest: 0.8761681 (300)\ttotal: 7.33s\tremaining: 1m 5s\n",
      "400:\ttest: 0.8768000\tbest: 0.8768000 (400)\ttotal: 9.66s\tremaining: 1m 2s\n",
      "500:\ttest: 0.8773141\tbest: 0.8773144 (499)\ttotal: 12.1s\tremaining: 1m\n",
      "600:\ttest: 0.8776942\tbest: 0.8776986 (596)\ttotal: 14.6s\tremaining: 58.4s\n",
      "700:\ttest: 0.8778957\tbest: 0.8778957 (700)\ttotal: 17.2s\tremaining: 56.4s\n",
      "800:\ttest: 0.8780593\tbest: 0.8780608 (799)\ttotal: 19.7s\tremaining: 54.1s\n",
      "900:\ttest: 0.8782354\tbest: 0.8782354 (900)\ttotal: 22.2s\tremaining: 51.8s\n",
      "1000:\ttest: 0.8783664\tbest: 0.8783664 (1000)\ttotal: 24.6s\tremaining: 49.2s\n",
      "1100:\ttest: 0.8784647\tbest: 0.8784739 (1092)\ttotal: 27.1s\tremaining: 46.8s\n",
      "1200:\ttest: 0.8785284\tbest: 0.8785306 (1196)\ttotal: 29.6s\tremaining: 44.3s\n",
      "1300:\ttest: 0.8785609\tbest: 0.8785624 (1298)\ttotal: 32.1s\tremaining: 41.9s\n",
      "1400:\ttest: 0.8786170\tbest: 0.8786170 (1400)\ttotal: 34.5s\tremaining: 39.4s\n",
      "1500:\ttest: 0.8786514\tbest: 0.8786597 (1493)\ttotal: 37.1s\tremaining: 37s\n",
      "1600:\ttest: 0.8786637\tbest: 0.8786755 (1551)\ttotal: 39.5s\tremaining: 34.5s\n",
      "1700:\ttest: 0.8787192\tbest: 0.8787192 (1699)\ttotal: 42s\tremaining: 32.1s\n",
      "1800:\ttest: 0.8787824\tbest: 0.8787824 (1800)\ttotal: 44.5s\tremaining: 29.6s\n",
      "1900:\ttest: 0.8787968\tbest: 0.8788071 (1879)\ttotal: 46.9s\tremaining: 27.1s\n",
      "2000:\ttest: 0.8788561\tbest: 0.8788587 (1975)\ttotal: 49.4s\tremaining: 24.7s\n",
      "2100:\ttest: 0.8788670\tbest: 0.8788710 (2095)\ttotal: 51.9s\tremaining: 22.2s\n",
      "2200:\ttest: 0.8788760\tbest: 0.8788870 (2187)\ttotal: 54.4s\tremaining: 19.7s\n",
      "2300:\ttest: 0.8788767\tbest: 0.8789020 (2244)\ttotal: 56.9s\tremaining: 17.3s\n",
      "Stopped by overfitting detector  (100 iterations wait)\n",
      "\n",
      "bestTest = 0.8789019565\n",
      "bestIteration = 2244\n",
      "\n",
      "Shrink model to first 2245 iterations.\n",
      "\n",
      "===== Start working with fold 3 for Lvl_0_Pipe_1_Mod_3_CatBoost =====\n",
      "\n",
      "0:\ttest: 0.8439598\tbest: 0.8439598 (0)\ttotal: 22.6ms\tremaining: 1m 7s\n",
      "100:\ttest: 0.8628532\tbest: 0.8628532 (100)\ttotal: 2.54s\tremaining: 1m 12s\n",
      "200:\ttest: 0.8648836\tbest: 0.8648836 (200)\ttotal: 5.13s\tremaining: 1m 11s\n",
      "300:\ttest: 0.8655018\tbest: 0.8655138 (294)\ttotal: 7.63s\tremaining: 1m 8s\n",
      "400:\ttest: 0.8659423\tbest: 0.8659423 (400)\ttotal: 10.2s\tremaining: 1m 5s\n",
      "500:\ttest: 0.8663171\tbest: 0.8663171 (500)\ttotal: 12.8s\tremaining: 1m 3s\n",
      "600:\ttest: 0.8666904\tbest: 0.8666963 (595)\ttotal: 15.5s\tremaining: 1m 1s\n",
      "700:\ttest: 0.8668548\tbest: 0.8668633 (692)\ttotal: 18.2s\tremaining: 59.8s\n",
      "800:\ttest: 0.8670517\tbest: 0.8670542 (789)\ttotal: 20.8s\tremaining: 57.2s\n",
      "900:\ttest: 0.8672564\tbest: 0.8672564 (900)\ttotal: 23.5s\tremaining: 54.7s\n",
      "1000:\ttest: 0.8673723\tbest: 0.8673724 (999)\ttotal: 26.1s\tremaining: 52.1s\n",
      "1100:\ttest: 0.8674230\tbest: 0.8674326 (1023)\ttotal: 28.7s\tremaining: 49.5s\n",
      "Stopped by overfitting detector  (100 iterations wait)\n",
      "\n",
      "bestTest = 0.8674326337\n",
      "bestIteration = 1023\n",
      "\n",
      "Shrink model to first 1024 iterations.\n",
      "\n",
      "===== Start working with fold 4 for Lvl_0_Pipe_1_Mod_3_CatBoost =====\n",
      "\n",
      "0:\ttest: 0.8408895\tbest: 0.8408895 (0)\ttotal: 22.8ms\tremaining: 1m 8s\n",
      "100:\ttest: 0.8709116\tbest: 0.8709116 (100)\ttotal: 2.51s\tremaining: 1m 12s\n",
      "200:\ttest: 0.8732007\tbest: 0.8732007 (200)\ttotal: 5.03s\tremaining: 1m 10s\n",
      "300:\ttest: 0.8743688\tbest: 0.8743688 (300)\ttotal: 7.5s\tremaining: 1m 7s\n",
      "400:\ttest: 0.8749758\tbest: 0.8749758 (400)\ttotal: 10s\tremaining: 1m 4s\n",
      "500:\ttest: 0.8755383\tbest: 0.8755439 (499)\ttotal: 12.5s\tremaining: 1m 2s\n",
      "600:\ttest: 0.8757355\tbest: 0.8757362 (599)\ttotal: 14.9s\tremaining: 59.6s\n",
      "700:\ttest: 0.8760258\tbest: 0.8760262 (699)\ttotal: 17.4s\tremaining: 57.2s\n",
      "800:\ttest: 0.8762498\tbest: 0.8762514 (797)\ttotal: 20s\tremaining: 54.8s\n",
      "900:\ttest: 0.8763953\tbest: 0.8763986 (898)\ttotal: 22.4s\tremaining: 52.3s\n",
      "1000:\ttest: 0.8764913\tbest: 0.8765021 (992)\ttotal: 25s\tremaining: 49.9s\n",
      "1100:\ttest: 0.8765337\tbest: 0.8765484 (1092)\ttotal: 27.5s\tremaining: 47.4s\n",
      "1200:\ttest: 0.8765669\tbest: 0.8765715 (1197)\ttotal: 30s\tremaining: 45s\n",
      "1300:\ttest: 0.8766130\tbest: 0.8766147 (1290)\ttotal: 32.5s\tremaining: 42.4s\n",
      "1400:\ttest: 0.8766984\tbest: 0.8767013 (1379)\ttotal: 35s\tremaining: 40s\n",
      "1500:\ttest: 0.8767298\tbest: 0.8767309 (1498)\ttotal: 37.5s\tremaining: 37.4s\n",
      "1600:\ttest: 0.8767547\tbest: 0.8767547 (1600)\ttotal: 39.9s\tremaining: 34.9s\n",
      "1700:\ttest: 0.8768196\tbest: 0.8768203 (1689)\ttotal: 42.4s\tremaining: 32.4s\n",
      "1800:\ttest: 0.8768199\tbest: 0.8768313 (1734)\ttotal: 44.8s\tremaining: 29.8s\n",
      "Stopped by overfitting detector  (100 iterations wait)\n",
      "\n",
      "bestTest = 0.8768312988\n",
      "bestIteration = 1734\n",
      "\n",
      "Shrink model to first 1735 iterations.\n",
      "Lvl_0_Pipe_1_Mod_3_CatBoost fitting and predicting completed\n",
      "Time left 338.6176414489746\n",
      "Blending: Optimization starts with equal weights and score 0.8741703672472996\n",
      "Blending, iter 0: score = 0.8753012046977986, weights = [0.         0.1312199  0.69117963 0.06747189 0.11012863]\n",
      "Blending, iter 1: score = 0.8753045211224529, weights = [0.         0.17239544 0.64583635 0.06304556 0.11872264]\n",
      "Blending, iter 2: score = 0.8753048554250373, weights = [0.         0.16420695 0.6592338  0.05454513 0.12201405]\n"
     ]
    },
    {
     "name": "stdout",
     "output_type": "stream",
     "text": [
      "Blending, iter 3: score = 0.8753049310811087, weights = [0.         0.17355274 0.64841527 0.05500015 0.12303188]\n",
      "Blending, iter 4: score = 0.8753049310811087, weights = [0.         0.17355274 0.64841527 0.05500015 0.12303188]\n",
      "No score update. Terminated\n",
      "\n",
      "Automl preset training completed in 872.88 seconds.\n"
     ]
    },
    {
     "name": "stderr",
     "output_type": "stream",
     "text": [
      "[2021-05-30 23:14:50,055] (INFO): oof_pred:\n",
      "array([[0.14758703],\n",
      "       [0.05164918],\n",
      "       [0.28519446],\n",
      "       ...,\n",
      "       [0.09277727],\n",
      "       [0.05211974],\n",
      "       [0.05716815]], dtype=float32)\n",
      "Shape = (196580, 1)\n"
     ]
    }
   ],
   "source": [
    "automl = TabularAutoML(task = task, \n",
    "                       timeout = TIMEOUT,\n",
    "                       cpu_limit = N_THREADS,\n",
    "                       reader_params = {'n_jobs': N_THREADS, 'cv': N_FOLDS, 'random_state': RANDOM_STATE},\n",
    "                      )\n",
    "oof_pred = automl.fit_predict(train_data, roles = roles)\n",
    "logging.info('oof_pred:\\n{}\\nShape = {}'.format(oof_pred, oof_pred.shape))\n"
   ]
  },
  {
   "cell_type": "code",
   "execution_count": 8,
   "metadata": {},
   "outputs": [
    {
     "name": "stdout",
     "output_type": "stream",
     "text": [
      "LightAutoML used 9 feats\n",
      "1/9 Calculated score for Gender: 0.0000671\n",
      "2/9 Calculated score for Channel_Code: 0.0075381\n",
      "3/9 Calculated score for Credit_Product: 0.2096989\n",
      "4/9 Calculated score for Avg_Account_Balance: 0.0001893\n",
      "5/9 Calculated score for Occupation: 0.0802830\n",
      "6/9 Calculated score for Region_Code: 0.0010754\n",
      "7/9 Calculated score for Vintage: 0.0372890\n",
      "8/9 Calculated score for Is_Active: 0.0049491\n",
      "9/9 Calculated score for Age: 0.0567152\n"
     ]
    },
    {
     "data": {
      "text/plain": [
       "<matplotlib.axes._subplots.AxesSubplot at 0x1a24ca24220>"
      ]
     },
     "execution_count": 8,
     "metadata": {},
     "output_type": "execute_result"
    },
    {
     "data": {
      "image/png": "[encoded data removed]",
      "text/plain": [
       "<Figure size 1440x720 with 1 Axes>"
      ]
     },
     "metadata": {
      "needs_background": "light"
     },
     "output_type": "display_data"
    }
   ],
   "source": [
    "fast_fi = automl.get_feature_scores('fast')\n",
    "fast_fi.set_index('Feature')['Importance'].plot.bar(figsize = (20, 10), grid = True)\n",
    "accurate_fi = automl.get_feature_scores('accurate', test_data, silent = False)\n",
    "accurate_fi.set_index('Feature')['Importance'].plot.bar(figsize = (20, 10), grid = True)"
   ]
  },
  {
   "cell_type": "code",
   "execution_count": 9,
   "metadata": {},
   "outputs": [
    {
     "name": "stderr",
     "output_type": "stream",
     "text": [
      "[2021-05-30 23:15:40,471] (INFO): Prediction for test data:\n",
      "array([[0.05085582],\n",
      "       [0.09890639],\n",
      "       [0.9858508 ],\n",
      "       ...,\n",
      "       [0.05335942],\n",
      "       [0.03970084],\n",
      "       [0.1885561 ]], dtype=float32)\n",
      "Shape = (49145, 1)\n",
      "[2021-05-30 23:15:40,472] (INFO): Check scores...\n"
     ]
    }
   ],
   "source": [
    "test_pred = automl.predict(test_data)\n",
    "logging.info('Prediction for test data:\\n{}\\nShape = {}'\n",
    "              .format(test_pred, test_pred.shape))\n",
    "\n",
    "logging.info('Check scores...')\n",
    "#logging.info('OOF score: {}'.format(roc_auc_score(train_data[TARGET_NAME].values, oof_pred.data[:, 0])))\n",
    "#logging.info('TEST score: {}'.format(roc_auc_score(test_data[TARGET_NAME].values, test_pred.data[:, 0])))"
   ]
  },
  {
   "cell_type": "code",
   "execution_count": 10,
   "metadata": {},
   "outputs": [
    {
     "name": "stdout",
     "output_type": "stream",
     "text": [
      "Current random state: {'reader_params': {'random_state': 42}, 'general_params': {'return_all_predictions': False}}\n",
      "Found reader_params in kwargs, need to combine\n",
      "Merged variant for reader_params = {'n_jobs': 8, 'cv': 5, 'random_state': 42}\n",
      "Start automl preset with listed constraints:\n",
      "- time: 1199.9970076084137 seconds\n",
      "- cpus: 8 cores\n",
      "- memory: 16 gb\n",
      "\n",
      "Train data shape: (196580, 10)\n",
      "Feats was rejected during automatic roles guess: []\n",
      "\n",
      "\n",
      "Layer 1 ...\n",
      "Train process start. Time left 1145.2183480262756 secs\n",
      "Start fitting Lvl_0_Pipe_0_Mod_0_LinearL2 ...\n",
      "\n",
      "===== Start working with fold 0 for Lvl_0_Pipe_0_Mod_0_LinearL2 =====\n",
      "\n",
      "Linear model: C = 1e-05 score = 0.8504665058486506\n",
      "Linear model: C = 5e-05 score = 0.8533713378760823\n",
      "Linear model: C = 0.0001 score = 0.8547821001453269\n",
      "Linear model: C = 0.0005 score = 0.8570897479801867\n",
      "Linear model: C = 0.001 score = 0.857342958053714\n",
      "Linear model: C = 0.005 score = 0.8575800715471888\n",
      "Linear model: C = 0.01 score = 0.8575800715471888\n",
      "Linear model: C = 0.05 score = 0.8575800715471888\n",
      "\n",
      "===== Start working with fold 1 for Lvl_0_Pipe_0_Mod_0_LinearL2 =====\n",
      "\n",
      "Linear model: C = 1e-05 score = 0.8576690085486354\n",
      "Linear model: C = 5e-05 score = 0.8606952800122023\n",
      "Linear model: C = 0.0001 score = 0.862056415330952\n",
      "Linear model: C = 0.0005 score = 0.8639232950407303\n",
      "Linear model: C = 0.001 score = 0.8639755427804693\n",
      "Linear model: C = 0.005 score = 0.8639443060475445\n",
      "Linear model: C = 0.01 score = 0.8639443060475445\n",
      "\n",
      "===== Start working with fold 2 for Lvl_0_Pipe_0_Mod_0_LinearL2 =====\n",
      "\n",
      "Linear model: C = 1e-05 score = 0.8582415419479664\n",
      "Linear model: C = 5e-05 score = 0.860900032300423\n",
      "Linear model: C = 0.0001 score = 0.8622939846915875\n",
      "Linear model: C = 0.0005 score = 0.8641560983548953\n",
      "Linear model: C = 0.001 score = 0.8643272505518138\n",
      "Linear model: C = 0.005 score = 0.8643191325409277\n",
      "Linear model: C = 0.01 score = 0.8643191325409277\n",
      "\n",
      "===== Start working with fold 3 for Lvl_0_Pipe_0_Mod_0_LinearL2 =====\n",
      "\n",
      "Linear model: C = 1e-05 score = 0.84759646810571\n",
      "Linear model: C = 5e-05 score = 0.8502706474393459\n",
      "Linear model: C = 0.0001 score = 0.8515024255350825\n",
      "Linear model: C = 0.0005 score = 0.853161390489946\n",
      "Linear model: C = 0.001 score = 0.8531612135062249\n",
      "Linear model: C = 0.005 score = 0.8528432023627577\n",
      "\n",
      "===== Start working with fold 4 for Lvl_0_Pipe_0_Mod_0_LinearL2 =====\n",
      "\n",
      "Linear model: C = 1e-05 score = 0.856619132176234\n",
      "Linear model: C = 5e-05 score = 0.8594193614613264\n",
      "Linear model: C = 0.0001 score = 0.8607269011037134\n",
      "Linear model: C = 0.0005 score = 0.8623719647917524\n",
      "Linear model: C = 0.001 score = 0.8624022164940677\n",
      "Linear model: C = 0.005 score = 0.8624048748253135\n",
      "Linear model: C = 0.01 score = 0.8624048748253135\n",
      "Linear model: C = 0.05 score = 0.8624048748253135\n",
      "Lvl_0_Pipe_0_Mod_0_LinearL2 fitting and predicting completed\n",
      "Time left 1104.1795990467072\n",
      "Start fitting Lvl_0_Pipe_1_Mod_0_LightGBM ...\n",
      "\n",
      "===== Start working with fold 0 for Lvl_0_Pipe_1_Mod_0_LightGBM =====\n",
      "\n",
      "Training until validation scores don't improve for 100 rounds\n",
      "[100]\tvalid's auc: 0.872246\n",
      "[200]\tvalid's auc: 0.872318\n",
      "Early stopping, best iteration is:\n",
      "[121]\tvalid's auc: 0.87273\n",
      "\n",
      "===== Start working with fold 1 for Lvl_0_Pipe_1_Mod_0_LightGBM =====\n",
      "\n",
      "Training until validation scores don't improve for 100 rounds\n",
      "[100]\tvalid's auc: 0.877296\n",
      "[200]\tvalid's auc: 0.877359\n",
      "Early stopping, best iteration is:\n",
      "[120]\tvalid's auc: 0.877575\n",
      "\n",
      "===== Start working with fold 2 for Lvl_0_Pipe_1_Mod_0_LightGBM =====\n",
      "\n",
      "Training until validation scores don't improve for 100 rounds\n",
      "[100]\tvalid's auc: 0.878212\n",
      "[200]\tvalid's auc: 0.877823\n",
      "Early stopping, best iteration is:\n",
      "[118]\tvalid's auc: 0.878317\n",
      "\n",
      "===== Start working with fold 3 for Lvl_0_Pipe_1_Mod_0_LightGBM =====\n",
      "\n",
      "Training until validation scores don't improve for 100 rounds\n",
      "[100]\tvalid's auc: 0.867117\n",
      "Early stopping, best iteration is:\n",
      "[95]\tvalid's auc: 0.867187\n",
      "\n",
      "===== Start working with fold 4 for Lvl_0_Pipe_1_Mod_0_LightGBM =====\n",
      "\n",
      "Training until validation scores don't improve for 100 rounds\n",
      "[100]\tvalid's auc: 0.875951\n",
      "[200]\tvalid's auc: 0.87628\n",
      "Early stopping, best iteration is:\n",
      "[193]\tvalid's auc: 0.876381\n",
      "Lvl_0_Pipe_1_Mod_0_LightGBM fitting and predicting completed\n",
      "Optuna may run 179.5670743920586 secs\n"
     ]
    },
    {
     "name": "stderr",
     "output_type": "stream",
     "text": [
      "[2021-05-30 23:18:01,509] (INFO): A new study created in memory with name: no-name-c3945ef7-861e-4161-9e4c-a48c389e66ac\n"
     ]
    },
    {
     "name": "stdout",
     "output_type": "stream",
     "text": [
      "Start fitting Lvl_0_Pipe_1_Mod_1_LightGBM ...\n",
      "\n",
      "===== Start working with fold 0 for Lvl_0_Pipe_1_Mod_1_LightGBM =====\n",
      "\n",
      "Training until validation scores don't improve for 100 rounds\n",
      "[100]\tvalid's auc: 0.872011\n",
      "Early stopping, best iteration is:\n",
      "[70]\tvalid's auc: 0.872401\n",
      "Lvl_0_Pipe_1_Mod_1_LightGBM fitting and predicting completed\n"
     ]
    },
    {
     "name": "stderr",
     "output_type": "stream",
     "text": [
      "[2021-05-30 23:18:05,943] (INFO): Trial 0 finished with value: 0.8724014409835804 and parameters: {'feature_fraction': 0.6872700594236812, 'num_leaves': 244, 'bagging_fraction': 0.8659969709057025, 'min_sum_hessian_in_leaf': 0.24810409748678125, 'reg_alpha': 2.5361081166471375e-07, 'reg_lambda': 2.5348407664333426e-07}. Best is trial 0 with value: 0.8724014409835804.\n"
     ]
    },
    {
     "name": "stdout",
     "output_type": "stream",
     "text": [
      "Start fitting Lvl_0_Pipe_1_Mod_1_LightGBM ...\n",
      "\n",
      "===== Start working with fold 0 for Lvl_0_Pipe_1_Mod_1_LightGBM =====\n",
      "\n",
      "Training until validation scores don't improve for 100 rounds\n",
      "[100]\tvalid's auc: 0.872539\n",
      "[200]\tvalid's auc: 0.872611\n",
      "Early stopping, best iteration is:\n",
      "[145]\tvalid's auc: 0.873021\n",
      "Lvl_0_Pipe_1_Mod_1_LightGBM fitting and predicting completed\n"
     ]
    },
    {
     "name": "stderr",
     "output_type": "stream",
     "text": [
      "[2021-05-30 23:18:11,896] (INFO): Trial 1 finished with value: 0.8730212969696025 and parameters: {'feature_fraction': 0.5290418060840998, 'num_leaves': 223, 'bagging_fraction': 0.8005575058716043, 'min_sum_hessian_in_leaf': 0.679657809075816, 'reg_alpha': 1.5320059381854043e-08, 'reg_lambda': 5.360294728728285}. Best is trial 1 with value: 0.8730212969696025.\n"
     ]
    },
    {
     "name": "stdout",
     "output_type": "stream",
     "text": [
      "Start fitting Lvl_0_Pipe_1_Mod_1_LightGBM ...\n",
      "\n",
      "===== Start working with fold 0 for Lvl_0_Pipe_1_Mod_1_LightGBM =====\n",
      "\n",
      "Training until validation scores don't improve for 100 rounds\n",
      "[100]\tvalid's auc: 0.872368\n",
      "[200]\tvalid's auc: 0.871979\n",
      "Early stopping, best iteration is:\n",
      "[116]\tvalid's auc: 0.872438\n",
      "Lvl_0_Pipe_1_Mod_1_LightGBM fitting and predicting completed\n"
     ]
    },
    {
     "name": "stderr",
     "output_type": "stream",
     "text": [
      "[2021-05-30 23:18:15,053] (INFO): Trial 2 finished with value: 0.8724384252181565 and parameters: {'feature_fraction': 0.9162213204002109, 'num_leaves': 66, 'bagging_fraction': 0.5909124836035503, 'min_sum_hessian_in_leaf': 0.00541524411940254, 'reg_alpha': 5.472429642032198e-06, 'reg_lambda': 0.00052821153945323}. Best is trial 1 with value: 0.8730212969696025.\n"
     ]
    },
    {
     "name": "stdout",
     "output_type": "stream",
     "text": [
      "Start fitting Lvl_0_Pipe_1_Mod_1_LightGBM ...\n",
      "\n",
      "===== Start working with fold 0 for Lvl_0_Pipe_1_Mod_1_LightGBM =====\n",
      "\n",
      "Training until validation scores don't improve for 100 rounds\n",
      "[100]\tvalid's auc: 0.872655\n",
      "[200]\tvalid's auc: 0.872907\n",
      "Early stopping, best iteration is:\n",
      "[138]\tvalid's auc: 0.873186\n",
      "Lvl_0_Pipe_1_Mod_1_LightGBM fitting and predicting completed\n"
     ]
    },
    {
     "name": "stderr",
     "output_type": "stream",
     "text": [
      "[2021-05-30 23:18:18,957] (INFO): Trial 3 finished with value: 0.873186063450845 and parameters: {'feature_fraction': 0.7159725093210578, 'num_leaves': 85, 'bagging_fraction': 0.8059264473611898, 'min_sum_hessian_in_leaf': 0.003613894271216527, 'reg_alpha': 4.258943089524393e-06, 'reg_lambda': 1.9826980964985924e-05}. Best is trial 3 with value: 0.873186063450845.\n"
     ]
    },
    {
     "name": "stdout",
     "output_type": "stream",
     "text": [
      "Start fitting Lvl_0_Pipe_1_Mod_1_LightGBM ...\n",
      "\n",
      "===== Start working with fold 0 for Lvl_0_Pipe_1_Mod_1_LightGBM =====\n",
      "\n",
      "Training until validation scores don't improve for 100 rounds\n",
      "[100]\tvalid's auc: 0.872017\n",
      "[200]\tvalid's auc: 0.871517\n",
      "Early stopping, best iteration is:\n",
      "[124]\tvalid's auc: 0.872413\n",
      "Lvl_0_Pipe_1_Mod_1_LightGBM fitting and predicting completed\n"
     ]
    },
    {
     "name": "stderr",
     "output_type": "stream",
     "text": [
      "[2021-05-30 23:18:23,676] (INFO): Trial 4 finished with value: 0.8724129252605968 and parameters: {'feature_fraction': 0.728034992108518, 'num_leaves': 204, 'bagging_fraction': 0.5998368910791798, 'min_sum_hessian_in_leaf': 0.11400863701127326, 'reg_alpha': 0.0021465011216654484, 'reg_lambda': 2.6185068507773707e-08}. Best is trial 3 with value: 0.873186063450845.\n"
     ]
    },
    {
     "name": "stdout",
     "output_type": "stream",
     "text": [
      "Start fitting Lvl_0_Pipe_1_Mod_1_LightGBM ...\n",
      "\n",
      "===== Start working with fold 0 for Lvl_0_Pipe_1_Mod_1_LightGBM =====\n",
      "\n",
      "Training until validation scores don't improve for 100 rounds\n",
      "[100]\tvalid's auc: 0.872481\n",
      "[200]\tvalid's auc: 0.872812\n",
      "[300]\tvalid's auc: 0.872449\n",
      "Early stopping, best iteration is:\n",
      "[211]\tvalid's auc: 0.87286\n",
      "Lvl_0_Pipe_1_Mod_1_LightGBM fitting and predicting completed\n"
     ]
    },
    {
     "name": "stderr",
     "output_type": "stream",
     "text": [
      "[2021-05-30 23:18:28,803] (INFO): Trial 5 finished with value: 0.8728595964184787 and parameters: {'feature_fraction': 0.8037724259507192, 'num_leaves': 56, 'bagging_fraction': 0.5325257964926398, 'min_sum_hessian_in_leaf': 6.245139574743075, 'reg_alpha': 4.905556676028774, 'reg_lambda': 0.18861495878553936}. Best is trial 3 with value: 0.873186063450845.\n"
     ]
    },
    {
     "name": "stdout",
     "output_type": "stream",
     "text": [
      "Start fitting Lvl_0_Pipe_1_Mod_1_LightGBM ...\n",
      "\n",
      "===== Start working with fold 0 for Lvl_0_Pipe_1_Mod_1_LightGBM =====\n",
      "\n",
      "Training until validation scores don't improve for 100 rounds\n",
      "[100]\tvalid's auc: 0.872748\n",
      "[200]\tvalid's auc: 0.873387\n",
      "[300]\tvalid's auc: 0.873407\n",
      "[400]\tvalid's auc: 0.873398\n",
      "Early stopping, best iteration is:\n",
      "[307]\tvalid's auc: 0.873496\n",
      "Lvl_0_Pipe_1_Mod_1_LightGBM fitting and predicting completed\n"
     ]
    },
    {
     "name": "stderr",
     "output_type": "stream",
     "text": [
      "[2021-05-30 23:18:34,623] (INFO): Trial 6 finished with value: 0.8734961585951482 and parameters: {'feature_fraction': 0.6523068845866853, 'num_leaves': 39, 'bagging_fraction': 0.8421165132560784, 'min_sum_hessian_in_leaf': 0.057624872164786026, 'reg_alpha': 1.254134495897175e-07, 'reg_lambda': 0.00028614897264046574}. Best is trial 6 with value: 0.8734961585951482.\n"
     ]
    },
    {
     "name": "stdout",
     "output_type": "stream",
     "text": [
      "Start fitting Lvl_0_Pipe_1_Mod_1_LightGBM ...\n",
      "\n",
      "===== Start working with fold 0 for Lvl_0_Pipe_1_Mod_1_LightGBM =====\n",
      "\n",
      "Training until validation scores don't improve for 100 rounds\n",
      "[100]\tvalid's auc: 0.872025\n",
      "[200]\tvalid's auc: 0.87147\n",
      "Early stopping, best iteration is:\n",
      "[105]\tvalid's auc: 0.872188\n",
      "Lvl_0_Pipe_1_Mod_1_LightGBM fitting and predicting completed\n"
     ]
    },
    {
     "name": "stderr",
     "output_type": "stream",
     "text": [
      "[2021-05-30 23:18:39,815] (INFO): Trial 7 finished with value: 0.8721876285590086 and parameters: {'feature_fraction': 0.5171942605576092, 'num_leaves': 234, 'bagging_fraction': 0.6293899908000085, 'min_sum_hessian_in_leaf': 0.4467752817973907, 'reg_alpha': 6.388511557344611e-06, 'reg_lambda': 0.0004793052550782129}. Best is trial 6 with value: 0.8734961585951482.\n"
     ]
    },
    {
     "name": "stdout",
     "output_type": "stream",
     "text": [
      "Start fitting Lvl_0_Pipe_1_Mod_1_LightGBM ...\n",
      "\n",
      "===== Start working with fold 0 for Lvl_0_Pipe_1_Mod_1_LightGBM =====\n",
      "\n",
      "Training until validation scores don't improve for 100 rounds\n",
      "[100]\tvalid's auc: 0.87288\n",
      "[200]\tvalid's auc: 0.873258\n",
      "[300]\tvalid's auc: 0.873035\n",
      "Early stopping, best iteration is:\n",
      "[250]\tvalid's auc: 0.873265\n",
      "Lvl_0_Pipe_1_Mod_1_LightGBM fitting and predicting completed\n"
     ]
    },
    {
     "name": "stderr",
     "output_type": "stream",
     "text": [
      "[2021-05-30 23:18:46,042] (INFO): Trial 8 finished with value: 0.8732645387478863 and parameters: {'feature_fraction': 0.7733551396716398, 'num_leaves': 60, 'bagging_fraction': 0.9847923138822793, 'min_sum_hessian_in_leaf': 1.2604664585649468, 'reg_alpha': 2.854239907497756, 'reg_lambda': 1.1309571585271483}. Best is trial 6 with value: 0.8734961585951482.\n"
     ]
    },
    {
     "name": "stdout",
     "output_type": "stream",
     "text": [
      "Start fitting Lvl_0_Pipe_1_Mod_1_LightGBM ...\n",
      "\n",
      "===== Start working with fold 0 for Lvl_0_Pipe_1_Mod_1_LightGBM =====\n",
      "\n",
      "Training until validation scores don't improve for 100 rounds\n",
      "[100]\tvalid's auc: 0.871117\n",
      "Early stopping, best iteration is:\n",
      "[25]\tvalid's auc: 0.871951\n",
      "Lvl_0_Pipe_1_Mod_1_LightGBM fitting and predicting completed\n"
     ]
    },
    {
     "name": "stderr",
     "output_type": "stream",
     "text": [
      "[2021-05-30 23:18:49,051] (INFO): Trial 9 finished with value: 0.8719507993121162 and parameters: {'feature_fraction': 0.7989499894055425, 'num_leaves': 237, 'bagging_fraction': 0.5442462510259598, 'min_sum_hessian_in_leaf': 0.006080390190296602, 'reg_alpha': 2.5529693461039728e-08, 'reg_lambda': 8.471746987003668e-06}. Best is trial 6 with value: 0.8734961585951482.\n"
     ]
    },
    {
     "name": "stdout",
     "output_type": "stream",
     "text": [
      "Start fitting Lvl_0_Pipe_1_Mod_1_LightGBM ...\n",
      "\n",
      "===== Start working with fold 0 for Lvl_0_Pipe_1_Mod_1_LightGBM =====\n",
      "\n",
      "Training until validation scores don't improve for 100 rounds\n",
      "[100]\tvalid's auc: 0.870734\n",
      "[200]\tvalid's auc: 0.872535\n",
      "[300]\tvalid's auc: 0.873043\n",
      "[400]\tvalid's auc: 0.872954\n",
      "Early stopping, best iteration is:\n",
      "[316]\tvalid's auc: 0.873085\n",
      "Lvl_0_Pipe_1_Mod_1_LightGBM fitting and predicting completed\n"
     ]
    },
    {
     "name": "stderr",
     "output_type": "stream",
     "text": [
      "[2021-05-30 23:18:53,357] (INFO): Trial 10 finished with value: 0.8730849449637834 and parameters: {'feature_fraction': 0.6047595825745748, 'num_leaves': 16, 'bagging_fraction': 0.9797780952829837, 'min_sum_hessian_in_leaf': 0.02380775230693608, 'reg_alpha': 0.004323838313271428, 'reg_lambda': 0.018211685984916886}. Best is trial 6 with value: 0.8734961585951482.\n"
     ]
    },
    {
     "name": "stdout",
     "output_type": "stream",
     "text": [
      "Start fitting Lvl_0_Pipe_1_Mod_1_LightGBM ...\n",
      "\n",
      "===== Start working with fold 0 for Lvl_0_Pipe_1_Mod_1_LightGBM =====\n",
      "\n",
      "Training until validation scores don't improve for 100 rounds\n",
      "[100]\tvalid's auc: 0.87227\n",
      "[200]\tvalid's auc: 0.872485\n",
      "Early stopping, best iteration is:\n",
      "[171]\tvalid's auc: 0.872701\n",
      "Lvl_0_Pipe_1_Mod_1_LightGBM fitting and predicting completed\n"
     ]
    },
    {
     "name": "stderr",
     "output_type": "stream",
     "text": [
      "[2021-05-30 23:18:59,220] (INFO): Trial 11 finished with value: 0.8727011155409083 and parameters: {'feature_fraction': 0.9240463497890247, 'num_leaves': 133, 'bagging_fraction': 0.9961813327301685, 'min_sum_hessian_in_leaf': 3.7972214282396766, 'reg_alpha': 6.391162403755944, 'reg_lambda': 0.06556151462878797}. Best is trial 6 with value: 0.8734961585951482.\n"
     ]
    },
    {
     "name": "stdout",
     "output_type": "stream",
     "text": [
      "Start fitting Lvl_0_Pipe_1_Mod_1_LightGBM ...\n",
      "\n",
      "===== Start working with fold 0 for Lvl_0_Pipe_1_Mod_1_LightGBM =====\n",
      "\n",
      "Training until validation scores don't improve for 100 rounds\n",
      "[100]\tvalid's auc: 0.870663\n",
      "[200]\tvalid's auc: 0.872831\n",
      "[300]\tvalid's auc: 0.873098\n",
      "[400]\tvalid's auc: 0.873393\n",
      "[500]\tvalid's auc: 0.873332\n",
      "Early stopping, best iteration is:\n",
      "[402]\tvalid's auc: 0.873409\n",
      "Lvl_0_Pipe_1_Mod_1_LightGBM fitting and predicting completed\n"
     ]
    },
    {
     "name": "stderr",
     "output_type": "stream",
     "text": [
      "[2021-05-30 23:19:04,154] (INFO): Trial 12 finished with value: 0.8734092488617801 and parameters: {'feature_fraction': 0.6300585154499979, 'num_leaves': 17, 'bagging_fraction': 0.9126444059266825, 'min_sum_hessian_in_leaf': 0.03200457414040258, 'reg_alpha': 0.07367743907015423, 'reg_lambda': 0.003647611303645848}. Best is trial 6 with value: 0.8734961585951482.\n"
     ]
    },
    {
     "name": "stdout",
     "output_type": "stream",
     "text": [
      "Start fitting Lvl_0_Pipe_1_Mod_1_LightGBM ...\n",
      "\n",
      "===== Start working with fold 0 for Lvl_0_Pipe_1_Mod_1_LightGBM =====\n",
      "\n",
      "Training until validation scores don't improve for 100 rounds\n",
      "[100]\tvalid's auc: 0.870638\n",
      "[200]\tvalid's auc: 0.872778\n",
      "[300]\tvalid's auc: 0.873217\n",
      "[400]\tvalid's auc: 0.873396\n",
      "[500]\tvalid's auc: 0.873387\n",
      "Early stopping, best iteration is:\n",
      "[415]\tvalid's auc: 0.873443\n",
      "Lvl_0_Pipe_1_Mod_1_LightGBM fitting and predicting completed\n"
     ]
    },
    {
     "name": "stderr",
     "output_type": "stream",
     "text": [
      "[2021-05-30 23:19:09,159] (INFO): Trial 13 finished with value: 0.8734427685059364 and parameters: {'feature_fraction': 0.5971668874224112, 'num_leaves': 16, 'bagging_fraction': 0.9107391912521612, 'min_sum_hessian_in_leaf': 0.027108901111315798, 'reg_alpha': 0.09187101964565059, 'reg_lambda': 0.0050746152798907965}. Best is trial 6 with value: 0.8734961585951482.\n"
     ]
    },
    {
     "name": "stdout",
     "output_type": "stream",
     "text": [
      "Start fitting Lvl_0_Pipe_1_Mod_1_LightGBM ...\n",
      "\n",
      "===== Start working with fold 0 for Lvl_0_Pipe_1_Mod_1_LightGBM =====\n",
      "\n",
      "Training until validation scores don't improve for 100 rounds\n",
      "[100]\tvalid's auc: 0.872029\n",
      "[200]\tvalid's auc: 0.872217\n",
      "Early stopping, best iteration is:\n",
      "[142]\tvalid's auc: 0.872542\n",
      "Lvl_0_Pipe_1_Mod_1_LightGBM fitting and predicting completed\n"
     ]
    },
    {
     "name": "stderr",
     "output_type": "stream",
     "text": [
      "[2021-05-30 23:19:12,986] (INFO): Trial 14 finished with value: 0.872542146617319 and parameters: {'feature_fraction': 0.5913277456174814, 'num_leaves': 106, 'bagging_fraction': 0.7005492273816147, 'min_sum_hessian_in_leaf': 0.0327280984764738, 'reg_alpha': 0.07127936003357555, 'reg_lambda': 2.0929128454356573e-05}. Best is trial 6 with value: 0.8734961585951482.\n"
     ]
    },
    {
     "name": "stdout",
     "output_type": "stream",
     "text": [
      "Start fitting Lvl_0_Pipe_1_Mod_1_LightGBM ...\n",
      "\n",
      "===== Start working with fold 0 for Lvl_0_Pipe_1_Mod_1_LightGBM =====\n",
      "\n",
      "Training until validation scores don't improve for 100 rounds\n",
      "[100]\tvalid's auc: 0.870542\n",
      "[200]\tvalid's auc: 0.872821\n",
      "[300]\tvalid's auc: 0.873131\n",
      "[400]\tvalid's auc: 0.873094\n",
      "Early stopping, best iteration is:\n",
      "[301]\tvalid's auc: 0.873132\n",
      "Lvl_0_Pipe_1_Mod_1_LightGBM fitting and predicting completed\n"
     ]
    },
    {
     "name": "stderr",
     "output_type": "stream",
     "text": [
      "[2021-05-30 23:19:17,041] (INFO): Trial 15 finished with value: 0.873132038723037 and parameters: {'feature_fraction': 0.6554453953309942, 'num_leaves': 16, 'bagging_fraction': 0.901177896508804, 'min_sum_hessian_in_leaf': 0.00167117935596583, 'reg_alpha': 6.14930665429407e-05, 'reg_lambda': 0.003540302417856418}. Best is trial 6 with value: 0.8734961585951482.\n"
     ]
    },
    {
     "name": "stdout",
     "output_type": "stream",
     "text": [
      "Start fitting Lvl_0_Pipe_1_Mod_1_LightGBM ...\n",
      "\n",
      "===== Start working with fold 0 for Lvl_0_Pipe_1_Mod_1_LightGBM =====\n",
      "\n",
      "Training until validation scores don't improve for 100 rounds\n",
      "[100]\tvalid's auc: 0.872142\n",
      "[200]\tvalid's auc: 0.872678\n",
      "Early stopping, best iteration is:\n",
      "[156]\tvalid's auc: 0.87278\n",
      "Lvl_0_Pipe_1_Mod_1_LightGBM fitting and predicting completed\n"
     ]
    },
    {
     "name": "stderr",
     "output_type": "stream",
     "text": [
      "[2021-05-30 23:19:21,985] (INFO): Trial 16 finished with value: 0.8727801879345443 and parameters: {'feature_fraction': 0.5447011447141248, 'num_leaves': 182, 'bagging_fraction': 0.7568575091179959, 'min_sum_hessian_in_leaf': 0.09123418926503064, 'reg_alpha': 0.18223943775058057, 'reg_lambda': 1.452555688299585e-06}. Best is trial 6 with value: 0.8734961585951482.\n"
     ]
    },
    {
     "name": "stdout",
     "output_type": "stream",
     "text": [
      "Start fitting Lvl_0_Pipe_1_Mod_1_LightGBM ...\n",
      "\n",
      "===== Start working with fold 0 for Lvl_0_Pipe_1_Mod_1_LightGBM =====\n",
      "\n",
      "Training until validation scores don't improve for 100 rounds\n",
      "[100]\tvalid's auc: 0.872292\n",
      "[200]\tvalid's auc: 0.873144\n",
      "[300]\tvalid's auc: 0.873399\n",
      "[400]\tvalid's auc: 0.873705\n",
      "Early stopping, best iteration is:\n",
      "[390]\tvalid's auc: 0.873782\n",
      "Lvl_0_Pipe_1_Mod_1_LightGBM fitting and predicting completed\n"
     ]
    },
    {
     "name": "stderr",
     "output_type": "stream",
     "text": [
      "[2021-05-30 23:19:27,433] (INFO): Trial 17 finished with value: 0.8737823430599535 and parameters: {'feature_fraction': 0.5595046966804222, 'num_leaves': 33, 'bagging_fraction': 0.8558442200465237, 'min_sum_hessian_in_leaf': 0.015500352982855375, 'reg_alpha': 0.000360551772629143, 'reg_lambda': 0.00018035089536094857}. Best is trial 17 with value: 0.8737823430599535.\n"
     ]
    },
    {
     "name": "stdout",
     "output_type": "stream",
     "text": [
      "Start fitting Lvl_0_Pipe_1_Mod_1_LightGBM ...\n",
      "\n",
      "===== Start working with fold 0 for Lvl_0_Pipe_1_Mod_1_LightGBM =====\n",
      "\n",
      "Training until validation scores don't improve for 100 rounds\n",
      "[100]\tvalid's auc: 0.872709\n",
      "[200]\tvalid's auc: 0.87311\n",
      "Early stopping, best iteration is:\n",
      "[154]\tvalid's auc: 0.873296\n",
      "Lvl_0_Pipe_1_Mod_1_LightGBM fitting and predicting completed\n"
     ]
    },
    {
     "name": "stderr",
     "output_type": "stream",
     "text": [
      "[2021-05-30 23:19:31,236] (INFO): Trial 18 finished with value: 0.8732963100074033 and parameters: {'feature_fraction': 0.8626232813873017, 'num_leaves': 41, 'bagging_fraction': 0.8373532685865688, 'min_sum_hessian_in_leaf': 0.0010201459812303041, 'reg_alpha': 0.0001617748103678915, 'reg_lambda': 0.00011371707500958194}. Best is trial 17 with value: 0.8737823430599535.\n"
     ]
    },
    {
     "name": "stdout",
     "output_type": "stream",
     "text": [
      "Start fitting Lvl_0_Pipe_1_Mod_1_LightGBM ...\n",
      "\n",
      "===== Start working with fold 0 for Lvl_0_Pipe_1_Mod_1_LightGBM =====\n",
      "\n",
      "Training until validation scores don't improve for 100 rounds\n",
      "[100]\tvalid's auc: 0.872631\n",
      "[200]\tvalid's auc: 0.87261\n",
      "Early stopping, best iteration is:\n",
      "[132]\tvalid's auc: 0.872825\n",
      "Lvl_0_Pipe_1_Mod_1_LightGBM fitting and predicting completed\n"
     ]
    },
    {
     "name": "stderr",
     "output_type": "stream",
     "text": [
      "[2021-05-30 23:19:35,264] (INFO): Trial 19 finished with value: 0.8728251507382868 and parameters: {'feature_fraction': 0.9993979541767993, 'num_leaves': 107, 'bagging_fraction': 0.7194019767626155, 'min_sum_hessian_in_leaf': 0.009351333541123457, 'reg_alpha': 3.141486603935961e-07, 'reg_lambda': 0.00013587357951827818}. Best is trial 17 with value: 0.8737823430599535.\n"
     ]
    },
    {
     "name": "stdout",
     "output_type": "stream",
     "text": [
      "Start fitting Lvl_0_Pipe_1_Mod_1_LightGBM ...\n",
      "\n",
      "===== Start working with fold 0 for Lvl_0_Pipe_1_Mod_1_LightGBM =====\n",
      "\n",
      "Training until validation scores don't improve for 100 rounds\n",
      "[100]\tvalid's auc: 0.872586\n",
      "[200]\tvalid's auc: 0.872593\n",
      "Early stopping, best iteration is:\n",
      "[129]\tvalid's auc: 0.873144\n",
      "Lvl_0_Pipe_1_Mod_1_LightGBM fitting and predicting completed\n"
     ]
    },
    {
     "name": "stderr",
     "output_type": "stream",
     "text": [
      "[2021-05-30 23:19:39,588] (INFO): Trial 20 finished with value: 0.8731443846783726 and parameters: {'feature_fraction': 0.5553617064887679, 'num_leaves': 162, 'bagging_fraction': 0.7683811296208288, 'min_sum_hessian_in_leaf': 0.09361384479357852, 'reg_alpha': 0.0012926647645205513, 'reg_lambda': 2.2678657339631194e-07}. Best is trial 17 with value: 0.8737823430599535.\n"
     ]
    },
    {
     "name": "stdout",
     "output_type": "stream",
     "text": [
      "Start fitting Lvl_0_Pipe_1_Mod_1_LightGBM ...\n",
      "\n",
      "===== Start working with fold 0 for Lvl_0_Pipe_1_Mod_1_LightGBM =====\n",
      "\n",
      "Training until validation scores don't improve for 100 rounds\n",
      "[100]\tvalid's auc: 0.872563\n",
      "[200]\tvalid's auc: 0.873185\n",
      "Early stopping, best iteration is:\n",
      "[190]\tvalid's auc: 0.873262\n",
      "Lvl_0_Pipe_1_Mod_1_LightGBM fitting and predicting completed\n"
     ]
    },
    {
     "name": "stderr",
     "output_type": "stream",
     "text": [
      "[2021-05-30 23:19:43,219] (INFO): Trial 21 finished with value: 0.8732622790769415 and parameters: {'feature_fraction': 0.6707876058377923, 'num_leaves': 36, 'bagging_fraction': 0.9214209628622676, 'min_sum_hessian_in_leaf': 0.016691862967947307, 'reg_alpha': 0.011278629094357926, 'reg_lambda': 0.0027452148327217897}. Best is trial 17 with value: 0.8737823430599535.\n"
     ]
    },
    {
     "name": "stdout",
     "output_type": "stream",
     "text": [
      "Start fitting Lvl_0_Pipe_1_Mod_1_LightGBM ...\n",
      "\n",
      "===== Start working with fold 0 for Lvl_0_Pipe_1_Mod_1_LightGBM =====\n",
      "\n",
      "Training until validation scores don't improve for 100 rounds\n",
      "[100]\tvalid's auc: 0.872306\n",
      "[200]\tvalid's auc: 0.873466\n",
      "[300]\tvalid's auc: 0.873736\n",
      "[400]\tvalid's auc: 0.873696\n",
      "Early stopping, best iteration is:\n",
      "[338]\tvalid's auc: 0.873838\n",
      "Lvl_0_Pipe_1_Mod_1_LightGBM fitting and predicting completed\n"
     ]
    },
    {
     "name": "stderr",
     "output_type": "stream",
     "text": [
      "[2021-05-30 23:19:48,072] (INFO): Trial 22 finished with value: 0.8738375458915213 and parameters: {'feature_fraction': 0.5873420814905187, 'num_leaves': 30, 'bagging_fraction': 0.8640145989533199, 'min_sum_hessian_in_leaf': 0.07566197617963817, 'reg_alpha': 0.3083841423936718, 'reg_lambda': 0.009618592525553098}. Best is trial 22 with value: 0.8738375458915213.\n"
     ]
    },
    {
     "name": "stdout",
     "output_type": "stream",
     "text": [
      "Start fitting Lvl_0_Pipe_1_Mod_1_LightGBM ...\n",
      "\n",
      "===== Start working with fold 0 for Lvl_0_Pipe_1_Mod_1_LightGBM =====\n",
      "\n",
      "Training until validation scores don't improve for 100 rounds\n",
      "[100]\tvalid's auc: 0.872405\n",
      "[200]\tvalid's auc: 0.873224\n",
      "[300]\tvalid's auc: 0.873134\n",
      "Early stopping, best iteration is:\n",
      "[260]\tvalid's auc: 0.87346\n",
      "Lvl_0_Pipe_1_Mod_1_LightGBM fitting and predicting completed\n"
     ]
    },
    {
     "name": "stderr",
     "output_type": "stream",
     "text": [
      "[2021-05-30 23:19:53,237] (INFO): Trial 23 finished with value: 0.8734602326874702 and parameters: {'feature_fraction': 0.5046637280776305, 'num_leaves': 84, 'bagging_fraction': 0.861268675316993, 'min_sum_hessian_in_leaf': 0.054700690134589745, 'reg_alpha': 3.9563419811262366e-05, 'reg_lambda': 0.24192117783746556}. Best is trial 22 with value: 0.8738375458915213.\n"
     ]
    },
    {
     "name": "stdout",
     "output_type": "stream",
     "text": [
      "Start fitting Lvl_0_Pipe_1_Mod_1_LightGBM ...\n",
      "\n",
      "===== Start working with fold 0 for Lvl_0_Pipe_1_Mod_1_LightGBM =====\n",
      "\n",
      "Training until validation scores don't improve for 100 rounds\n",
      "[100]\tvalid's auc: 0.872439\n",
      "[200]\tvalid's auc: 0.873259\n",
      "[300]\tvalid's auc: 0.873346\n",
      "Early stopping, best iteration is:\n",
      "[232]\tvalid's auc: 0.873433\n",
      "Lvl_0_Pipe_1_Mod_1_LightGBM fitting and predicting completed\n"
     ]
    },
    {
     "name": "stderr",
     "output_type": "stream",
     "text": [
      "[2021-05-30 23:19:57,355] (INFO): Trial 24 finished with value: 0.8734331649044214 and parameters: {'feature_fraction': 0.5799410363113692, 'num_leaves': 38, 'bagging_fraction': 0.9519167591647089, 'min_sum_hessian_in_leaf': 0.15469653750856255, 'reg_alpha': 1.8847001605316238e-07, 'reg_lambda': 0.0005995721617820907}. Best is trial 22 with value: 0.8738375458915213.\n"
     ]
    },
    {
     "name": "stdout",
     "output_type": "stream",
     "text": [
      "Start fitting Lvl_0_Pipe_1_Mod_1_LightGBM ...\n",
      "\n",
      "===== Start working with fold 0 for Lvl_0_Pipe_1_Mod_1_LightGBM =====\n",
      "\n",
      "Training until validation scores don't improve for 100 rounds\n",
      "[100]\tvalid's auc: 0.872844\n",
      "[200]\tvalid's auc: 0.872855\n",
      "Early stopping, best iteration is:\n",
      "[137]\tvalid's auc: 0.873186\n",
      "Lvl_0_Pipe_1_Mod_1_LightGBM fitting and predicting completed\n"
     ]
    },
    {
     "name": "stderr",
     "output_type": "stream",
     "text": [
      "[2021-05-30 23:20:01,046] (INFO): Trial 25 finished with value: 0.873186304792283 and parameters: {'feature_fraction': 0.6533000962299023, 'num_leaves': 80, 'bagging_fraction': 0.8225906350109576, 'min_sum_hessian_in_leaf': 0.01377916828893039, 'reg_alpha': 0.4634962047995633, 'reg_lambda': 0.013068392238391078}. Best is trial 22 with value: 0.8738375458915213.\n"
     ]
    },
    {
     "name": "stdout",
     "output_type": "stream",
     "text": [
      "Start fitting Lvl_0_Pipe_1_Mod_1_LightGBM ...\n",
      "\n",
      "===== Start working with fold 0 for Lvl_0_Pipe_1_Mod_1_LightGBM =====\n",
      "\n",
      "Training until validation scores don't improve for 100 rounds\n",
      "[100]\tvalid's auc: 0.872752\n",
      "[200]\tvalid's auc: 0.873498\n",
      "Early stopping, best iteration is:\n",
      "[154]\tvalid's auc: 0.873691\n",
      "Lvl_0_Pipe_1_Mod_1_LightGBM fitting and predicting completed\n"
     ]
    },
    {
     "name": "stderr",
     "output_type": "stream",
     "text": [
      "[2021-05-30 23:20:04,253] (INFO): Trial 26 finished with value: 0.8736908013586915 and parameters: {'feature_fraction': 0.6208517478258272, 'num_leaves': 37, 'bagging_fraction': 0.8666556829285315, 'min_sum_hessian_in_leaf': 0.051002700531706496, 'reg_alpha': 0.0005593491168708459, 'reg_lambda': 7.867601600949475e-05}. Best is trial 22 with value: 0.8738375458915213.\n"
     ]
    },
    {
     "name": "stdout",
     "output_type": "stream",
     "text": [
      "Start fitting Lvl_0_Pipe_1_Mod_1_LightGBM ...\n",
      "\n",
      "===== Start working with fold 0 for Lvl_0_Pipe_1_Mod_1_LightGBM =====\n",
      "\n",
      "Training until validation scores don't improve for 100 rounds\n",
      "[100]\tvalid's auc: 0.872566\n",
      "[200]\tvalid's auc: 0.872572\n",
      "Early stopping, best iteration is:\n",
      "[138]\tvalid's auc: 0.872874\n",
      "Lvl_0_Pipe_1_Mod_1_LightGBM fitting and predicting completed\n"
     ]
    },
    {
     "name": "stderr",
     "output_type": "stream",
     "text": [
      "[2021-05-30 23:20:08,222] (INFO): Trial 27 finished with value: 0.8728744451739114 and parameters: {'feature_fraction': 0.5000995240281578, 'num_leaves': 110, 'bagging_fraction': 0.8758259721626822, 'min_sum_hessian_in_leaf': 0.2062395610074149, 'reg_alpha': 0.00047102274393466266, 'reg_lambda': 2.6483603657769507e-06}. Best is trial 22 with value: 0.8738375458915213.\n"
     ]
    },
    {
     "name": "stdout",
     "output_type": "stream",
     "text": [
      "Start fitting Lvl_0_Pipe_1_Mod_1_LightGBM ...\n",
      "\n",
      "===== Start working with fold 0 for Lvl_0_Pipe_1_Mod_1_LightGBM =====\n",
      "\n",
      "Training until validation scores don't improve for 100 rounds\n",
      "[100]\tvalid's auc: 0.872058\n",
      "[200]\tvalid's auc: 0.873264\n",
      "[300]\tvalid's auc: 0.873303\n",
      "Early stopping, best iteration is:\n",
      "[251]\tvalid's auc: 0.873472\n",
      "Lvl_0_Pipe_1_Mod_1_LightGBM fitting and predicting completed\n"
     ]
    },
    {
     "name": "stderr",
     "output_type": "stream",
     "text": [
      "[2021-05-30 23:20:12,318] (INFO): Trial 28 finished with value: 0.8734724910448024 and parameters: {'feature_fraction': 0.5578966675906902, 'num_leaves': 30, 'bagging_fraction': 0.9540159135417081, 'min_sum_hessian_in_leaf': 0.00242964823214965, 'reg_alpha': 0.01227149784593295, 'reg_lambda': 4.763082881616486e-05}. Best is trial 22 with value: 0.8738375458915213.\n"
     ]
    },
    {
     "name": "stdout",
     "output_type": "stream",
     "text": [
      "Start fitting Lvl_0_Pipe_1_Mod_1_LightGBM ...\n",
      "\n",
      "===== Start working with fold 0 for Lvl_0_Pipe_1_Mod_1_LightGBM =====\n",
      "\n",
      "Training until validation scores don't improve for 100 rounds\n",
      "[100]\tvalid's auc: 0.872901\n",
      "[200]\tvalid's auc: 0.873238\n",
      "Early stopping, best iteration is:\n",
      "[149]\tvalid's auc: 0.873421\n",
      "Lvl_0_Pipe_1_Mod_1_LightGBM fitting and predicting completed\n"
     ]
    },
    {
     "name": "stderr",
     "output_type": "stream",
     "text": [
      "[2021-05-30 23:20:15,922] (INFO): Trial 29 finished with value: 0.8734206902336521 and parameters: {'feature_fraction': 0.711729609239762, 'num_leaves': 56, 'bagging_fraction': 0.878026466233409, 'min_sum_hessian_in_leaf': 0.0630797243797645, 'reg_alpha': 0.6301718121232741, 'reg_lambda': 2.044314408532749e-06}. Best is trial 22 with value: 0.8738375458915213.\n"
     ]
    },
    {
     "name": "stdout",
     "output_type": "stream",
     "text": [
      "Start fitting Lvl_0_Pipe_1_Mod_1_LightGBM ...\n",
      "\n",
      "===== Start working with fold 0 for Lvl_0_Pipe_1_Mod_1_LightGBM =====\n",
      "\n",
      "Training until validation scores don't improve for 100 rounds\n",
      "[100]\tvalid's auc: 0.872826\n",
      "[200]\tvalid's auc: 0.872388\n",
      "Early stopping, best iteration is:\n",
      "[113]\tvalid's auc: 0.873035\n",
      "Lvl_0_Pipe_1_Mod_1_LightGBM fitting and predicting completed\n"
     ]
    },
    {
     "name": "stderr",
     "output_type": "stream",
     "text": [
      "[2021-05-30 23:20:19,689] (INFO): Trial 30 finished with value: 0.8730347763358393 and parameters: {'feature_fraction': 0.6272353029327429, 'num_leaves': 125, 'bagging_fraction': 0.7954924592281543, 'min_sum_hessian_in_leaf': 0.3241066440022513, 'reg_alpha': 0.0004609350005628517, 'reg_lambda': 1.0989564780779126e-07}. Best is trial 22 with value: 0.8738375458915213.\n"
     ]
    },
    {
     "name": "stdout",
     "output_type": "stream",
     "text": [
      "Start fitting Lvl_0_Pipe_1_Mod_1_LightGBM ...\n",
      "\n",
      "===== Start working with fold 0 for Lvl_0_Pipe_1_Mod_1_LightGBM =====\n",
      "\n",
      "Training until validation scores don't improve for 100 rounds\n",
      "[100]\tvalid's auc: 0.87276\n",
      "[200]\tvalid's auc: 0.873384\n",
      "Early stopping, best iteration is:\n",
      "[177]\tvalid's auc: 0.873509\n",
      "Lvl_0_Pipe_1_Mod_1_LightGBM fitting and predicting completed\n"
     ]
    },
    {
     "name": "stderr",
     "output_type": "stream",
     "text": [
      "[2021-05-30 23:20:23,358] (INFO): Trial 31 finished with value: 0.8735093537148025 and parameters: {'feature_fraction': 0.6868022209033093, 'num_leaves': 48, 'bagging_fraction': 0.8522413186528809, 'min_sum_hessian_in_leaf': 0.04702890819370031, 'reg_alpha': 2.473185518380335e-05, 'reg_lambda': 0.00012908639962138274}. Best is trial 22 with value: 0.8738375458915213.\n"
     ]
    },
    {
     "name": "stdout",
     "output_type": "stream",
     "text": [
      "Start fitting Lvl_0_Pipe_1_Mod_1_LightGBM ...\n",
      "\n",
      "===== Start working with fold 0 for Lvl_0_Pipe_1_Mod_1_LightGBM =====\n",
      "\n",
      "Training until validation scores don't improve for 100 rounds\n",
      "[100]\tvalid's auc: 0.872744\n",
      "[200]\tvalid's auc: 0.872965\n",
      "[300]\tvalid's auc: 0.872828\n",
      "Early stopping, best iteration is:\n",
      "[226]\tvalid's auc: 0.873132\n",
      "Lvl_0_Pipe_1_Mod_1_LightGBM fitting and predicting completed\n"
     ]
    },
    {
     "name": "stderr",
     "output_type": "stream",
     "text": [
      "[2021-05-30 23:20:27,963] (INFO): Trial 32 finished with value: 0.8731316507890221 and parameters: {'feature_fraction': 0.699958782177599, 'num_leaves': 73, 'bagging_fraction': 0.8602970395168894, 'min_sum_hessian_in_leaf': 0.014613516202666196, 'reg_alpha': 3.0056756760524096e-05, 'reg_lambda': 0.0012190484088138512}. Best is trial 22 with value: 0.8738375458915213.\n"
     ]
    },
    {
     "name": "stdout",
     "output_type": "stream",
     "text": [
      "Start fitting Lvl_0_Pipe_1_Mod_1_LightGBM ...\n",
      "\n",
      "===== Start working with fold 0 for Lvl_0_Pipe_1_Mod_1_LightGBM =====\n",
      "\n",
      "Training until validation scores don't improve for 100 rounds\n",
      "[100]\tvalid's auc: 0.872812\n",
      "[200]\tvalid's auc: 0.873052\n",
      "Early stopping, best iteration is:\n",
      "[177]\tvalid's auc: 0.873255\n",
      "Lvl_0_Pipe_1_Mod_1_LightGBM fitting and predicting completed\n"
     ]
    },
    {
     "name": "stderr",
     "output_type": "stream",
     "text": [
      "[2021-05-30 23:20:31,577] (INFO): Trial 33 finished with value: 0.8732552533595264 and parameters: {'feature_fraction': 0.6157410298762606, 'num_leaves': 51, 'bagging_fraction': 0.7806671235269884, 'min_sum_hessian_in_leaf': 0.008425649407096399, 'reg_alpha': 1.4399110164849064e-06, 'reg_lambda': 7.459721252876643e-05}. Best is trial 22 with value: 0.8738375458915213.\n"
     ]
    },
    {
     "name": "stdout",
     "output_type": "stream",
     "text": [
      "Start fitting Lvl_0_Pipe_1_Mod_1_LightGBM ...\n",
      "\n",
      "===== Start working with fold 0 for Lvl_0_Pipe_1_Mod_1_LightGBM =====\n",
      "\n",
      "Training until validation scores don't improve for 100 rounds\n",
      "[100]\tvalid's auc: 0.87177\n",
      "[200]\tvalid's auc: 0.872875\n",
      "[300]\tvalid's auc: 0.873004\n",
      "[400]\tvalid's auc: 0.873122\n",
      "Early stopping, best iteration is:\n",
      "[382]\tvalid's auc: 0.873245\n",
      "Lvl_0_Pipe_1_Mod_1_LightGBM fitting and predicting completed\n"
     ]
    },
    {
     "name": "stderr",
     "output_type": "stream",
     "text": [
      "[2021-05-30 23:20:36,445] (INFO): Trial 34 finished with value: 0.8732445002576812 and parameters: {'feature_fraction': 0.6814402577080193, 'num_leaves': 23, 'bagging_fraction': 0.714669147751258, 'min_sum_hessian_in_leaf': 0.04683255331183221, 'reg_alpha': 1.311228471627472e-05, 'reg_lambda': 8.266783958211653e-06}. Best is trial 22 with value: 0.8738375458915213.\n"
     ]
    },
    {
     "name": "stdout",
     "output_type": "stream",
     "text": [
      "Start fitting Lvl_0_Pipe_1_Mod_1_LightGBM ...\n",
      "\n",
      "===== Start working with fold 0 for Lvl_0_Pipe_1_Mod_1_LightGBM =====\n",
      "\n",
      "Training until validation scores don't improve for 100 rounds\n",
      "[100]\tvalid's auc: 0.872796\n",
      "[200]\tvalid's auc: 0.87323\n",
      "Early stopping, best iteration is:\n",
      "[181]\tvalid's auc: 0.873409\n",
      "Lvl_0_Pipe_1_Mod_1_LightGBM fitting and predicting completed\n"
     ]
    },
    {
     "name": "stderr",
     "output_type": "stream",
     "text": [
      "[2021-05-30 23:20:40,320] (INFO): Trial 35 finished with value: 0.8734094508735022 and parameters: {'feature_fraction': 0.7448099691629942, 'num_leaves': 48, 'bagging_fraction': 0.8132542401289745, 'min_sum_hessian_in_leaf': 0.13689432752332428, 'reg_alpha': 1.426764486020597e-06, 'reg_lambda': 0.013150516500255819}. Best is trial 22 with value: 0.8738375458915213.\n"
     ]
    },
    {
     "name": "stdout",
     "output_type": "stream",
     "text": [
      "Start fitting Lvl_0_Pipe_1_Mod_1_LightGBM ...\n",
      "\n",
      "===== Start working with fold 0 for Lvl_0_Pipe_1_Mod_1_LightGBM =====\n",
      "\n",
      "Training until validation scores don't improve for 100 rounds\n",
      "[100]\tvalid's auc: 0.872948\n",
      "[200]\tvalid's auc: 0.873342\n",
      "Early stopping, best iteration is:\n",
      "[198]\tvalid's auc: 0.873394\n",
      "Lvl_0_Pipe_1_Mod_1_LightGBM fitting and predicting completed\n"
     ]
    },
    {
     "name": "stderr",
     "output_type": "stream",
     "text": [
      "[2021-05-30 23:20:45,003] (INFO): Trial 36 finished with value: 0.8733940568651914 and parameters: {'feature_fraction': 0.5776238242893518, 'num_leaves': 92, 'bagging_fraction': 0.9429710226953733, 'min_sum_hessian_in_leaf': 1.1654101477179617, 'reg_alpha': 0.0010718110352603857, 'reg_lambda': 3.0408414785680894e-05}. Best is trial 22 with value: 0.8738375458915213.\n"
     ]
    },
    {
     "name": "stdout",
     "output_type": "stream",
     "text": [
      "Start fitting Lvl_0_Pipe_1_Mod_1_LightGBM ...\n",
      "\n",
      "===== Start working with fold 0 for Lvl_0_Pipe_1_Mod_1_LightGBM =====\n",
      "\n",
      "Training until validation scores don't improve for 100 rounds\n",
      "[100]\tvalid's auc: 0.872537\n",
      "[200]\tvalid's auc: 0.873291\n",
      "Early stopping, best iteration is:\n",
      "[164]\tvalid's auc: 0.873357\n",
      "Lvl_0_Pipe_1_Mod_1_LightGBM fitting and predicting completed\n"
     ]
    },
    {
     "name": "stderr",
     "output_type": "stream",
     "text": [
      "[2021-05-30 23:20:48,812] (INFO): Trial 37 finished with value: 0.8733571602286186 and parameters: {'feature_fraction': 0.5365294492269371, 'num_leaves': 70, 'bagging_fraction': 0.8819535464856896, 'min_sum_hessian_in_leaf': 0.2216999629259671, 'reg_alpha': 0.00013269256695138933, 'reg_lambda': 0.0012692135101034182}. Best is trial 22 with value: 0.8738375458915213.\n"
     ]
    },
    {
     "name": "stdout",
     "output_type": "stream",
     "text": [
      "Start fitting Lvl_0_Pipe_1_Mod_1_LightGBM ...\n",
      "\n",
      "===== Start working with fold 0 for Lvl_0_Pipe_1_Mod_1_LightGBM =====\n",
      "\n",
      "Training until validation scores don't improve for 100 rounds\n",
      "[100]\tvalid's auc: 0.872042\n",
      "[200]\tvalid's auc: 0.873341\n",
      "[300]\tvalid's auc: 0.873482\n",
      "[400]\tvalid's auc: 0.873515\n",
      "Early stopping, best iteration is:\n",
      "[319]\tvalid's auc: 0.873541\n",
      "Lvl_0_Pipe_1_Mod_1_LightGBM fitting and predicting completed\n"
     ]
    },
    {
     "name": "stderr",
     "output_type": "stream",
     "text": [
      "[2021-05-30 23:20:53,620] (INFO): Trial 38 finished with value: 0.8735408854205959 and parameters: {'feature_fraction': 0.6351990430703381, 'num_leaves': 27, 'bagging_fraction': 0.835844365332537, 'min_sum_hessian_in_leaf': 0.004533657536698593, 'reg_alpha': 0.024821290829360777, 'reg_lambda': 9.1369128353848}. Best is trial 22 with value: 0.8738375458915213.\n"
     ]
    },
    {
     "name": "stdout",
     "output_type": "stream",
     "text": [
      "Start fitting Lvl_0_Pipe_1_Mod_1_LightGBM ...\n",
      "\n",
      "===== Start working with fold 0 for Lvl_0_Pipe_1_Mod_1_LightGBM =====\n",
      "\n",
      "Training until validation scores don't improve for 100 rounds\n",
      "[100]\tvalid's auc: 0.871994\n",
      "[200]\tvalid's auc: 0.873421\n",
      "[300]\tvalid's auc: 0.873558\n",
      "[400]\tvalid's auc: 0.87362\n",
      "Early stopping, best iteration is:\n",
      "[367]\tvalid's auc: 0.873655\n",
      "Lvl_0_Pipe_1_Mod_1_LightGBM fitting and predicting completed\n"
     ]
    },
    {
     "name": "stderr",
     "output_type": "stream",
     "text": [
      "[2021-05-30 23:20:58,940] (INFO): Trial 39 finished with value: 0.8736551811501682 and parameters: {'feature_fraction': 0.5717897726348522, 'num_leaves': 28, 'bagging_fraction': 0.8207345899381555, 'min_sum_hessian_in_leaf': 0.003899919525111772, 'reg_alpha': 0.011982180507358796, 'reg_lambda': 8.457131283330225}. Best is trial 22 with value: 0.8738375458915213.\n"
     ]
    },
    {
     "name": "stdout",
     "output_type": "stream",
     "text": [
      "Start fitting Lvl_0_Pipe_1_Mod_1_LightGBM ...\n",
      "\n",
      "===== Start working with fold 0 for Lvl_0_Pipe_1_Mod_1_LightGBM =====\n",
      "\n",
      "Training until validation scores don't improve for 100 rounds\n",
      "[100]\tvalid's auc: 0.872206\n",
      "[200]\tvalid's auc: 0.872344\n",
      "Early stopping, best iteration is:\n",
      "[119]\tvalid's auc: 0.872525\n",
      "Lvl_0_Pipe_1_Mod_1_LightGBM fitting and predicting completed\n"
     ]
    },
    {
     "name": "stderr",
     "output_type": "stream",
     "text": [
      "[2021-05-30 23:21:03,307] (INFO): Trial 40 finished with value: 0.8725248111512187 and parameters: {'feature_fraction': 0.5228635196014675, 'num_leaves': 154, 'bagging_fraction': 0.7431563700150314, 'min_sum_hessian_in_leaf': 0.002820527970813143, 'reg_alpha': 0.006085620466485926, 'reg_lambda': 2.2486753450008963}. Best is trial 22 with value: 0.8738375458915213.\n"
     ]
    },
    {
     "name": "stdout",
     "output_type": "stream",
     "text": [
      "Start fitting Lvl_0_Pipe_1_Mod_1_LightGBM ...\n",
      "\n",
      "===== Start working with fold 0 for Lvl_0_Pipe_1_Mod_1_LightGBM =====\n",
      "\n",
      "Training until validation scores don't improve for 100 rounds\n",
      "[100]\tvalid's auc: 0.872755\n",
      "[200]\tvalid's auc: 0.873718\n",
      "[300]\tvalid's auc: 0.873738\n",
      "Early stopping, best iteration is:\n",
      "[231]\tvalid's auc: 0.873831\n",
      "\n",
      "===== Start working with fold 1 for Lvl_0_Pipe_1_Mod_1_LightGBM =====\n",
      "\n",
      "Training until validation scores don't improve for 100 rounds\n",
      "[100]\tvalid's auc: 0.877334\n",
      "[200]\tvalid's auc: 0.8776\n",
      "[300]\tvalid's auc: 0.877723\n",
      "Early stopping, best iteration is:\n",
      "[217]\tvalid's auc: 0.877819\n",
      "\n",
      "===== Start working with fold 2 for Lvl_0_Pipe_1_Mod_1_LightGBM =====\n",
      "\n",
      "Training until validation scores don't improve for 100 rounds\n",
      "[100]\tvalid's auc: 0.878446\n",
      "[200]\tvalid's auc: 0.878913\n",
      "[300]\tvalid's auc: 0.878737\n",
      "Early stopping, best iteration is:\n",
      "[206]\tvalid's auc: 0.878974\n",
      "\n",
      "===== Start working with fold 3 for Lvl_0_Pipe_1_Mod_1_LightGBM =====\n",
      "\n",
      "Training until validation scores don't improve for 100 rounds\n",
      "[100]\tvalid's auc: 0.867347\n",
      "[200]\tvalid's auc: 0.867979\n",
      "Early stopping, best iteration is:\n",
      "[194]\tvalid's auc: 0.867985\n",
      "\n",
      "===== Start working with fold 4 for Lvl_0_Pipe_1_Mod_1_LightGBM =====\n",
      "\n",
      "Training until validation scores don't improve for 100 rounds\n",
      "[100]\tvalid's auc: 0.876252\n",
      "[200]\tvalid's auc: 0.877102\n",
      "[300]\tvalid's auc: 0.877489\n",
      "Early stopping, best iteration is:\n",
      "[296]\tvalid's auc: 0.877513\n",
      "Lvl_0_Pipe_1_Mod_1_LightGBM fitting and predicting completed\n",
      "Start fitting Lvl_0_Pipe_1_Mod_2_CatBoost ...\n",
      "\n",
      "===== Start working with fold 0 for Lvl_0_Pipe_1_Mod_2_CatBoost =====\n",
      "\n",
      "0:\ttest: 0.8476877\tbest: 0.8476877 (0)\ttotal: 25.2ms\tremaining: 50.4s\n",
      "100:\ttest: 0.8686574\tbest: 0.8686574 (100)\ttotal: 2.78s\tremaining: 52.3s\n",
      "200:\ttest: 0.8703863\tbest: 0.8703863 (200)\ttotal: 5.43s\tremaining: 48.6s\n",
      "300:\ttest: 0.8711279\tbest: 0.8711281 (299)\ttotal: 8.27s\tremaining: 46.7s\n",
      "400:\ttest: 0.8717450\tbest: 0.8717450 (400)\ttotal: 11s\tremaining: 43.9s\n",
      "500:\ttest: 0.8720526\tbest: 0.8720526 (500)\ttotal: 14.1s\tremaining: 42.2s\n",
      "600:\ttest: 0.8724071\tbest: 0.8724076 (599)\ttotal: 16.9s\tremaining: 39.4s\n",
      "700:\ttest: 0.8724374\tbest: 0.8724817 (677)\ttotal: 19.7s\tremaining: 36.5s\n",
      "800:\ttest: 0.8725697\tbest: 0.8725759 (798)\ttotal: 22.7s\tremaining: 34s\n",
      "900:\ttest: 0.8726710\tbest: 0.8726800 (880)\ttotal: 25.3s\tremaining: 30.8s\n",
      "Stopped by overfitting detector  (100 iterations wait)\n",
      "\n",
      "bestTest = 0.8726800062\n",
      "bestIteration = 880\n",
      "\n",
      "Shrink model to first 881 iterations.\n",
      "\n",
      "===== Start working with fold 1 for Lvl_0_Pipe_1_Mod_2_CatBoost =====\n",
      "\n",
      "0:\ttest: 0.8547237\tbest: 0.8547237 (0)\ttotal: 25.8ms\tremaining: 51.7s\n",
      "100:\ttest: 0.8731444\tbest: 0.8731444 (100)\ttotal: 3.38s\tremaining: 1m 3s\n",
      "200:\ttest: 0.8749332\tbest: 0.8749332 (200)\ttotal: 6.92s\tremaining: 1m 1s\n",
      "300:\ttest: 0.8757792\tbest: 0.8757818 (298)\ttotal: 10.5s\tremaining: 59.2s\n",
      "400:\ttest: 0.8763679\tbest: 0.8763943 (399)\ttotal: 13.3s\tremaining: 53s\n",
      "500:\ttest: 0.8767452\tbest: 0.8767452 (500)\ttotal: 16.3s\tremaining: 48.8s\n",
      "600:\ttest: 0.8769950\tbest: 0.8769993 (598)\ttotal: 19.1s\tremaining: 44.5s\n",
      "700:\ttest: 0.8770950\tbest: 0.8770997 (694)\ttotal: 21.8s\tremaining: 40.4s\n",
      "800:\ttest: 0.8772137\tbest: 0.8772252 (799)\ttotal: 24.6s\tremaining: 36.8s\n",
      "900:\ttest: 0.8772400\tbest: 0.8772791 (866)\ttotal: 27.4s\tremaining: 33.4s\n",
      "Stopped by overfitting detector  (100 iterations wait)\n",
      "\n",
      "bestTest = 0.8772791249\n",
      "bestIteration = 866\n",
      "\n",
      "Shrink model to first 867 iterations.\n",
      "\n",
      "===== Start working with fold 2 for Lvl_0_Pipe_1_Mod_2_CatBoost =====\n",
      "\n",
      "0:\ttest: 0.8543517\tbest: 0.8543517 (0)\ttotal: 26.2ms\tremaining: 52.3s\n",
      "100:\ttest: 0.8752235\tbest: 0.8752235 (100)\ttotal: 2.77s\tremaining: 52s\n",
      "200:\ttest: 0.8767543\tbest: 0.8767543 (200)\ttotal: 5.54s\tremaining: 49.6s\n",
      "300:\ttest: 0.8774279\tbest: 0.8774288 (299)\ttotal: 8.35s\tremaining: 47.1s\n",
      "400:\ttest: 0.8778598\tbest: 0.8778598 (400)\ttotal: 11.2s\tremaining: 44.7s\n",
      "500:\ttest: 0.8780580\tbest: 0.8780669 (491)\ttotal: 14s\tremaining: 42s\n",
      "600:\ttest: 0.8781462\tbest: 0.8781462 (600)\ttotal: 16.9s\tremaining: 39.2s\n",
      "700:\ttest: 0.8782279\tbest: 0.8782454 (644)\ttotal: 19.5s\tremaining: 36.1s\n",
      "Stopped by overfitting detector  (100 iterations wait)\n",
      "\n",
      "bestTest = 0.8782454149\n",
      "bestIteration = 644\n",
      "\n",
      "Shrink model to first 645 iterations.\n",
      "\n",
      "===== Start working with fold 3 for Lvl_0_Pipe_1_Mod_2_CatBoost =====\n",
      "\n",
      "0:\ttest: 0.8443629\tbest: 0.8443629 (0)\ttotal: 24.9ms\tremaining: 49.8s\n",
      "100:\ttest: 0.8650439\tbest: 0.8650439 (100)\ttotal: 2.71s\tremaining: 51s\n",
      "200:\ttest: 0.8665329\tbest: 0.8665419 (196)\ttotal: 5.33s\tremaining: 47.7s\n",
      "300:\ttest: 0.8671033\tbest: 0.8671213 (295)\ttotal: 8.04s\tremaining: 45.4s\n",
      "400:\ttest: 0.8673413\tbest: 0.8673426 (371)\ttotal: 10.7s\tremaining: 42.8s\n",
      "500:\ttest: 0.8675303\tbest: 0.8675486 (494)\ttotal: 13.4s\tremaining: 40.2s\n",
      "600:\ttest: 0.8675933\tbest: 0.8676140 (596)\ttotal: 16.1s\tremaining: 37.4s\n",
      "700:\ttest: 0.8675606\tbest: 0.8676229 (615)\ttotal: 18.7s\tremaining: 34.6s\n",
      "Stopped by overfitting detector  (100 iterations wait)\n",
      "\n",
      "bestTest = 0.8676228769\n",
      "bestIteration = 615\n",
      "\n",
      "Shrink model to first 616 iterations.\n",
      "\n",
      "===== Start working with fold 4 for Lvl_0_Pipe_1_Mod_2_CatBoost =====\n",
      "\n",
      "0:\ttest: 0.8505542\tbest: 0.8505542 (0)\ttotal: 24.1ms\tremaining: 48.2s\n",
      "100:\ttest: 0.8736446\tbest: 0.8736446 (100)\ttotal: 2.66s\tremaining: 50s\n",
      "200:\ttest: 0.8752372\tbest: 0.8753097 (196)\ttotal: 5.31s\tremaining: 47.5s\n",
      "300:\ttest: 0.8758133\tbest: 0.8758155 (295)\ttotal: 7.96s\tremaining: 44.9s\n",
      "400:\ttest: 0.8761303\tbest: 0.8761380 (388)\ttotal: 10.6s\tremaining: 42.3s\n",
      "500:\ttest: 0.8762968\tbest: 0.8763165 (491)\ttotal: 13.3s\tremaining: 39.8s\n",
      "600:\ttest: 0.8764177\tbest: 0.8764259 (583)\ttotal: 16s\tremaining: 37.1s\n",
      "700:\ttest: 0.8763357\tbest: 0.8764644 (662)\ttotal: 18.5s\tremaining: 34.3s\n",
      "Stopped by overfitting detector  (100 iterations wait)\n",
      "\n",
      "bestTest = 0.876464442\n",
      "bestIteration = 662\n",
      "\n",
      "Shrink model to first 663 iterations.\n",
      "Lvl_0_Pipe_1_Mod_2_CatBoost fitting and predicting completed\n",
      "Optuna may run 188.0316052675247 secs\n"
     ]
    },
    {
     "name": "stderr",
     "output_type": "stream",
     "text": [
      "[2021-05-30 23:23:21,834] (INFO): A new study created in memory with name: no-name-392bad96-d4c6-4b68-a207-f62ec64bb430\n"
     ]
    },
    {
     "name": "stdout",
     "output_type": "stream",
     "text": [
      "Start fitting Lvl_0_Pipe_1_Mod_3_CatBoost ...\n",
      "\n",
      "===== Start working with fold 0 for Lvl_0_Pipe_1_Mod_3_CatBoost =====\n",
      "\n",
      "0:\ttest: 0.8422937\tbest: 0.8422937 (0)\ttotal: 22ms\tremaining: 44s\n",
      "100:\ttest: 0.8675363\tbest: 0.8675363 (100)\ttotal: 2.54s\tremaining: 47.8s\n",
      "200:\ttest: 0.8694666\tbest: 0.8694666 (200)\ttotal: 5.11s\tremaining: 45.7s\n",
      "300:\ttest: 0.8704537\tbest: 0.8704537 (300)\ttotal: 7.67s\tremaining: 43.3s\n",
      "400:\ttest: 0.8710219\tbest: 0.8710219 (400)\ttotal: 10.1s\tremaining: 40.5s\n",
      "500:\ttest: 0.8714342\tbest: 0.8714342 (500)\ttotal: 12.7s\tremaining: 38.1s\n",
      "600:\ttest: 0.8717406\tbest: 0.8717434 (599)\ttotal: 15.5s\tremaining: 36.1s\n",
      "700:\ttest: 0.8719845\tbest: 0.8719849 (699)\ttotal: 18.1s\tremaining: 33.6s\n",
      "800:\ttest: 0.8720555\tbest: 0.8720576 (766)\ttotal: 20.8s\tremaining: 31.1s\n",
      "900:\ttest: 0.8721614\tbest: 0.8721614 (900)\ttotal: 23.3s\tremaining: 28.4s\n",
      "1000:\ttest: 0.8722511\tbest: 0.8722592 (997)\ttotal: 25.8s\tremaining: 25.7s\n",
      "1100:\ttest: 0.8722696\tbest: 0.8722718 (1099)\ttotal: 28.3s\tremaining: 23.1s\n",
      "1200:\ttest: 0.8723774\tbest: 0.8723787 (1195)\ttotal: 30.8s\tremaining: 20.5s\n",
      "1300:\ttest: 0.8724565\tbest: 0.8724565 (1300)\ttotal: 33.2s\tremaining: 17.8s\n",
      "1400:\ttest: 0.8724846\tbest: 0.8724873 (1399)\ttotal: 35.8s\tremaining: 15.3s\n",
      "1500:\ttest: 0.8724368\tbest: 0.8725010 (1416)\ttotal: 38.4s\tremaining: 12.8s\n",
      "Stopped by overfitting detector  (100 iterations wait)\n",
      "\n",
      "bestTest = 0.8725010346\n",
      "bestIteration = 1416\n",
      "\n",
      "Shrink model to first 1417 iterations.\n",
      "Lvl_0_Pipe_1_Mod_3_CatBoost fitting and predicting completed\n"
     ]
    },
    {
     "name": "stderr",
     "output_type": "stream",
     "text": [
      "[2021-05-30 23:24:01,356] (INFO): Trial 0 finished with value: 0.8725010345502973 and parameters: {'max_depth': 4, 'l2_leaf_reg': 3.6010467344475403, 'min_data_in_leaf': 15}. Best is trial 0 with value: 0.8725010345502973.\n"
     ]
    },
    {
     "name": "stdout",
     "output_type": "stream",
     "text": [
      "Start fitting Lvl_0_Pipe_1_Mod_3_CatBoost ...\n",
      "\n",
      "===== Start working with fold 0 for Lvl_0_Pipe_1_Mod_3_CatBoost =====\n",
      "\n",
      "0:\ttest: 0.8476877\tbest: 0.8476877 (0)\ttotal: 25.1ms\tremaining: 50.2s\n",
      "100:\ttest: 0.8685053\tbest: 0.8685053 (100)\ttotal: 2.63s\tremaining: 49.5s\n",
      "200:\ttest: 0.8704174\tbest: 0.8704174 (200)\ttotal: 5.24s\tremaining: 46.9s\n",
      "300:\ttest: 0.8713409\tbest: 0.8713409 (300)\ttotal: 7.83s\tremaining: 44.2s\n",
      "400:\ttest: 0.8715140\tbest: 0.8716527 (352)\ttotal: 10.4s\tremaining: 41.5s\n",
      "500:\ttest: 0.8718433\tbest: 0.8718451 (498)\ttotal: 13.1s\tremaining: 39.1s\n",
      "600:\ttest: 0.8719656\tbest: 0.8719679 (597)\ttotal: 15.7s\tremaining: 36.5s\n",
      "700:\ttest: 0.8720038\tbest: 0.8720906 (646)\ttotal: 18.3s\tremaining: 33.9s\n",
      "800:\ttest: 0.8719951\tbest: 0.8720965 (740)\ttotal: 20.9s\tremaining: 31.2s\n",
      "Stopped by overfitting detector  (100 iterations wait)\n",
      "\n",
      "bestTest = 0.8720965034\n",
      "bestIteration = 740\n",
      "\n",
      "Shrink model to first 741 iterations.\n",
      "Lvl_0_Pipe_1_Mod_3_CatBoost fitting and predicting completed\n"
     ]
    },
    {
     "name": "stderr",
     "output_type": "stream",
     "text": [
      "[2021-05-30 23:24:23,869] (INFO): Trial 1 finished with value: 0.8720965033951914 and parameters: {'max_depth': 5, 'l2_leaf_reg': 2.5361081166471375e-07, 'min_data_in_leaf': 4}. Best is trial 0 with value: 0.8725010345502973.\n"
     ]
    },
    {
     "name": "stdout",
     "output_type": "stream",
     "text": [
      "Start fitting Lvl_0_Pipe_1_Mod_3_CatBoost ...\n",
      "\n",
      "===== Start working with fold 0 for Lvl_0_Pipe_1_Mod_3_CatBoost =====\n",
      "\n",
      "0:\ttest: 0.8236132\tbest: 0.8236132 (0)\ttotal: 21.5ms\tremaining: 43s\n",
      "100:\ttest: 0.8661610\tbest: 0.8661610 (100)\ttotal: 2.27s\tremaining: 42.8s\n",
      "200:\ttest: 0.8680210\tbest: 0.8680210 (200)\ttotal: 4.42s\tremaining: 39.5s\n",
      "300:\ttest: 0.8691945\tbest: 0.8691945 (300)\ttotal: 6.59s\tremaining: 37.2s\n",
      "400:\ttest: 0.8701611\tbest: 0.8701611 (400)\ttotal: 8.77s\tremaining: 35s\n",
      "500:\ttest: 0.8706071\tbest: 0.8706071 (500)\ttotal: 10.9s\tremaining: 32.7s\n",
      "600:\ttest: 0.8710483\tbest: 0.8710483 (600)\ttotal: 13s\tremaining: 30.4s\n",
      "700:\ttest: 0.8713305\tbest: 0.8713305 (700)\ttotal: 15.1s\tremaining: 28s\n",
      "800:\ttest: 0.8714965\tbest: 0.8715006 (797)\ttotal: 17.2s\tremaining: 25.7s\n",
      "900:\ttest: 0.8715816\tbest: 0.8715824 (898)\ttotal: 19.3s\tremaining: 23.5s\n",
      "1000:\ttest: 0.8717094\tbest: 0.8717094 (1000)\ttotal: 21.4s\tremaining: 21.3s\n",
      "1100:\ttest: 0.8717849\tbest: 0.8717966 (1083)\ttotal: 23.5s\tremaining: 19.2s\n",
      "1200:\ttest: 0.8718404\tbest: 0.8718472 (1144)\ttotal: 25.6s\tremaining: 17s\n",
      "1300:\ttest: 0.8719719\tbest: 0.8719719 (1300)\ttotal: 27.7s\tremaining: 14.9s\n",
      "1400:\ttest: 0.8720377\tbest: 0.8720382 (1395)\ttotal: 29.8s\tremaining: 12.7s\n",
      "1500:\ttest: 0.8720749\tbest: 0.8720759 (1496)\ttotal: 31.9s\tremaining: 10.6s\n",
      "1600:\ttest: 0.8721503\tbest: 0.8721503 (1600)\ttotal: 34s\tremaining: 8.48s\n",
      "1700:\ttest: 0.8721327\tbest: 0.8721529 (1615)\ttotal: 36.1s\tremaining: 6.35s\n",
      "1800:\ttest: 0.8722332\tbest: 0.8722332 (1800)\ttotal: 38.2s\tremaining: 4.22s\n",
      "1900:\ttest: 0.8722246\tbest: 0.8722383 (1811)\ttotal: 40.3s\tremaining: 2.1s\n",
      "Stopped by overfitting detector  (100 iterations wait)\n",
      "\n",
      "bestTest = 0.8722382566\n",
      "bestIteration = 1811\n",
      "\n",
      "Shrink model to first 1812 iterations.\n",
      "Lvl_0_Pipe_1_Mod_3_CatBoost fitting and predicting completed\n"
     ]
    },
    {
     "name": "stderr",
     "output_type": "stream",
     "text": [
      "[2021-05-30 23:25:05,323] (INFO): Trial 2 finished with value: 0.8722382548418277 and parameters: {'max_depth': 3, 'l2_leaf_reg': 0.6245760287469893, 'min_data_in_leaf': 13}. Best is trial 0 with value: 0.8725010345502973.\n"
     ]
    },
    {
     "name": "stdout",
     "output_type": "stream",
     "text": [
      "Start fitting Lvl_0_Pipe_1_Mod_3_CatBoost ...\n",
      "\n",
      "===== Start working with fold 0 for Lvl_0_Pipe_1_Mod_3_CatBoost =====\n",
      "\n",
      "0:\ttest: 0.8515578\tbest: 0.8515578 (0)\ttotal: 28.1ms\tremaining: 56.2s\n",
      "100:\ttest: 0.8693353\tbest: 0.8693353 (100)\ttotal: 2.91s\tremaining: 54.8s\n",
      "200:\ttest: 0.8710517\tbest: 0.8710539 (199)\ttotal: 5.85s\tremaining: 52.4s\n",
      "300:\ttest: 0.8716160\tbest: 0.8716160 (300)\ttotal: 8.79s\tremaining: 49.6s\n",
      "400:\ttest: 0.8717376\tbest: 0.8718262 (385)\ttotal: 11.7s\tremaining: 46.7s\n",
      "500:\ttest: 0.8715740\tbest: 0.8718320 (444)\ttotal: 14.5s\tremaining: 43.4s\n",
      "Stopped by overfitting detector  (100 iterations wait)\n",
      "\n",
      "bestTest = 0.8718319753\n",
      "bestIteration = 444\n",
      "\n",
      "Shrink model to first 445 iterations.\n",
      "Lvl_0_Pipe_1_Mod_3_CatBoost fitting and predicting completed\n"
     ]
    },
    {
     "name": "stderr",
     "output_type": "stream",
     "text": [
      "[2021-05-30 23:25:21,769] (INFO): Trial 3 finished with value: 0.871831977089797 and parameters: {'max_depth': 6, 'l2_leaf_reg': 1.5320059381854043e-08, 'min_data_in_leaf': 20}. Best is trial 0 with value: 0.8725010345502973.\n"
     ]
    },
    {
     "name": "stdout",
     "output_type": "stream",
     "text": [
      "Start fitting Lvl_0_Pipe_1_Mod_3_CatBoost ...\n",
      "\n",
      "===== Start working with fold 0 for Lvl_0_Pipe_1_Mod_3_CatBoost =====\n",
      "\n",
      "0:\ttest: 0.8515527\tbest: 0.8515527 (0)\ttotal: 28.4ms\tremaining: 56.8s\n",
      "100:\ttest: 0.8696857\tbest: 0.8696857 (100)\ttotal: 3.38s\tremaining: 1m 3s\n",
      "200:\ttest: 0.8712015\tbest: 0.8712015 (200)\ttotal: 6.76s\tremaining: 1m\n",
      "300:\ttest: 0.8716156\tbest: 0.8717034 (289)\ttotal: 10s\tremaining: 56.6s\n",
      "400:\ttest: 0.8716348\tbest: 0.8718573 (319)\ttotal: 13.4s\tremaining: 53.4s\n",
      "Stopped by overfitting detector  (100 iterations wait)\n",
      "\n",
      "bestTest = 0.8718572518\n",
      "bestIteration = 319\n",
      "\n",
      "Shrink model to first 320 iterations.\n",
      "Lvl_0_Pipe_1_Mod_3_CatBoost fitting and predicting completed\n"
     ]
    },
    {
     "name": "stderr",
     "output_type": "stream",
     "text": [
      "[2021-05-30 23:25:36,344] (INFO): Trial 4 finished with value: 0.8718572535830622 and parameters: {'max_depth': 7, 'l2_leaf_reg': 8.148018307012941e-07, 'min_data_in_leaf': 4}. Best is trial 0 with value: 0.8725010345502973.\n"
     ]
    },
    {
     "name": "stdout",
     "output_type": "stream",
     "text": [
      "Start fitting Lvl_0_Pipe_1_Mod_3_CatBoost ...\n",
      "\n",
      "===== Start working with fold 0 for Lvl_0_Pipe_1_Mod_3_CatBoost =====\n",
      "\n",
      "0:\ttest: 0.8236132\tbest: 0.8236132 (0)\ttotal: 21.4ms\tremaining: 42.7s\n",
      "100:\ttest: 0.8659150\tbest: 0.8659150 (100)\ttotal: 2.23s\tremaining: 41.9s\n",
      "200:\ttest: 0.8678578\tbest: 0.8678594 (199)\ttotal: 4.42s\tremaining: 39.5s\n",
      "300:\ttest: 0.8692300\tbest: 0.8692300 (300)\ttotal: 6.64s\tremaining: 37.5s\n",
      "400:\ttest: 0.8699671\tbest: 0.8699717 (397)\ttotal: 8.75s\tremaining: 34.9s\n",
      "500:\ttest: 0.8703911\tbest: 0.8703911 (500)\ttotal: 10.9s\tremaining: 32.6s\n",
      "600:\ttest: 0.8708066\tbest: 0.8708066 (600)\ttotal: 13s\tremaining: 30.3s\n",
      "700:\ttest: 0.8709746\tbest: 0.8709746 (700)\ttotal: 15.1s\tremaining: 27.9s\n",
      "800:\ttest: 0.8712631\tbest: 0.8712655 (799)\ttotal: 17.2s\tremaining: 25.7s\n",
      "900:\ttest: 0.8714037\tbest: 0.8714037 (900)\ttotal: 19.3s\tremaining: 23.5s\n",
      "1000:\ttest: 0.8715928\tbest: 0.8715928 (1000)\ttotal: 21.4s\tremaining: 21.4s\n",
      "1100:\ttest: 0.8717228\tbest: 0.8717337 (1086)\ttotal: 23.5s\tremaining: 19.2s\n",
      "1200:\ttest: 0.8718937\tbest: 0.8718941 (1199)\ttotal: 25.6s\tremaining: 17s\n",
      "1300:\ttest: 0.8719632\tbest: 0.8719647 (1297)\ttotal: 27.6s\tremaining: 14.8s\n",
      "1400:\ttest: 0.8720049\tbest: 0.8720118 (1399)\ttotal: 29.7s\tremaining: 12.7s\n",
      "1500:\ttest: 0.8720315\tbest: 0.8720378 (1465)\ttotal: 31.8s\tremaining: 10.6s\n",
      "1600:\ttest: 0.8721033\tbest: 0.8721093 (1599)\ttotal: 33.9s\tremaining: 8.45s\n",
      "1700:\ttest: 0.8721379\tbest: 0.8721379 (1700)\ttotal: 36s\tremaining: 6.33s\n",
      "1800:\ttest: 0.8721287\tbest: 0.8721456 (1760)\ttotal: 38s\tremaining: 4.2s\n",
      "1900:\ttest: 0.8721056\tbest: 0.8721459 (1815)\ttotal: 40.1s\tremaining: 2.09s\n",
      "Stopped by overfitting detector  (100 iterations wait)\n",
      "\n",
      "bestTest = 0.8721459444\n",
      "bestIteration = 1815\n",
      "\n",
      "Shrink model to first 1816 iterations.\n",
      "Lvl_0_Pipe_1_Mod_3_CatBoost fitting and predicting completed\n"
     ]
    },
    {
     "name": "stderr",
     "output_type": "stream",
     "text": [
      "[2021-05-30 23:26:17,570] (INFO): Trial 5 finished with value: 0.8721459444233931 and parameters: {'max_depth': 3, 'l2_leaf_reg': 5.472429642032198e-06, 'min_data_in_leaf': 11}. Best is trial 0 with value: 0.8725010345502973.\n"
     ]
    },
    {
     "name": "stdout",
     "output_type": "stream",
     "text": [
      "Start fitting Lvl_0_Pipe_1_Mod_3_CatBoost ...\n",
      "\n",
      "===== Start working with fold 0 for Lvl_0_Pipe_1_Mod_3_CatBoost =====\n",
      "\n",
      "0:\ttest: 0.8476877\tbest: 0.8476877 (0)\ttotal: 25.3ms\tremaining: 50.6s\n",
      "100:\ttest: 0.8685932\tbest: 0.8685932 (100)\ttotal: 2.62s\tremaining: 49.2s\n",
      "200:\ttest: 0.8703997\tbest: 0.8703997 (200)\ttotal: 5.24s\tremaining: 46.9s\n",
      "300:\ttest: 0.8713152\tbest: 0.8713200 (299)\ttotal: 7.83s\tremaining: 44.2s\n",
      "400:\ttest: 0.8717922\tbest: 0.8717922 (400)\ttotal: 10.4s\tremaining: 41.5s\n",
      "500:\ttest: 0.8719005\tbest: 0.8719324 (490)\ttotal: 12.9s\tremaining: 38.7s\n",
      "600:\ttest: 0.8721253\tbest: 0.8721253 (600)\ttotal: 15.6s\tremaining: 36.2s\n",
      "700:\ttest: 0.8719572\tbest: 0.8722145 (675)\ttotal: 18.2s\tremaining: 33.8s\n",
      "Stopped by overfitting detector  (100 iterations wait)\n",
      "\n",
      "bestTest = 0.8722145319\n",
      "bestIteration = 675\n",
      "\n",
      "Shrink model to first 676 iterations.\n",
      "Lvl_0_Pipe_1_Mod_3_CatBoost fitting and predicting completed\n"
     ]
    },
    {
     "name": "stderr",
     "output_type": "stream",
     "text": [
      "[2021-05-30 23:26:38,388] (INFO): Trial 6 finished with value: 0.8722145300846225 and parameters: {'max_depth': 5, 'l2_leaf_reg': 4.17890272377219e-06, 'min_data_in_leaf': 13}. Best is trial 0 with value: 0.8725010345502973.\n"
     ]
    },
    {
     "name": "stdout",
     "output_type": "stream",
     "text": [
      "Start fitting Lvl_0_Pipe_1_Mod_3_CatBoost ...\n",
      "\n",
      "===== Start working with fold 0 for Lvl_0_Pipe_1_Mod_3_CatBoost =====\n",
      "\n",
      "0:\ttest: 0.8422937\tbest: 0.8422937 (0)\ttotal: 33.2ms\tremaining: 1m 39s\n",
      "100:\ttest: 0.8662014\tbest: 0.8662014 (100)\ttotal: 2.56s\tremaining: 1m 13s\n",
      "200:\ttest: 0.8684457\tbest: 0.8684457 (200)\ttotal: 5s\tremaining: 1m 9s\n",
      "300:\ttest: 0.8694642\tbest: 0.8694642 (300)\ttotal: 7.53s\tremaining: 1m 7s\n",
      "400:\ttest: 0.8701740\tbest: 0.8701740 (400)\ttotal: 9.95s\tremaining: 1m 4s\n",
      "500:\ttest: 0.8707772\tbest: 0.8707772 (500)\ttotal: 12.4s\tremaining: 1m 1s\n",
      "600:\ttest: 0.8711590\tbest: 0.8711595 (599)\ttotal: 14.9s\tremaining: 59.4s\n",
      "700:\ttest: 0.8714739\tbest: 0.8714780 (696)\ttotal: 17.4s\tremaining: 57.2s\n",
      "800:\ttest: 0.8716946\tbest: 0.8716946 (800)\ttotal: 19.9s\tremaining: 54.6s\n",
      "900:\ttest: 0.8718277\tbest: 0.8718295 (899)\ttotal: 22.4s\tremaining: 52.2s\n",
      "1000:\ttest: 0.8719011\tbest: 0.8719158 (981)\ttotal: 24.9s\tremaining: 49.7s\n",
      "1100:\ttest: 0.8719941\tbest: 0.8720049 (1072)\ttotal: 27.5s\tremaining: 47.4s\n",
      "1200:\ttest: 0.8720587\tbest: 0.8720723 (1182)\ttotal: 30s\tremaining: 44.9s\n",
      "1300:\ttest: 0.8721248\tbest: 0.8721259 (1292)\ttotal: 32.5s\tremaining: 42.4s\n",
      "1400:\ttest: 0.8722000\tbest: 0.8722028 (1392)\ttotal: 34.9s\tremaining: 39.9s\n",
      "1500:\ttest: 0.8722946\tbest: 0.8722957 (1498)\ttotal: 37.5s\tremaining: 37.5s\n",
      "1600:\ttest: 0.8723492\tbest: 0.8723492 (1600)\ttotal: 40s\tremaining: 34.9s\n",
      "1700:\ttest: 0.8723938\tbest: 0.8724076 (1648)\ttotal: 42.5s\tremaining: 32.4s\n",
      "1800:\ttest: 0.8724255\tbest: 0.8724255 (1800)\ttotal: 44.9s\tremaining: 29.9s\n",
      "1900:\ttest: 0.8724524\tbest: 0.8724834 (1860)\ttotal: 47.5s\tremaining: 27.5s\n",
      "Stopped by overfitting detector  (100 iterations wait)\n",
      "\n",
      "bestTest = 0.8724833541\n",
      "bestIteration = 1860\n",
      "\n",
      "Shrink model to first 1861 iterations.\n",
      "\n",
      "===== Start working with fold 1 for Lvl_0_Pipe_1_Mod_3_CatBoost =====\n",
      "\n",
      "0:\ttest: 0.8497664\tbest: 0.8497664 (0)\ttotal: 20.9ms\tremaining: 1m 2s\n",
      "100:\ttest: 0.8702408\tbest: 0.8702408 (100)\ttotal: 2.56s\tremaining: 1m 13s\n",
      "200:\ttest: 0.8729531\tbest: 0.8729531 (200)\ttotal: 5.06s\tremaining: 1m 10s\n",
      "300:\ttest: 0.8742003\tbest: 0.8742013 (299)\ttotal: 7.52s\tremaining: 1m 7s\n",
      "400:\ttest: 0.8748933\tbest: 0.8748933 (400)\ttotal: 9.96s\tremaining: 1m 4s\n",
      "500:\ttest: 0.8755963\tbest: 0.8755963 (500)\ttotal: 12.5s\tremaining: 1m 2s\n",
      "600:\ttest: 0.8760027\tbest: 0.8760027 (600)\ttotal: 15.2s\tremaining: 1m\n",
      "700:\ttest: 0.8762244\tbest: 0.8762244 (700)\ttotal: 18s\tremaining: 59s\n",
      "800:\ttest: 0.8764366\tbest: 0.8764366 (800)\ttotal: 20.8s\tremaining: 57.2s\n",
      "900:\ttest: 0.8766219\tbest: 0.8766219 (900)\ttotal: 23.3s\tremaining: 54.2s\n",
      "1000:\ttest: 0.8767595\tbest: 0.8767601 (999)\ttotal: 25.8s\tremaining: 51.5s\n",
      "1100:\ttest: 0.8768764\tbest: 0.8768764 (1100)\ttotal: 28.3s\tremaining: 48.8s\n",
      "1200:\ttest: 0.8769976\tbest: 0.8770051 (1192)\ttotal: 30.8s\tremaining: 46.1s\n",
      "1300:\ttest: 0.8771172\tbest: 0.8771172 (1300)\ttotal: 33.3s\tremaining: 43.4s\n",
      "1400:\ttest: 0.8771524\tbest: 0.8771555 (1380)\ttotal: 35.8s\tremaining: 40.9s\n",
      "1500:\ttest: 0.8772094\tbest: 0.8772209 (1477)\ttotal: 38.4s\tremaining: 38.4s\n",
      "Stopped by overfitting detector  (100 iterations wait)\n",
      "\n",
      "bestTest = 0.8772208829\n",
      "bestIteration = 1477\n",
      "\n",
      "Shrink model to first 1478 iterations.\n",
      "\n",
      "===== Start working with fold 2 for Lvl_0_Pipe_1_Mod_3_CatBoost =====\n",
      "\n",
      "0:\ttest: 0.8482897\tbest: 0.8482897 (0)\ttotal: 24.8ms\tremaining: 1m 14s\n",
      "100:\ttest: 0.8724870\tbest: 0.8724870 (100)\ttotal: 2.83s\tremaining: 1m 21s\n",
      "200:\ttest: 0.8752606\tbest: 0.8752606 (200)\ttotal: 5.49s\tremaining: 1m 16s\n",
      "300:\ttest: 0.8761681\tbest: 0.8761681 (300)\ttotal: 8.26s\tremaining: 1m 14s\n",
      "400:\ttest: 0.8768000\tbest: 0.8768000 (400)\ttotal: 10.8s\tremaining: 1m 9s\n",
      "500:\ttest: 0.8773141\tbest: 0.8773144 (499)\ttotal: 13.3s\tremaining: 1m 6s\n",
      "600:\ttest: 0.8776942\tbest: 0.8776986 (596)\ttotal: 15.8s\tremaining: 1m 3s\n",
      "700:\ttest: 0.8778957\tbest: 0.8778957 (700)\ttotal: 18.3s\tremaining: 1m\n",
      "800:\ttest: 0.8780593\tbest: 0.8780608 (799)\ttotal: 20.8s\tremaining: 57.2s\n",
      "900:\ttest: 0.8782354\tbest: 0.8782354 (900)\ttotal: 23.4s\tremaining: 54.4s\n",
      "1000:\ttest: 0.8783664\tbest: 0.8783664 (1000)\ttotal: 25.8s\tremaining: 51.6s\n",
      "1100:\ttest: 0.8784647\tbest: 0.8784739 (1092)\ttotal: 28.4s\tremaining: 48.9s\n",
      "1200:\ttest: 0.8785284\tbest: 0.8785306 (1196)\ttotal: 30.8s\tremaining: 46.2s\n",
      "1300:\ttest: 0.8785609\tbest: 0.8785624 (1298)\ttotal: 33.4s\tremaining: 43.6s\n",
      "1400:\ttest: 0.8786170\tbest: 0.8786170 (1400)\ttotal: 35.8s\tremaining: 40.9s\n",
      "1500:\ttest: 0.8786514\tbest: 0.8786597 (1493)\ttotal: 38.3s\tremaining: 38.3s\n",
      "1600:\ttest: 0.8786637\tbest: 0.8786755 (1551)\ttotal: 40.8s\tremaining: 35.7s\n",
      "1700:\ttest: 0.8787192\tbest: 0.8787192 (1699)\ttotal: 43.4s\tremaining: 33.1s\n",
      "1800:\ttest: 0.8787824\tbest: 0.8787824 (1800)\ttotal: 45.9s\tremaining: 30.6s\n",
      "1900:\ttest: 0.8787968\tbest: 0.8788071 (1879)\ttotal: 48.4s\tremaining: 28s\n",
      "2000:\ttest: 0.8788561\tbest: 0.8788587 (1975)\ttotal: 50.8s\tremaining: 25.4s\n",
      "2100:\ttest: 0.8788670\tbest: 0.8788710 (2095)\ttotal: 53.3s\tremaining: 22.8s\n",
      "2200:\ttest: 0.8788760\tbest: 0.8788870 (2187)\ttotal: 55.8s\tremaining: 20.3s\n",
      "2300:\ttest: 0.8788767\tbest: 0.8789020 (2244)\ttotal: 58.4s\tremaining: 17.7s\n",
      "Stopped by overfitting detector  (100 iterations wait)\n",
      "\n",
      "bestTest = 0.8789019565\n",
      "bestIteration = 2244\n",
      "\n",
      "Shrink model to first 2245 iterations.\n",
      "\n",
      "===== Start working with fold 3 for Lvl_0_Pipe_1_Mod_3_CatBoost =====\n",
      "\n",
      "0:\ttest: 0.8439598\tbest: 0.8439598 (0)\ttotal: 23.6ms\tremaining: 1m 10s\n",
      "100:\ttest: 0.8628532\tbest: 0.8628532 (100)\ttotal: 2.5s\tremaining: 1m 11s\n",
      "200:\ttest: 0.8648836\tbest: 0.8648836 (200)\ttotal: 4.96s\tremaining: 1m 9s\n",
      "300:\ttest: 0.8655018\tbest: 0.8655138 (294)\ttotal: 7.37s\tremaining: 1m 6s\n",
      "400:\ttest: 0.8659423\tbest: 0.8659423 (400)\ttotal: 9.9s\tremaining: 1m 4s\n",
      "500:\ttest: 0.8663171\tbest: 0.8663171 (500)\ttotal: 12.3s\tremaining: 1m 1s\n",
      "600:\ttest: 0.8666904\tbest: 0.8666963 (595)\ttotal: 14.7s\tremaining: 58.7s\n",
      "700:\ttest: 0.8668548\tbest: 0.8668633 (692)\ttotal: 17.3s\tremaining: 56.8s\n",
      "800:\ttest: 0.8670517\tbest: 0.8670542 (789)\ttotal: 19.8s\tremaining: 54.5s\n",
      "900:\ttest: 0.8672564\tbest: 0.8672564 (900)\ttotal: 22.5s\tremaining: 52.4s\n",
      "1000:\ttest: 0.8673723\tbest: 0.8673724 (999)\ttotal: 25s\tremaining: 49.9s\n",
      "1100:\ttest: 0.8674230\tbest: 0.8674326 (1023)\ttotal: 27.5s\tremaining: 47.4s\n",
      "Stopped by overfitting detector  (100 iterations wait)\n",
      "\n",
      "bestTest = 0.8674326337\n",
      "bestIteration = 1023\n",
      "\n",
      "Shrink model to first 1024 iterations.\n",
      "\n",
      "===== Start working with fold 4 for Lvl_0_Pipe_1_Mod_3_CatBoost =====\n",
      "\n",
      "0:\ttest: 0.8408895\tbest: 0.8408895 (0)\ttotal: 21.9ms\tremaining: 1m 5s\n",
      "100:\ttest: 0.8709116\tbest: 0.8709116 (100)\ttotal: 2.54s\tremaining: 1m 12s\n",
      "200:\ttest: 0.8732007\tbest: 0.8732007 (200)\ttotal: 5.03s\tremaining: 1m 9s\n",
      "300:\ttest: 0.8743688\tbest: 0.8743688 (300)\ttotal: 7.51s\tremaining: 1m 7s\n",
      "400:\ttest: 0.8749758\tbest: 0.8749758 (400)\ttotal: 9.97s\tremaining: 1m 4s\n",
      "500:\ttest: 0.8755383\tbest: 0.8755439 (499)\ttotal: 12.4s\tremaining: 1m 2s\n",
      "600:\ttest: 0.8757355\tbest: 0.8757362 (599)\ttotal: 14.9s\tremaining: 59.6s\n",
      "700:\ttest: 0.8760258\tbest: 0.8760262 (699)\ttotal: 17.4s\tremaining: 57.1s\n",
      "800:\ttest: 0.8762498\tbest: 0.8762514 (797)\ttotal: 19.9s\tremaining: 54.6s\n",
      "900:\ttest: 0.8763953\tbest: 0.8763986 (898)\ttotal: 22.4s\tremaining: 52.2s\n",
      "1000:\ttest: 0.8764913\tbest: 0.8765021 (992)\ttotal: 24.9s\tremaining: 49.7s\n",
      "1100:\ttest: 0.8765337\tbest: 0.8765484 (1092)\ttotal: 27.4s\tremaining: 47.2s\n",
      "1200:\ttest: 0.8765669\tbest: 0.8765715 (1197)\ttotal: 29.8s\tremaining: 44.7s\n",
      "1300:\ttest: 0.8766130\tbest: 0.8766147 (1290)\ttotal: 32.3s\tremaining: 42.2s\n",
      "1400:\ttest: 0.8766984\tbest: 0.8767013 (1379)\ttotal: 34.8s\tremaining: 39.7s\n",
      "1500:\ttest: 0.8767298\tbest: 0.8767309 (1498)\ttotal: 37.3s\tremaining: 37.2s\n",
      "1600:\ttest: 0.8767547\tbest: 0.8767547 (1600)\ttotal: 39.8s\tremaining: 34.7s\n",
      "1700:\ttest: 0.8768196\tbest: 0.8768203 (1689)\ttotal: 42.2s\tremaining: 32.3s\n",
      "1800:\ttest: 0.8768199\tbest: 0.8768313 (1734)\ttotal: 44.7s\tremaining: 29.8s\n",
      "Stopped by overfitting detector  (100 iterations wait)\n",
      "\n",
      "bestTest = 0.8768312988\n",
      "bestIteration = 1734\n",
      "\n",
      "Shrink model to first 1735 iterations.\n",
      "Lvl_0_Pipe_1_Mod_3_CatBoost fitting and predicting completed\n",
      "Time left 331.2438290119171\n",
      "Blending: Optimization starts with equal weights and score 0.8741691945066827\n",
      "Blending, iter 0: score = 0.8753012046977986, weights = [0.         0.1312199  0.69117963 0.06747189 0.11012863]\n",
      "Blending, iter 1: score = 0.8753045211224529, weights = [0.         0.17239544 0.64583635 0.06304556 0.11872264]\n"
     ]
    },
    {
     "name": "stdout",
     "output_type": "stream",
     "text": [
      "Blending, iter 2: score = 0.8753048554250373, weights = [0.         0.16420695 0.6592338  0.05454513 0.12201405]\n",
      "Blending, iter 3: score = 0.8753049310811087, weights = [0.         0.17355274 0.64841527 0.05500015 0.12303188]\n",
      "Blending, iter 4: score = 0.8753049310811087, weights = [0.         0.17355274 0.64841527 0.05500015 0.12303188]\n",
      "No score update. Terminated\n",
      "\n",
      "Automl preset training completed in 880.14 seconds.\n"
     ]
    },
    {
     "name": "stderr",
     "output_type": "stream",
     "text": [
      "[2021-05-30 23:30:36,249] (INFO): oof_pred:\n",
      "array([[0.14758703],\n",
      "       [0.05164918],\n",
      "       [0.28519446],\n",
      "       ...,\n",
      "       [0.09277727],\n",
      "       [0.05211974],\n",
      "       [0.05716815]], dtype=float32)\n",
      "Shape = (196580, 1)\n"
     ]
    }
   ],
   "source": [
    "automl = TabularUtilizedAutoML(task = task, \n",
    "                       timeout = TIMEOUT,\n",
    "                       cpu_limit = N_THREADS,\n",
    "                       reader_params = {'n_jobs': N_THREADS, 'cv': N_FOLDS, 'random_state': RANDOM_STATE},\n",
    "                      )\n",
    "oof_pred = automl.fit_predict(train_data, roles = roles)\n",
    "logging.info('oof_pred:\\n{}\\nShape = {}'.format(oof_pred, oof_pred.shape))"
   ]
  },
  {
   "cell_type": "code",
   "execution_count": 11,
   "metadata": {},
   "outputs": [
    {
     "name": "stderr",
     "output_type": "stream",
     "text": [
      "No feature importances to show. Please use another calculation method\n"
     ]
    },
    {
     "ename": "AttributeError",
     "evalue": "'NoneType' object has no attribute 'set_index'",
     "output_type": "error",
     "traceback": [
      "\u001b[1;31m---------------------------------------------------------------------------\u001b[0m",
      "\u001b[1;31mAttributeError\u001b[0m                            Traceback (most recent call last)",
      "\u001b[1;32m<ipython-input-11-e7aae7e60605>\u001b[0m in \u001b[0;36m<module>\u001b[1;34m\u001b[0m\n\u001b[0;32m      1\u001b[0m \u001b[0mfast_fi\u001b[0m \u001b[1;33m=\u001b[0m \u001b[0mautoml\u001b[0m\u001b[1;33m.\u001b[0m\u001b[0mget_feature_scores\u001b[0m\u001b[1;33m(\u001b[0m\u001b[1;34m'fast'\u001b[0m\u001b[1;33m,\u001b[0m \u001b[0msilent\u001b[0m \u001b[1;33m=\u001b[0m \u001b[1;32mFalse\u001b[0m\u001b[1;33m)\u001b[0m\u001b[1;33m\u001b[0m\u001b[1;33m\u001b[0m\u001b[0m\n\u001b[1;32m----> 2\u001b[1;33m \u001b[0mfast_fi\u001b[0m\u001b[1;33m.\u001b[0m\u001b[0mset_index\u001b[0m\u001b[1;33m(\u001b[0m\u001b[1;34m'Feature'\u001b[0m\u001b[1;33m)\u001b[0m\u001b[1;33m[\u001b[0m\u001b[1;34m'Importance'\u001b[0m\u001b[1;33m]\u001b[0m\u001b[1;33m.\u001b[0m\u001b[0mplot\u001b[0m\u001b[1;33m.\u001b[0m\u001b[0mbar\u001b[0m\u001b[1;33m(\u001b[0m\u001b[0mfigsize\u001b[0m \u001b[1;33m=\u001b[0m \u001b[1;33m(\u001b[0m\u001b[1;36m20\u001b[0m\u001b[1;33m,\u001b[0m \u001b[1;36m10\u001b[0m\u001b[1;33m)\u001b[0m\u001b[1;33m,\u001b[0m \u001b[0mgrid\u001b[0m \u001b[1;33m=\u001b[0m \u001b[1;32mTrue\u001b[0m\u001b[1;33m)\u001b[0m\u001b[1;33m\u001b[0m\u001b[1;33m\u001b[0m\u001b[0m\n\u001b[0m",
      "\u001b[1;31mAttributeError\u001b[0m: 'NoneType' object has no attribute 'set_index'"
     ]
    }
   ],
   "source": [
    "#fast_fi = automl.get_feature_scores('fast', silent = False)\n",
    "#fast_fi.set_index('Feature')['Importance'].plot.bar(figsize = (20, 10), grid = True)"
   ]
  },
  {
   "cell_type": "code",
   "execution_count": 15,
   "metadata": {},
   "outputs": [
    {
     "data": {
      "text/html": [
       "<div>\n",
       "<style scoped>\n",
       "    .dataframe tbody tr th:only-of-type {\n",
       "        vertical-align: middle;\n",
       "    }\n",
       "\n",
       "    .dataframe tbody tr th {\n",
       "        vertical-align: top;\n",
       "    }\n",
       "\n",
       "    .dataframe thead th {\n",
       "        text-align: right;\n",
       "    }\n",
       "</style>\n",
       "<table border=\"1\" class=\"dataframe\">\n",
       "  <thead>\n",
       "    <tr style=\"text-align: right;\">\n",
       "      <th></th>\n",
       "      <th>Gender</th>\n",
       "      <th>Age</th>\n",
       "      <th>Region_Code</th>\n",
       "      <th>Occupation</th>\n",
       "      <th>Channel_Code</th>\n",
       "      <th>Vintage</th>\n",
       "      <th>Credit_Product</th>\n",
       "      <th>Avg_Account_Balance</th>\n",
       "      <th>Is_Active</th>\n",
       "      <th>Is_Lead</th>\n",
       "    </tr>\n",
       "  </thead>\n",
       "  <tbody>\n",
       "    <tr>\n",
       "      <th>0</th>\n",
       "      <td>Male</td>\n",
       "      <td>29</td>\n",
       "      <td>RG254</td>\n",
       "      <td>Other</td>\n",
       "      <td>X1</td>\n",
       "      <td>25</td>\n",
       "      <td>Yes</td>\n",
       "      <td>742366</td>\n",
       "      <td>No</td>\n",
       "      <td>0</td>\n",
       "    </tr>\n",
       "    <tr>\n",
       "      <th>1</th>\n",
       "      <td>Male</td>\n",
       "      <td>43</td>\n",
       "      <td>RG268</td>\n",
       "      <td>Other</td>\n",
       "      <td>X2</td>\n",
       "      <td>49</td>\n",
       "      <td>NaN</td>\n",
       "      <td>925537</td>\n",
       "      <td>No</td>\n",
       "      <td>0</td>\n",
       "    </tr>\n",
       "    <tr>\n",
       "      <th>2</th>\n",
       "      <td>Male</td>\n",
       "      <td>31</td>\n",
       "      <td>RG270</td>\n",
       "      <td>Salaried</td>\n",
       "      <td>X1</td>\n",
       "      <td>14</td>\n",
       "      <td>No</td>\n",
       "      <td>215949</td>\n",
       "      <td>No</td>\n",
       "      <td>0</td>\n",
       "    </tr>\n",
       "    <tr>\n",
       "      <th>3</th>\n",
       "      <td>Male</td>\n",
       "      <td>29</td>\n",
       "      <td>RG272</td>\n",
       "      <td>Other</td>\n",
       "      <td>X1</td>\n",
       "      <td>33</td>\n",
       "      <td>No</td>\n",
       "      <td>868070</td>\n",
       "      <td>No</td>\n",
       "      <td>0</td>\n",
       "    </tr>\n",
       "    <tr>\n",
       "      <th>4</th>\n",
       "      <td>Female</td>\n",
       "      <td>29</td>\n",
       "      <td>RG270</td>\n",
       "      <td>Other</td>\n",
       "      <td>X1</td>\n",
       "      <td>19</td>\n",
       "      <td>No</td>\n",
       "      <td>657087</td>\n",
       "      <td>No</td>\n",
       "      <td>0</td>\n",
       "    </tr>\n",
       "  </tbody>\n",
       "</table>\n",
       "</div>"
      ],
      "text/plain": [
       "   Gender  Age Region_Code Occupation Channel_Code  Vintage Credit_Product  \\\n",
       "0    Male   29       RG254      Other           X1       25            Yes   \n",
       "1    Male   43       RG268      Other           X2       49            NaN   \n",
       "2    Male   31       RG270   Salaried           X1       14             No   \n",
       "3    Male   29       RG272      Other           X1       33             No   \n",
       "4  Female   29       RG270      Other           X1       19             No   \n",
       "\n",
       "   Avg_Account_Balance Is_Active  Is_Lead  \n",
       "0               742366        No        0  \n",
       "1               925537        No        0  \n",
       "2               215949        No        0  \n",
       "3               868070        No        0  \n",
       "4               657087        No        0  "
      ]
     },
     "execution_count": 15,
     "metadata": {},
     "output_type": "execute_result"
    }
   ],
   "source": [
    "test = pd.read_csv(\"test.csv\")\n",
    "test['Is_Lead'] =[0]*test.shape[0]\n",
    "test.drop(['ID'],inplace=True,axis=1)\n",
    "test.head()"
   ]
  },
  {
   "cell_type": "code",
   "execution_count": 16,
   "metadata": {},
   "outputs": [
    {
     "data": {
      "text/html": [
       "<div>\n",
       "<style scoped>\n",
       "    .dataframe tbody tr th:only-of-type {\n",
       "        vertical-align: middle;\n",
       "    }\n",
       "\n",
       "    .dataframe tbody tr th {\n",
       "        vertical-align: top;\n",
       "    }\n",
       "\n",
       "    .dataframe thead th {\n",
       "        text-align: right;\n",
       "    }\n",
       "</style>\n",
       "<table border=\"1\" class=\"dataframe\">\n",
       "  <thead>\n",
       "    <tr style=\"text-align: right;\">\n",
       "      <th></th>\n",
       "      <th>Gender</th>\n",
       "      <th>Age</th>\n",
       "      <th>Region_Code</th>\n",
       "      <th>Occupation</th>\n",
       "      <th>Channel_Code</th>\n",
       "      <th>Vintage</th>\n",
       "      <th>Credit_Product</th>\n",
       "      <th>Avg_Account_Balance</th>\n",
       "      <th>Is_Active</th>\n",
       "      <th>Is_Lead</th>\n",
       "    </tr>\n",
       "  </thead>\n",
       "  <tbody>\n",
       "    <tr>\n",
       "      <th>30702</th>\n",
       "      <td>Male</td>\n",
       "      <td>59</td>\n",
       "      <td>RG283</td>\n",
       "      <td>Self_Employed</td>\n",
       "      <td>X3</td>\n",
       "      <td>51</td>\n",
       "      <td>No</td>\n",
       "      <td>844547</td>\n",
       "      <td>Yes</td>\n",
       "      <td>0</td>\n",
       "    </tr>\n",
       "    <tr>\n",
       "      <th>217904</th>\n",
       "      <td>Female</td>\n",
       "      <td>27</td>\n",
       "      <td>RG264</td>\n",
       "      <td>Salaried</td>\n",
       "      <td>X1</td>\n",
       "      <td>14</td>\n",
       "      <td>Yes</td>\n",
       "      <td>884535</td>\n",
       "      <td>No</td>\n",
       "      <td>0</td>\n",
       "    </tr>\n",
       "    <tr>\n",
       "      <th>81680</th>\n",
       "      <td>Male</td>\n",
       "      <td>49</td>\n",
       "      <td>RG284</td>\n",
       "      <td>Salaried</td>\n",
       "      <td>X3</td>\n",
       "      <td>109</td>\n",
       "      <td>Yes</td>\n",
       "      <td>3390285</td>\n",
       "      <td>Yes</td>\n",
       "      <td>1</td>\n",
       "    </tr>\n",
       "    <tr>\n",
       "      <th>157008</th>\n",
       "      <td>Male</td>\n",
       "      <td>62</td>\n",
       "      <td>RG272</td>\n",
       "      <td>Other</td>\n",
       "      <td>X2</td>\n",
       "      <td>69</td>\n",
       "      <td>NaN</td>\n",
       "      <td>1171774</td>\n",
       "      <td>No</td>\n",
       "      <td>1</td>\n",
       "    </tr>\n",
       "    <tr>\n",
       "      <th>83329</th>\n",
       "      <td>Male</td>\n",
       "      <td>32</td>\n",
       "      <td>RG262</td>\n",
       "      <td>Self_Employed</td>\n",
       "      <td>X3</td>\n",
       "      <td>32</td>\n",
       "      <td>No</td>\n",
       "      <td>1965556</td>\n",
       "      <td>Yes</td>\n",
       "      <td>0</td>\n",
       "    </tr>\n",
       "  </tbody>\n",
       "</table>\n",
       "</div>"
      ],
      "text/plain": [
       "        Gender  Age Region_Code     Occupation Channel_Code  Vintage  \\\n",
       "30702     Male   59       RG283  Self_Employed           X3       51   \n",
       "217904  Female   27       RG264       Salaried           X1       14   \n",
       "81680     Male   49       RG284       Salaried           X3      109   \n",
       "157008    Male   62       RG272          Other           X2       69   \n",
       "83329     Male   32       RG262  Self_Employed           X3       32   \n",
       "\n",
       "       Credit_Product  Avg_Account_Balance Is_Active  Is_Lead  \n",
       "30702              No               844547       Yes        0  \n",
       "217904            Yes               884535        No        0  \n",
       "81680             Yes              3390285       Yes        1  \n",
       "157008            NaN              1171774        No        1  \n",
       "83329              No              1965556       Yes        0  "
      ]
     },
     "execution_count": 16,
     "metadata": {},
     "output_type": "execute_result"
    }
   ],
   "source": [
    "test_data.head()"
   ]
  },
  {
   "cell_type": "code",
   "execution_count": 17,
   "metadata": {},
   "outputs": [
    {
     "data": {
      "text/html": [
       "<div>\n",
       "<style scoped>\n",
       "    .dataframe tbody tr th:only-of-type {\n",
       "        vertical-align: middle;\n",
       "    }\n",
       "\n",
       "    .dataframe tbody tr th {\n",
       "        vertical-align: top;\n",
       "    }\n",
       "\n",
       "    .dataframe thead th {\n",
       "        text-align: right;\n",
       "    }\n",
       "</style>\n",
       "<table border=\"1\" class=\"dataframe\">\n",
       "  <thead>\n",
       "    <tr style=\"text-align: right;\">\n",
       "      <th></th>\n",
       "      <th>Gender</th>\n",
       "      <th>Age</th>\n",
       "      <th>Region_Code</th>\n",
       "      <th>Occupation</th>\n",
       "      <th>Channel_Code</th>\n",
       "      <th>Vintage</th>\n",
       "      <th>Credit_Product</th>\n",
       "      <th>Avg_Account_Balance</th>\n",
       "      <th>Is_Active</th>\n",
       "      <th>Is_Lead</th>\n",
       "    </tr>\n",
       "  </thead>\n",
       "  <tbody>\n",
       "    <tr>\n",
       "      <th>0</th>\n",
       "      <td>Male</td>\n",
       "      <td>29</td>\n",
       "      <td>RG254</td>\n",
       "      <td>Other</td>\n",
       "      <td>X1</td>\n",
       "      <td>25</td>\n",
       "      <td>Yes</td>\n",
       "      <td>742366</td>\n",
       "      <td>No</td>\n",
       "      <td>0</td>\n",
       "    </tr>\n",
       "    <tr>\n",
       "      <th>1</th>\n",
       "      <td>Male</td>\n",
       "      <td>43</td>\n",
       "      <td>RG268</td>\n",
       "      <td>Other</td>\n",
       "      <td>X2</td>\n",
       "      <td>49</td>\n",
       "      <td>NaN</td>\n",
       "      <td>925537</td>\n",
       "      <td>No</td>\n",
       "      <td>0</td>\n",
       "    </tr>\n",
       "    <tr>\n",
       "      <th>2</th>\n",
       "      <td>Male</td>\n",
       "      <td>31</td>\n",
       "      <td>RG270</td>\n",
       "      <td>Salaried</td>\n",
       "      <td>X1</td>\n",
       "      <td>14</td>\n",
       "      <td>No</td>\n",
       "      <td>215949</td>\n",
       "      <td>No</td>\n",
       "      <td>0</td>\n",
       "    </tr>\n",
       "    <tr>\n",
       "      <th>3</th>\n",
       "      <td>Male</td>\n",
       "      <td>29</td>\n",
       "      <td>RG272</td>\n",
       "      <td>Other</td>\n",
       "      <td>X1</td>\n",
       "      <td>33</td>\n",
       "      <td>No</td>\n",
       "      <td>868070</td>\n",
       "      <td>No</td>\n",
       "      <td>0</td>\n",
       "    </tr>\n",
       "    <tr>\n",
       "      <th>4</th>\n",
       "      <td>Female</td>\n",
       "      <td>29</td>\n",
       "      <td>RG270</td>\n",
       "      <td>Other</td>\n",
       "      <td>X1</td>\n",
       "      <td>19</td>\n",
       "      <td>No</td>\n",
       "      <td>657087</td>\n",
       "      <td>No</td>\n",
       "      <td>0</td>\n",
       "    </tr>\n",
       "  </tbody>\n",
       "</table>\n",
       "</div>"
      ],
      "text/plain": [
       "   Gender  Age Region_Code Occupation Channel_Code  Vintage Credit_Product  \\\n",
       "0    Male   29       RG254      Other           X1       25            Yes   \n",
       "1    Male   43       RG268      Other           X2       49            NaN   \n",
       "2    Male   31       RG270   Salaried           X1       14             No   \n",
       "3    Male   29       RG272      Other           X1       33             No   \n",
       "4  Female   29       RG270      Other           X1       19             No   \n",
       "\n",
       "   Avg_Account_Balance Is_Active  Is_Lead  \n",
       "0               742366        No        0  \n",
       "1               925537        No        0  \n",
       "2               215949        No        0  \n",
       "3               868070        No        0  \n",
       "4               657087        No        0  "
      ]
     },
     "execution_count": 17,
     "metadata": {},
     "output_type": "execute_result"
    }
   ],
   "source": [
    "test.head()"
   ]
  },
  {
   "cell_type": "code",
   "execution_count": 18,
   "metadata": {},
   "outputs": [],
   "source": [
    "test_pred = automl.predict(test)"
   ]
  },
  {
   "cell_type": "code",
   "execution_count": 19,
   "metadata": {},
   "outputs": [],
   "source": [
    "t = list(test_pred.data[:,0])\n",
    "df = pd.read_csv(\"test.csv\")\n",
    "ids  = df['ID']\n",
    "ans=pd.DataFrame()\n",
    "ans['ID']=ids\n",
    "ans['Is_Lead']=t\n",
    "ans.to_csv(\"auto.csv\",index=False)"
   ]
  },
  {
   "cell_type": "code",
   "execution_count": null,
   "metadata": {},
   "outputs": [],
   "source": []
  }
 ],
 "metadata": {
  "kernelspec": {
   "display_name": "Python 3",
   "language": "python",
   "name": "python3"
  },
  "language_info": {
   "codemirror_mode": {
    "name": "ipython",
    "version": 3
   },
   "file_extension": ".py",
   "mimetype": "text/x-python",
   "name": "python",
   "nbconvert_exporter": "python",
   "pygments_lexer": "ipython3",
   "version": "3.8.3"
  }
 },
 "nbformat": 4,
 "nbformat_minor": 4
}
